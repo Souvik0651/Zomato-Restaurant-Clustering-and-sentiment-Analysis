{
  "nbformat": 4,
  "nbformat_minor": 0,
  "metadata": {
    "colab": {
      "provenance": [],
      "authorship_tag": "ABX9TyMIMF3jXwSVxCEsEPoYEqwC",
      "include_colab_link": true
    },
    "kernelspec": {
      "name": "python3",
      "display_name": "Python 3"
    },
    "language_info": {
      "name": "python"
    }
  },
  "cells": [
    {
      "cell_type": "markdown",
      "metadata": {
        "id": "view-in-github",
        "colab_type": "text"
      },
      "source": [
        "<a href=\"https://colab.research.google.com/github/Souvik0651/Zomato-Restaurant-Clustering-and-sentiment-Analysis/blob/main/Zomato_Restaurant_Clustering_and_sentiment_Analysis.ipynb\" target=\"_parent\"><img src=\"https://colab.research.google.com/assets/colab-badge.svg\" alt=\"Open In Colab\"/></a>"
      ]
    },
    {
      "cell_type": "code",
      "execution_count": 96,
      "metadata": {
        "id": "bDQsiPEVGHWU"
      },
      "outputs": [],
      "source": [
        "import pandas as pd\n",
        "import numpy as np\n",
        "import matplotlib.pyplot as plt\n",
        "import seaborn as sns"
      ]
    },
    {
      "cell_type": "code",
      "source": [
        "from google.colab import drive\n",
        "drive.mount('/content/drive')"
      ],
      "metadata": {
        "colab": {
          "base_uri": "https://localhost:8080/"
        },
        "id": "QgW2JXg5MIXa",
        "outputId": "ab9ef694-ea58-4909-f040-a1d9aeacf5cb"
      },
      "execution_count": 97,
      "outputs": [
        {
          "output_type": "stream",
          "name": "stdout",
          "text": [
            "Drive already mounted at /content/drive; to attempt to forcibly remount, call drive.mount(\"/content/drive\", force_remount=True).\n"
          ]
        }
      ]
    },
    {
      "cell_type": "code",
      "source": [
        "df=pd.read_csv('/content/drive/MyDrive/Colab Notebooks/Capstone project4- Unsupervised/Zomato Restaurant names and Metadata.csv')"
      ],
      "metadata": {
        "id": "IEqoRxYzMPtJ"
      },
      "execution_count": 98,
      "outputs": []
    },
    {
      "cell_type": "code",
      "source": [
        "df.head(2)"
      ],
      "metadata": {
        "colab": {
          "base_uri": "https://localhost:8080/",
          "height": 191
        },
        "id": "UJb_rux4M4bH",
        "outputId": "7959346c-f80e-4b3b-9c6a-4ac99b547b36"
      },
      "execution_count": 99,
      "outputs": [
        {
          "output_type": "execute_result",
          "data": {
            "text/plain": [
              "              Name                                              Links Cost  \\\n",
              "0  Beyond Flavours  https://www.zomato.com/hyderabad/beyond-flavou...  800   \n",
              "1         Paradise  https://www.zomato.com/hyderabad/paradise-gach...  800   \n",
              "\n",
              "                                         Collections  \\\n",
              "0  Food Hygiene Rated Restaurants in Hyderabad, C...   \n",
              "1                                Hyderabad's Hottest   \n",
              "\n",
              "                                            Cuisines  \\\n",
              "0  Chinese, Continental, Kebab, European, South I...   \n",
              "1                     Biryani, North Indian, Chinese   \n",
              "\n",
              "                                         Timings  \n",
              "0  12noon to 3:30pm, 6:30pm to 11:30pm (Mon-Sun)  \n",
              "1                                 11 AM to 11 PM  "
            ],
            "text/html": [
              "\n",
              "  <div id=\"df-31ce6fb1-48a1-487b-b75f-6e37329a265e\">\n",
              "    <div class=\"colab-df-container\">\n",
              "      <div>\n",
              "<style scoped>\n",
              "    .dataframe tbody tr th:only-of-type {\n",
              "        vertical-align: middle;\n",
              "    }\n",
              "\n",
              "    .dataframe tbody tr th {\n",
              "        vertical-align: top;\n",
              "    }\n",
              "\n",
              "    .dataframe thead th {\n",
              "        text-align: right;\n",
              "    }\n",
              "</style>\n",
              "<table border=\"1\" class=\"dataframe\">\n",
              "  <thead>\n",
              "    <tr style=\"text-align: right;\">\n",
              "      <th></th>\n",
              "      <th>Name</th>\n",
              "      <th>Links</th>\n",
              "      <th>Cost</th>\n",
              "      <th>Collections</th>\n",
              "      <th>Cuisines</th>\n",
              "      <th>Timings</th>\n",
              "    </tr>\n",
              "  </thead>\n",
              "  <tbody>\n",
              "    <tr>\n",
              "      <th>0</th>\n",
              "      <td>Beyond Flavours</td>\n",
              "      <td>https://www.zomato.com/hyderabad/beyond-flavou...</td>\n",
              "      <td>800</td>\n",
              "      <td>Food Hygiene Rated Restaurants in Hyderabad, C...</td>\n",
              "      <td>Chinese, Continental, Kebab, European, South I...</td>\n",
              "      <td>12noon to 3:30pm, 6:30pm to 11:30pm (Mon-Sun)</td>\n",
              "    </tr>\n",
              "    <tr>\n",
              "      <th>1</th>\n",
              "      <td>Paradise</td>\n",
              "      <td>https://www.zomato.com/hyderabad/paradise-gach...</td>\n",
              "      <td>800</td>\n",
              "      <td>Hyderabad's Hottest</td>\n",
              "      <td>Biryani, North Indian, Chinese</td>\n",
              "      <td>11 AM to 11 PM</td>\n",
              "    </tr>\n",
              "  </tbody>\n",
              "</table>\n",
              "</div>\n",
              "      <button class=\"colab-df-convert\" onclick=\"convertToInteractive('df-31ce6fb1-48a1-487b-b75f-6e37329a265e')\"\n",
              "              title=\"Convert this dataframe to an interactive table.\"\n",
              "              style=\"display:none;\">\n",
              "        \n",
              "  <svg xmlns=\"http://www.w3.org/2000/svg\" height=\"24px\"viewBox=\"0 0 24 24\"\n",
              "       width=\"24px\">\n",
              "    <path d=\"M0 0h24v24H0V0z\" fill=\"none\"/>\n",
              "    <path d=\"M18.56 5.44l.94 2.06.94-2.06 2.06-.94-2.06-.94-.94-2.06-.94 2.06-2.06.94zm-11 1L8.5 8.5l.94-2.06 2.06-.94-2.06-.94L8.5 2.5l-.94 2.06-2.06.94zm10 10l.94 2.06.94-2.06 2.06-.94-2.06-.94-.94-2.06-.94 2.06-2.06.94z\"/><path d=\"M17.41 7.96l-1.37-1.37c-.4-.4-.92-.59-1.43-.59-.52 0-1.04.2-1.43.59L10.3 9.45l-7.72 7.72c-.78.78-.78 2.05 0 2.83L4 21.41c.39.39.9.59 1.41.59.51 0 1.02-.2 1.41-.59l7.78-7.78 2.81-2.81c.8-.78.8-2.07 0-2.86zM5.41 20L4 18.59l7.72-7.72 1.47 1.35L5.41 20z\"/>\n",
              "  </svg>\n",
              "      </button>\n",
              "      \n",
              "  <style>\n",
              "    .colab-df-container {\n",
              "      display:flex;\n",
              "      flex-wrap:wrap;\n",
              "      gap: 12px;\n",
              "    }\n",
              "\n",
              "    .colab-df-convert {\n",
              "      background-color: #E8F0FE;\n",
              "      border: none;\n",
              "      border-radius: 50%;\n",
              "      cursor: pointer;\n",
              "      display: none;\n",
              "      fill: #1967D2;\n",
              "      height: 32px;\n",
              "      padding: 0 0 0 0;\n",
              "      width: 32px;\n",
              "    }\n",
              "\n",
              "    .colab-df-convert:hover {\n",
              "      background-color: #E2EBFA;\n",
              "      box-shadow: 0px 1px 2px rgba(60, 64, 67, 0.3), 0px 1px 3px 1px rgba(60, 64, 67, 0.15);\n",
              "      fill: #174EA6;\n",
              "    }\n",
              "\n",
              "    [theme=dark] .colab-df-convert {\n",
              "      background-color: #3B4455;\n",
              "      fill: #D2E3FC;\n",
              "    }\n",
              "\n",
              "    [theme=dark] .colab-df-convert:hover {\n",
              "      background-color: #434B5C;\n",
              "      box-shadow: 0px 1px 3px 1px rgba(0, 0, 0, 0.15);\n",
              "      filter: drop-shadow(0px 1px 2px rgba(0, 0, 0, 0.3));\n",
              "      fill: #FFFFFF;\n",
              "    }\n",
              "  </style>\n",
              "\n",
              "      <script>\n",
              "        const buttonEl =\n",
              "          document.querySelector('#df-31ce6fb1-48a1-487b-b75f-6e37329a265e button.colab-df-convert');\n",
              "        buttonEl.style.display =\n",
              "          google.colab.kernel.accessAllowed ? 'block' : 'none';\n",
              "\n",
              "        async function convertToInteractive(key) {\n",
              "          const element = document.querySelector('#df-31ce6fb1-48a1-487b-b75f-6e37329a265e');\n",
              "          const dataTable =\n",
              "            await google.colab.kernel.invokeFunction('convertToInteractive',\n",
              "                                                     [key], {});\n",
              "          if (!dataTable) return;\n",
              "\n",
              "          const docLinkHtml = 'Like what you see? Visit the ' +\n",
              "            '<a target=\"_blank\" href=https://colab.research.google.com/notebooks/data_table.ipynb>data table notebook</a>'\n",
              "            + ' to learn more about interactive tables.';\n",
              "          element.innerHTML = '';\n",
              "          dataTable['output_type'] = 'display_data';\n",
              "          await google.colab.output.renderOutput(dataTable, element);\n",
              "          const docLink = document.createElement('div');\n",
              "          docLink.innerHTML = docLinkHtml;\n",
              "          element.appendChild(docLink);\n",
              "        }\n",
              "      </script>\n",
              "    </div>\n",
              "  </div>\n",
              "  "
            ]
          },
          "metadata": {},
          "execution_count": 99
        }
      ]
    },
    {
      "cell_type": "code",
      "source": [
        "df.info()"
      ],
      "metadata": {
        "colab": {
          "base_uri": "https://localhost:8080/"
        },
        "id": "uetFrJddM7qL",
        "outputId": "7af4ef15-6bca-4795-e894-b7e08860e208"
      },
      "execution_count": 100,
      "outputs": [
        {
          "output_type": "stream",
          "name": "stdout",
          "text": [
            "<class 'pandas.core.frame.DataFrame'>\n",
            "RangeIndex: 105 entries, 0 to 104\n",
            "Data columns (total 6 columns):\n",
            " #   Column       Non-Null Count  Dtype \n",
            "---  ------       --------------  ----- \n",
            " 0   Name         105 non-null    object\n",
            " 1   Links        105 non-null    object\n",
            " 2   Cost         105 non-null    object\n",
            " 3   Collections  51 non-null     object\n",
            " 4   Cuisines     105 non-null    object\n",
            " 5   Timings      104 non-null    object\n",
            "dtypes: object(6)\n",
            "memory usage: 5.0+ KB\n"
          ]
        }
      ]
    },
    {
      "cell_type": "code",
      "source": [
        "df.drop('Collections',axis=1,inplace=True)"
      ],
      "metadata": {
        "id": "6zS5utCIM_o4"
      },
      "execution_count": 101,
      "outputs": []
    },
    {
      "cell_type": "code",
      "source": [
        "df.drop(df[df.Timings.isnull()].index,inplace=True)"
      ],
      "metadata": {
        "id": "JBq8SkkANiYZ"
      },
      "execution_count": 102,
      "outputs": []
    },
    {
      "cell_type": "code",
      "source": [
        "df.info()"
      ],
      "metadata": {
        "colab": {
          "base_uri": "https://localhost:8080/"
        },
        "id": "gQMi10oCORnY",
        "outputId": "c39ba731-bf24-4689-f67b-cf3fd5e50880"
      },
      "execution_count": 103,
      "outputs": [
        {
          "output_type": "stream",
          "name": "stdout",
          "text": [
            "<class 'pandas.core.frame.DataFrame'>\n",
            "Int64Index: 104 entries, 0 to 104\n",
            "Data columns (total 5 columns):\n",
            " #   Column    Non-Null Count  Dtype \n",
            "---  ------    --------------  ----- \n",
            " 0   Name      104 non-null    object\n",
            " 1   Links     104 non-null    object\n",
            " 2   Cost      104 non-null    object\n",
            " 3   Cuisines  104 non-null    object\n",
            " 4   Timings   104 non-null    object\n",
            "dtypes: object(5)\n",
            "memory usage: 4.9+ KB\n"
          ]
        }
      ]
    },
    {
      "cell_type": "code",
      "source": [
        "df.Name.unique()"
      ],
      "metadata": {
        "colab": {
          "base_uri": "https://localhost:8080/"
        },
        "id": "n0SQrHII4X3O",
        "outputId": "7cd2593e-9fa7-45f1-c43a-fdb2f7797cea"
      },
      "execution_count": 104,
      "outputs": [
        {
          "output_type": "execute_result",
          "data": {
            "text/plain": [
              "array(['Beyond Flavours', 'Paradise', 'Flechazo',\n",
              "       'Shah Ghouse Hotel & Restaurant', 'Over The Moon Brew Company',\n",
              "       \"The Fisherman's Wharf\", 'eat.fit', 'Shah Ghouse Spl Shawarma',\n",
              "       'Hyper Local', 'Cream Stone', \"Sardarji's Chaats & More\",\n",
              "       'Barbeque Nation', 'Absolute Sizzlers',\n",
              "       'The Lal Street - Bar Exchange', \"AB's - Absolute Barbecues\",\n",
              "       'KFC', 'NorFest - The Dhaba', 'Hotel Zara Hi-Fi',\n",
              "       '10 Downing Street', 'Pakwaan Grand', '13 Dhaba',\n",
              "       \"Jonathan's Kitchen - Holiday Inn Express & Suites\", 'B-Dubs',\n",
              "       'Amul', 'SKYHY', 'Tiki Shack', 'Mustang Terrace Lounge',\n",
              "       \"3B's - Buddies, Bar & Barbecue\", 'Behrouz Biryani',\n",
              "       'Hunger Maggi Point', 'Pista House', 'Marsala Food Company',\n",
              "       'Club Rogue', 'Mazzo - Marriott Executive Apartments',\n",
              "       'Green Bawarchi Restaurant', 'Banana Leaf Multicuisine Restaurant',\n",
              "       'Kritunga Restaurant', 'The Glass Onion', 'Deli 9 Bistro',\n",
              "       'Frio Bistro', 'Karachi Bakery', 'Karachi Cafe',\n",
              "       'The Foodie Monster Kitchen', 'La La Land - Bar & Kitchen',\n",
              "       'Owm Nom Nom', 'Ulavacharu', 'Shanghai Chef 2', \"Udipi's Upahar\",\n",
              "       'Mathura Vilas', 'Gal Punjab Di', 'Hitech Bawarchi Food Zone',\n",
              "       'Biryanis And More', 'Diners Pavilion', 'Asian Meal Box',\n",
              "       'Cafe Eclat', 'Feast - Sheraton Hyderabad Hotel', 'Being Hungry',\n",
              "       'Tempteys', 'KS Bakers', 'PourHouse7', 'Prism Club & Kitchen',\n",
              "       'Shree Santosh Dhaba Family Restaurant', 'Dine O China',\n",
              "       'Hyderabad Chefs', 'Komatose - Holiday Inn Express & Suites',\n",
              "       'Aromas@11SIX', 'Yum Yum Tree - The Arabian Food Court',\n",
              "       'The Tilt Bar Republic', 'The Indi Grill',\n",
              "       'Urban Asia - Kitchen & Bar', 'Eat India Company', 'Labonel',\n",
              "       'Driven Cafe', 'Faasos', 'Royal Spicy Restaurant',\n",
              "       'The Old Madras Baking Company', 'Squeeze @ The Lime',\n",
              "       'Khaan Saab', 'Olive Garden', 'Tandoori Food Works', 'Delhi-39',\n",
              "       'Al Saba Restaurant', \"GD's\", 'T Grill', 'Momos Delight',\n",
              "       'The Chocolate Room', 'American Wild Wings', \"Domino's Pizza\",\n",
              "       'Mohammedia Shawarma', 'Arena Eleven',\n",
              "       'Cascade - Radisson Hyderabad Hitec City',\n",
              "       'Collage - Hyatt Hyderabad Gachibowli', \"Zing's Northeast Kitchen\",\n",
              "       \"Dunkin' Donuts\", 'Desi Bytes', 'Hyderabadi Daawat',\n",
              "       'Zega - Sheraton Hyderabad Hotel', 'Triptify', 'Chinese Pavilion',\n",
              "       'IndiBlaze', 'Sweet Basket', 'Angaara Counts 3', 'Wich Please',\n",
              "       'Republic Of Noodles - Lemon Tree Hotel'], dtype=object)"
            ]
          },
          "metadata": {},
          "execution_count": 104
        }
      ]
    },
    {
      "cell_type": "code",
      "source": [
        "df.Links.unique()"
      ],
      "metadata": {
        "colab": {
          "base_uri": "https://localhost:8080/"
        },
        "id": "0b5bEo384l8V",
        "outputId": "512f2ec3-09f1-47de-8ba3-e91099d7909d"
      },
      "execution_count": 105,
      "outputs": [
        {
          "output_type": "execute_result",
          "data": {
            "text/plain": [
              "array(['https://www.zomato.com/hyderabad/beyond-flavours-gachibowli',\n",
              "       'https://www.zomato.com/hyderabad/paradise-gachibowli',\n",
              "       'https://www.zomato.com/hyderabad/flechazo-gachibowli',\n",
              "       'https://www.zomato.com/hyderabad/shah-ghouse-hotel-restaurant-gachibowli',\n",
              "       'https://www.zomato.com/hyderabad/over-the-moon-brew-company-gachibowli',\n",
              "       'https://www.zomato.com/hyderabad/the-fishermans-wharf-gachibowli',\n",
              "       'https://www.zomato.com/hyderabad/eat-fit-gachibowli',\n",
              "       'https://www.zomato.com/hyderabad/shah-ghouse-spl-shawarma-gachibowli',\n",
              "       'https://www.zomato.com/hyderabad/hyper-local-gachibowli',\n",
              "       'https://www.zomato.com/hyderabad/cream-stone-gachibowli',\n",
              "       'https://www.zomato.com/hyderabad/sardarjis-chaats-more-gachibowli',\n",
              "       'https://www.zomato.com/hyderabad/barbeque-nation-gachibowli',\n",
              "       'https://www.zomato.com/hyderabad/absolute-sizzlers-gachibowli',\n",
              "       'https://www.zomato.com/hyderabad/the-lal-street-bar-exchange-gachibowli',\n",
              "       'https://www.zomato.com/hyderabad/abs-absolute-barbecues-gachibowli',\n",
              "       'https://www.zomato.com/hyderabad/kfc-gachibowli',\n",
              "       'https://www.zomato.com/hyderabad/norfest-the-dhaba-gachibowli',\n",
              "       'https://www.zomato.com/hyderabad/hotel-zara-gachibowli',\n",
              "       'https://www.zomato.com/hyderabad/10-downing-street-gachibowli',\n",
              "       'https://www.zomato.com/hyderabad/pakwaan-grand-gachibowli',\n",
              "       'https://www.zomato.com/hyderabad/13-dhaba-gachibowli',\n",
              "       'https://www.zomato.com/hyderabad/jonathans-kitchen-holiday-inn-express-suites-gachibowli',\n",
              "       'https://www.zomato.com/hyderabad/b-dubs-gachibowli',\n",
              "       'https://www.zomato.com/hyderabad/amul-gachibowli',\n",
              "       'https://www.zomato.com/hyderabad/skyhy-gachibowli',\n",
              "       'https://www.zomato.com/hyderabad/tiki-shack-gachibowli',\n",
              "       'https://www.zomato.com/hyderabad/mustang-terrace-lounge-gachibowli',\n",
              "       'https://www.zomato.com/hyderabad/3bs-buddies-bar-barbecue-gachibowli',\n",
              "       'https://www.zomato.com/hyderabad/behrouz-biryani-gachibowli',\n",
              "       'https://www.zomato.com/hyderabad/hunger-maggi-point-gachibowli',\n",
              "       'https://www.zomato.com/hyderabad/pista-house-2-gachibowli',\n",
              "       'https://www.zomato.com/hyderabad/marsala-food-company-gachibowli',\n",
              "       'https://www.zomato.com/hyderabad/club-rogue-gachibowli',\n",
              "       'https://www.zomato.com/hyderabad/mazzo-marriott-executive-apartments-gachibowli',\n",
              "       'https://www.zomato.com/hyderabad/green-bawarchi-restaurant-gachibowli',\n",
              "       'https://www.zomato.com/hyderabad/banana-leaf-multicuisine-restaurant-gachibowli',\n",
              "       'https://www.zomato.com/hyderabad/kritunga-restaurant-gachibowli',\n",
              "       'https://www.zomato.com/hyderabad/the-glass-onion-gachibowli',\n",
              "       'https://www.zomato.com/hyderabad/deli-9-bistro-gachibowli',\n",
              "       'https://www.zomato.com/hyderabad/frio-bistro-gachibowli',\n",
              "       'https://www.zomato.com/hyderabad/karachi-bakery-gachibowli',\n",
              "       'https://www.zomato.com/hyderabad/karachi-cafe-gachibowli',\n",
              "       'https://www.zomato.com/hyderabad/the-foodie-monster-kitchen-gachibowli',\n",
              "       'https://www.zomato.com/hyderabad/la-la-land-bar-kitchen-gachibowli',\n",
              "       'https://www.zomato.com/hyderabad/owm-nom-nom-gachibowli',\n",
              "       'https://www.zomato.com/hyderabad/ulavacharu-gachibowli',\n",
              "       'https://www.zomato.com/hyderabad/shanghai-chef-2-gachibowli',\n",
              "       'https://www.zomato.com/hyderabad/udipis-upahar-gachibowli',\n",
              "       'https://www.zomato.com/hyderabad/mathura-vilas-gachibowli',\n",
              "       'https://www.zomato.com/hyderabad/gal-punjab-di-gachibowli',\n",
              "       'https://www.zomato.com/hyderabad/hitech-bawarchi-food-zone-gachibowli',\n",
              "       'https://www.zomato.com/hyderabad/biryanis-and-more-gachibowli',\n",
              "       'https://www.zomato.com/hyderabad/diners-pavilion-gachibowli',\n",
              "       'https://www.zomato.com/hyderabad/asian-meal-box-gachibowli',\n",
              "       'https://www.zomato.com/hyderabad/cafe-eclat-gachibowli',\n",
              "       'https://www.zomato.com/hyderabad/feast-sheraton-hyderabad-hotel-gachibowli',\n",
              "       'https://www.zomato.com/hyderabad/being-hungry-gachibowli',\n",
              "       'https://www.zomato.com/hyderabad/tempteys-gachibowli',\n",
              "       'https://www.zomato.com/hyderabad/ks-bakers-gachibowli',\n",
              "       'https://www.zomato.com/hyderabad/pourhouse7-gachibowli',\n",
              "       'https://www.zomato.com/hyderabad/prism-club-kitchen-gachibowli',\n",
              "       'https://www.zomato.com/hyderabad/shree-santosh-dhaba-family-restaurant-gachibowli',\n",
              "       'https://www.zomato.com/hyderabad/dine-o-china-gachibowli',\n",
              "       'https://www.zomato.com/hyderabad/hyderabad-chefs-gachibowli',\n",
              "       'https://www.zomato.com/hyderabad/komatose-holiday-inn-express-suites-gachibowli',\n",
              "       'https://www.zomato.com/hyderabad/aromas11six-gachibowli',\n",
              "       'https://www.zomato.com/hyderabad/yum-yum-tree-the-arabian-food-court-gachibowli',\n",
              "       'https://www.zomato.com/thetiltbarrepublic',\n",
              "       'https://www.zomato.com/hyderabad/the-indi-grill-gachibowli',\n",
              "       'https://www.zomato.com/hyderabad/urban-asia-kitchen-bar-gachibowli',\n",
              "       'https://www.zomato.com/hyderabad/eat-india-company-gachibowli',\n",
              "       'https://www.zomato.com/hyderabad/labonel-gachibowli',\n",
              "       'https://www.zomato.com/hyderabad/driven-cafe-gachibowli',\n",
              "       'https://www.zomato.com/hyderabad/faasos-gachibowli',\n",
              "       'https://www.zomato.com/hyderabad/royal-spicy-restaurant-gachibowli',\n",
              "       'https://www.zomato.com/hyderabad/the-old-madras-baking-company-gachibowli',\n",
              "       'https://www.zomato.com/hyderabad/squeeze-the-lime-gachibowli',\n",
              "       'https://www.zomato.com/hyderabad/khaan-saab-gachibowli',\n",
              "       'https://www.zomato.com/hyderabad/olive-garden-gachibowli',\n",
              "       'https://www.zomato.com/hyderabad/tandoori-food-works-gachibowli',\n",
              "       'https://www.zomato.com/hyderabad/delhi-39-gachibowli',\n",
              "       'https://www.zomato.com/hyderabad/al-saba-restaurant-gachibowli',\n",
              "       'https://www.zomato.com/hyderabad/gds-gachibowli',\n",
              "       'https://www.zomato.com/hyderabad/t-grill-gachibowli',\n",
              "       'https://www.zomato.com/hyderabad/momos-delight-gachibowli',\n",
              "       'https://www.zomato.com/hyderabad/the-chocolate-room-gachibowli',\n",
              "       'https://www.zomato.com/hyderabad/american-wild-wings-gachibowli',\n",
              "       'https://www.zomato.com/hyderabad/dominos-pizza-4-gachibowli',\n",
              "       'https://www.zomato.com/hyderabad/mohammedia-shawarma-gachibowli',\n",
              "       'https://www.zomato.com/hyderabad/arena-eleven-gachibowli',\n",
              "       'https://www.zomato.com/hyderabad/cascade-radisson-hyderabad-hitec-city-gachibowli',\n",
              "       'https://www.zomato.com/hyderabad/collage-hyatt-hyderabad-gachibowli-gachibowli',\n",
              "       'https://www.zomato.com/hyderabad/zings-northeast-kitchen-gachibowli',\n",
              "       'https://www.zomato.com/hyderabad/dunkin-donuts-gachibowli',\n",
              "       'https://www.zomato.com/hyderabad/desi-bytes-gachibowli',\n",
              "       'https://www.zomato.com/hyderabad/hyderabadi-daawat-1-gachibowli',\n",
              "       'https://www.zomato.com/hyderabad/zega-sheraton-hyderabad-hotel-gachibowli',\n",
              "       'https://www.zomato.com/hyderabad/triptify-gachibowli',\n",
              "       'https://www.zomato.com/hyderabad/chinese-pavilion-gachibowli',\n",
              "       'https://www.zomato.com/hyderabad/indiblaze-gachibowli',\n",
              "       'https://www.zomato.com/hyderabad/sweet-basket-gachibowli',\n",
              "       'https://www.zomato.com/hyderabad/angaara-counts-3-gachibowli',\n",
              "       'https://www.zomato.com/hyderabad/wich-please-1-gachibowli',\n",
              "       'https://www.zomato.com/hyderabad/republic-of-noodles-lemon-tree-hotel-gachibowli'],\n",
              "      dtype=object)"
            ]
          },
          "metadata": {},
          "execution_count": 105
        }
      ]
    },
    {
      "cell_type": "code",
      "source": [
        "df.drop('Links',axis='columns',inplace=True)"
      ],
      "metadata": {
        "id": "fRxMtMSZ6ICM"
      },
      "execution_count": 106,
      "outputs": []
    },
    {
      "cell_type": "code",
      "source": [
        "df.Cost.unique()"
      ],
      "metadata": {
        "colab": {
          "base_uri": "https://localhost:8080/"
        },
        "id": "j26qm6Oj81YZ",
        "outputId": "75fc660b-8cfb-473c-c74d-19d8ebb460cc"
      },
      "execution_count": 107,
      "outputs": [
        {
          "output_type": "execute_result",
          "data": {
            "text/plain": [
              "array(['800', '1,300', '1,200', '1,500', '500', '300', '1,000', '350',\n",
              "       '400', '1,600', '750', '550', '1,900', '450', '150', '1,400',\n",
              "       '1,100', '600', '200', '700', '900', '1,700', '2,500', '850',\n",
              "       '650', '1,800', '2,800', '1,750', '250'], dtype=object)"
            ]
          },
          "metadata": {},
          "execution_count": 107
        }
      ]
    },
    {
      "cell_type": "code",
      "source": [
        "df.Cost=df.Cost.str.replace(',','').astype('int')"
      ],
      "metadata": {
        "id": "WUS0oXDc8_Zm"
      },
      "execution_count": 108,
      "outputs": []
    },
    {
      "cell_type": "code",
      "source": [
        "df.Cuisines.unique()"
      ],
      "metadata": {
        "colab": {
          "base_uri": "https://localhost:8080/"
        },
        "id": "kQo5frP9-fRU",
        "outputId": "f569cff7-b67f-4ba6-d003-becefdc38688"
      },
      "execution_count": 109,
      "outputs": [
        {
          "output_type": "execute_result",
          "data": {
            "text/plain": [
              "array(['Chinese, Continental, Kebab, European, South Indian, North Indian',\n",
              "       'Biryani, North Indian, Chinese',\n",
              "       'Asian, Mediterranean, North Indian, Desserts',\n",
              "       'Biryani, North Indian, Chinese, Seafood, Beverages',\n",
              "       'Asian, Continental, North Indian, Chinese, Mediterranean',\n",
              "       'Seafood, Goan, North Indian, Continental, Asian',\n",
              "       'Healthy Food, North Indian, Continental, South Indian',\n",
              "       'Lebanese', 'American, Chinese, North Indian, Kebab, South Indian',\n",
              "       'Ice Cream, Desserts', 'Street Food, North Indian, Fast Food',\n",
              "       'Mediterranean, North Indian, Kebab, BBQ',\n",
              "       'Continental, American, Chinese',\n",
              "       'North Indian, Italian, Finger Food',\n",
              "       'European, Mediterranean, North Indian', 'Burger, Fast Food',\n",
              "       'North Indian', 'Chinese, North Indian',\n",
              "       'North Indian, Chinese, Continental',\n",
              "       'North Indian, Chinese, Biryani',\n",
              "       'North Indian, Japanese, Italian, Salad, Sushi', 'American',\n",
              "       'Continental', 'Mexican, Italian, North Indian, Chinese, Salad',\n",
              "       'North Indian, Mediterranean, European', 'Mughlai, Biryani',\n",
              "       'Fast Food', 'Bakery, North Indian, Mughlai, Juices, Chinese',\n",
              "       'Arabian, North Indian, Chinese', 'North Indian, Fast Food',\n",
              "       'Italian, North Indian, South Indian, Asian',\n",
              "       'Biryani, South Indian, North Indian, Chinese, Andhra',\n",
              "       'Andhra, Biryani, Hyderabadi, North Indian',\n",
              "       'North Indian, Continental, Italian, Asian',\n",
              "       'Cafe, Continental, Desserts',\n",
              "       'European, Italian, Continental, Spanish',\n",
              "       'Bakery, Fast Food, Desserts', 'Cafe, Desserts, Fast Food',\n",
              "       'American, Wraps, Desserts',\n",
              "       'Finger Food, North Indian, Kebab, Chinese',\n",
              "       'Chinese, Biryani, Andhra, North Indian',\n",
              "       'Andhra, North Indian, Chinese',\n",
              "       'Chinese, Thai, Indonesian, Asian',\n",
              "       'South Indian, North Indian, Chinese', 'North Indian, Continental',\n",
              "       'North Indian, Biryani, Chinese', 'Chinese, Continental, Italian',\n",
              "       'Asian', 'Cafe, Bakery',\n",
              "       'Modern Indian, Asian, Continental, Italian',\n",
              "       'North Indian, Chinese', 'Desserts, Beverages',\n",
              "       'Bakery, Desserts, Fast Food',\n",
              "       'North Indian, Continental, Chinese, Italian',\n",
              "       'Kebab, Continental, Italian, North Indian',\n",
              "       'North Indian, Chinese, Fast Food', 'Chinese, Asian, Momos',\n",
              "       'North Indian, Chinese, Japanese, Sushi',\n",
              "       'North Indian, Chinese, Mughlai, Biryani',\n",
              "       'North Indian, Hyderabadi', 'North Indian, Continental, Italian',\n",
              "       'BBQ, Asian, Modern Indian', 'Asian, Thai, Chinese, Sushi, Momos',\n",
              "       'North Indian, Mughlai, Beverages', 'Bakery, Desserts',\n",
              "       'Cafe, Fast Food, Beverages', 'Fast Food, Biryani, Desserts',\n",
              "       'North Indian, South Indian', 'Bakery',\n",
              "       'Italian, North Indian, Chinese, Salad', 'North Indian, Mughlai',\n",
              "       'North Indian, Chinese, Continental, Biryani',\n",
              "       'North Indian, Burger, Kebab',\n",
              "       'North Indian, Chinese, Seafood, Biryani, Hyderabadi',\n",
              "       'Burger, American', 'North Indian, Andhra, Biryani, Chinese',\n",
              "       'Momos', 'Cafe, Desserts', 'American, Fast Food, Salad, Burger',\n",
              "       'Fast Food, Pizza', 'Street Food, Arabian',\n",
              "       'North Indian, Italian, Continental, Asian',\n",
              "       'Continental, Italian, North Indian, Chinese, Asian',\n",
              "       'North Eastern, Momos',\n",
              "       'Desserts, Cafe, Beverages, Burger, Fast Food',\n",
              "       'Hyderabadi, Chinese, Mughlai', 'Asian, Sushi', 'Chinese, Seafood',\n",
              "       'Fast Food, Salad', 'Bakery, Mithai',\n",
              "       'Thai, Asian, Chinese, Malaysian'], dtype=object)"
            ]
          },
          "metadata": {},
          "execution_count": 109
        }
      ]
    },
    {
      "cell_type": "code",
      "source": [
        "df.Cuisines.value_counts()"
      ],
      "metadata": {
        "colab": {
          "base_uri": "https://localhost:8080/"
        },
        "id": "li5BmVK4-3-t",
        "outputId": "a03a4c2a-9242-49db-8fd1-dd873a03db8c"
      },
      "execution_count": 110,
      "outputs": [
        {
          "output_type": "execute_result",
          "data": {
            "text/plain": [
              "North Indian, Chinese                                   4\n",
              "North Indian                                            3\n",
              "North Indian, Biryani, Chinese                          2\n",
              "Fast Food                                               2\n",
              "Biryani, North Indian, Chinese                          2\n",
              "                                                       ..\n",
              "Andhra, Biryani, Hyderabadi, North Indian               1\n",
              "Biryani, South Indian, North Indian, Chinese, Andhra    1\n",
              "Italian, North Indian, South Indian, Asian              1\n",
              "North Indian, Fast Food                                 1\n",
              "Thai, Asian, Chinese, Malaysian                         1\n",
              "Name: Cuisines, Length: 91, dtype: int64"
            ]
          },
          "metadata": {},
          "execution_count": 110
        }
      ]
    },
    {
      "cell_type": "code",
      "source": [
        "cuis=df.Cuisines.str.split(', ')\n",
        "cuis"
      ],
      "metadata": {
        "colab": {
          "base_uri": "https://localhost:8080/"
        },
        "id": "eLH9sEpUGGKI",
        "outputId": "672d95e4-d5e7-46b5-a8a2-273f29ce8d66"
      },
      "execution_count": 111,
      "outputs": [
        {
          "output_type": "execute_result",
          "data": {
            "text/plain": [
              "0      [Chinese, Continental, Kebab, European, South ...\n",
              "1                       [Biryani, North Indian, Chinese]\n",
              "2         [Asian, Mediterranean, North Indian, Desserts]\n",
              "3      [Biryani, North Indian, Chinese, Seafood, Beve...\n",
              "4      [Asian, Continental, North Indian, Chinese, Me...\n",
              "                             ...                        \n",
              "100                                   [Fast Food, Salad]\n",
              "101                                     [Bakery, Mithai]\n",
              "102                     [North Indian, Biryani, Chinese]\n",
              "103                                          [Fast Food]\n",
              "104                    [Thai, Asian, Chinese, Malaysian]\n",
              "Name: Cuisines, Length: 104, dtype: object"
            ]
          },
          "metadata": {},
          "execution_count": 111
        }
      ]
    },
    {
      "cell_type": "code",
      "source": [
        "cuis_dict={}\n",
        "for names in cuis:\n",
        "  for name in names:\n",
        "    if name in cuis_dict:\n",
        "      cuis_dict[name]+=1\n",
        "    else:\n",
        "      cuis_dict[name]=1\n",
        "print(cuis_dict)\n",
        "cuis_df=pd.DataFrame(cuis_dict.items(),columns=['cuisines','no of restaurants'])"
      ],
      "metadata": {
        "colab": {
          "base_uri": "https://localhost:8080/"
        },
        "id": "25Y-UZYuK8nu",
        "outputId": "76e88c59-f829-4aec-b47f-328efc34e526"
      },
      "execution_count": 112,
      "outputs": [
        {
          "output_type": "stream",
          "name": "stdout",
          "text": [
            "{'Chinese': 43, 'Continental': 21, 'Kebab': 6, 'European': 4, 'South Indian': 8, 'North Indian': 60, 'Biryani': 16, 'Asian': 15, 'Mediterranean': 5, 'Desserts': 13, 'Seafood': 4, 'Beverages': 5, 'Goan': 1, 'Healthy Food': 1, 'Lebanese': 1, 'American': 6, 'Ice Cream': 2, 'Street Food': 2, 'Fast Food': 15, 'BBQ': 2, 'Italian': 14, 'Finger Food': 2, 'Burger': 5, 'Japanese': 2, 'Salad': 5, 'Sushi': 4, 'Mexican': 1, 'Mughlai': 6, 'Bakery': 7, 'Juices': 1, 'Arabian': 2, 'Andhra': 5, 'Hyderabadi': 4, 'Cafe': 6, 'Spanish': 1, 'Wraps': 1, 'Thai': 3, 'Indonesian': 1, 'Modern Indian': 2, 'Momos': 4, 'Pizza': 1, 'North Eastern': 1, 'Mithai': 1, 'Malaysian': 1}\n"
          ]
        }
      ]
    },
    {
      "cell_type": "code",
      "source": [
        "cuis_df.head(27)"
      ],
      "metadata": {
        "colab": {
          "base_uri": "https://localhost:8080/",
          "height": 896
        },
        "id": "9byyYLIbLK6c",
        "outputId": "32fb436e-569f-4e63-c5b9-79d2c6c1a0cf"
      },
      "execution_count": 113,
      "outputs": [
        {
          "output_type": "execute_result",
          "data": {
            "text/plain": [
              "         cuisines  no of restaurants\n",
              "0         Chinese                 43\n",
              "1     Continental                 21\n",
              "2           Kebab                  6\n",
              "3        European                  4\n",
              "4    South Indian                  8\n",
              "5    North Indian                 60\n",
              "6         Biryani                 16\n",
              "7           Asian                 15\n",
              "8   Mediterranean                  5\n",
              "9        Desserts                 13\n",
              "10        Seafood                  4\n",
              "11      Beverages                  5\n",
              "12           Goan                  1\n",
              "13   Healthy Food                  1\n",
              "14       Lebanese                  1\n",
              "15       American                  6\n",
              "16      Ice Cream                  2\n",
              "17    Street Food                  2\n",
              "18      Fast Food                 15\n",
              "19            BBQ                  2\n",
              "20        Italian                 14\n",
              "21    Finger Food                  2\n",
              "22         Burger                  5\n",
              "23       Japanese                  2\n",
              "24          Salad                  5\n",
              "25          Sushi                  4\n",
              "26        Mexican                  1"
            ],
            "text/html": [
              "\n",
              "  <div id=\"df-d90215b9-cc06-476e-a1dc-4b1a1466d8b0\">\n",
              "    <div class=\"colab-df-container\">\n",
              "      <div>\n",
              "<style scoped>\n",
              "    .dataframe tbody tr th:only-of-type {\n",
              "        vertical-align: middle;\n",
              "    }\n",
              "\n",
              "    .dataframe tbody tr th {\n",
              "        vertical-align: top;\n",
              "    }\n",
              "\n",
              "    .dataframe thead th {\n",
              "        text-align: right;\n",
              "    }\n",
              "</style>\n",
              "<table border=\"1\" class=\"dataframe\">\n",
              "  <thead>\n",
              "    <tr style=\"text-align: right;\">\n",
              "      <th></th>\n",
              "      <th>cuisines</th>\n",
              "      <th>no of restaurants</th>\n",
              "    </tr>\n",
              "  </thead>\n",
              "  <tbody>\n",
              "    <tr>\n",
              "      <th>0</th>\n",
              "      <td>Chinese</td>\n",
              "      <td>43</td>\n",
              "    </tr>\n",
              "    <tr>\n",
              "      <th>1</th>\n",
              "      <td>Continental</td>\n",
              "      <td>21</td>\n",
              "    </tr>\n",
              "    <tr>\n",
              "      <th>2</th>\n",
              "      <td>Kebab</td>\n",
              "      <td>6</td>\n",
              "    </tr>\n",
              "    <tr>\n",
              "      <th>3</th>\n",
              "      <td>European</td>\n",
              "      <td>4</td>\n",
              "    </tr>\n",
              "    <tr>\n",
              "      <th>4</th>\n",
              "      <td>South Indian</td>\n",
              "      <td>8</td>\n",
              "    </tr>\n",
              "    <tr>\n",
              "      <th>5</th>\n",
              "      <td>North Indian</td>\n",
              "      <td>60</td>\n",
              "    </tr>\n",
              "    <tr>\n",
              "      <th>6</th>\n",
              "      <td>Biryani</td>\n",
              "      <td>16</td>\n",
              "    </tr>\n",
              "    <tr>\n",
              "      <th>7</th>\n",
              "      <td>Asian</td>\n",
              "      <td>15</td>\n",
              "    </tr>\n",
              "    <tr>\n",
              "      <th>8</th>\n",
              "      <td>Mediterranean</td>\n",
              "      <td>5</td>\n",
              "    </tr>\n",
              "    <tr>\n",
              "      <th>9</th>\n",
              "      <td>Desserts</td>\n",
              "      <td>13</td>\n",
              "    </tr>\n",
              "    <tr>\n",
              "      <th>10</th>\n",
              "      <td>Seafood</td>\n",
              "      <td>4</td>\n",
              "    </tr>\n",
              "    <tr>\n",
              "      <th>11</th>\n",
              "      <td>Beverages</td>\n",
              "      <td>5</td>\n",
              "    </tr>\n",
              "    <tr>\n",
              "      <th>12</th>\n",
              "      <td>Goan</td>\n",
              "      <td>1</td>\n",
              "    </tr>\n",
              "    <tr>\n",
              "      <th>13</th>\n",
              "      <td>Healthy Food</td>\n",
              "      <td>1</td>\n",
              "    </tr>\n",
              "    <tr>\n",
              "      <th>14</th>\n",
              "      <td>Lebanese</td>\n",
              "      <td>1</td>\n",
              "    </tr>\n",
              "    <tr>\n",
              "      <th>15</th>\n",
              "      <td>American</td>\n",
              "      <td>6</td>\n",
              "    </tr>\n",
              "    <tr>\n",
              "      <th>16</th>\n",
              "      <td>Ice Cream</td>\n",
              "      <td>2</td>\n",
              "    </tr>\n",
              "    <tr>\n",
              "      <th>17</th>\n",
              "      <td>Street Food</td>\n",
              "      <td>2</td>\n",
              "    </tr>\n",
              "    <tr>\n",
              "      <th>18</th>\n",
              "      <td>Fast Food</td>\n",
              "      <td>15</td>\n",
              "    </tr>\n",
              "    <tr>\n",
              "      <th>19</th>\n",
              "      <td>BBQ</td>\n",
              "      <td>2</td>\n",
              "    </tr>\n",
              "    <tr>\n",
              "      <th>20</th>\n",
              "      <td>Italian</td>\n",
              "      <td>14</td>\n",
              "    </tr>\n",
              "    <tr>\n",
              "      <th>21</th>\n",
              "      <td>Finger Food</td>\n",
              "      <td>2</td>\n",
              "    </tr>\n",
              "    <tr>\n",
              "      <th>22</th>\n",
              "      <td>Burger</td>\n",
              "      <td>5</td>\n",
              "    </tr>\n",
              "    <tr>\n",
              "      <th>23</th>\n",
              "      <td>Japanese</td>\n",
              "      <td>2</td>\n",
              "    </tr>\n",
              "    <tr>\n",
              "      <th>24</th>\n",
              "      <td>Salad</td>\n",
              "      <td>5</td>\n",
              "    </tr>\n",
              "    <tr>\n",
              "      <th>25</th>\n",
              "      <td>Sushi</td>\n",
              "      <td>4</td>\n",
              "    </tr>\n",
              "    <tr>\n",
              "      <th>26</th>\n",
              "      <td>Mexican</td>\n",
              "      <td>1</td>\n",
              "    </tr>\n",
              "  </tbody>\n",
              "</table>\n",
              "</div>\n",
              "      <button class=\"colab-df-convert\" onclick=\"convertToInteractive('df-d90215b9-cc06-476e-a1dc-4b1a1466d8b0')\"\n",
              "              title=\"Convert this dataframe to an interactive table.\"\n",
              "              style=\"display:none;\">\n",
              "        \n",
              "  <svg xmlns=\"http://www.w3.org/2000/svg\" height=\"24px\"viewBox=\"0 0 24 24\"\n",
              "       width=\"24px\">\n",
              "    <path d=\"M0 0h24v24H0V0z\" fill=\"none\"/>\n",
              "    <path d=\"M18.56 5.44l.94 2.06.94-2.06 2.06-.94-2.06-.94-.94-2.06-.94 2.06-2.06.94zm-11 1L8.5 8.5l.94-2.06 2.06-.94-2.06-.94L8.5 2.5l-.94 2.06-2.06.94zm10 10l.94 2.06.94-2.06 2.06-.94-2.06-.94-.94-2.06-.94 2.06-2.06.94z\"/><path d=\"M17.41 7.96l-1.37-1.37c-.4-.4-.92-.59-1.43-.59-.52 0-1.04.2-1.43.59L10.3 9.45l-7.72 7.72c-.78.78-.78 2.05 0 2.83L4 21.41c.39.39.9.59 1.41.59.51 0 1.02-.2 1.41-.59l7.78-7.78 2.81-2.81c.8-.78.8-2.07 0-2.86zM5.41 20L4 18.59l7.72-7.72 1.47 1.35L5.41 20z\"/>\n",
              "  </svg>\n",
              "      </button>\n",
              "      \n",
              "  <style>\n",
              "    .colab-df-container {\n",
              "      display:flex;\n",
              "      flex-wrap:wrap;\n",
              "      gap: 12px;\n",
              "    }\n",
              "\n",
              "    .colab-df-convert {\n",
              "      background-color: #E8F0FE;\n",
              "      border: none;\n",
              "      border-radius: 50%;\n",
              "      cursor: pointer;\n",
              "      display: none;\n",
              "      fill: #1967D2;\n",
              "      height: 32px;\n",
              "      padding: 0 0 0 0;\n",
              "      width: 32px;\n",
              "    }\n",
              "\n",
              "    .colab-df-convert:hover {\n",
              "      background-color: #E2EBFA;\n",
              "      box-shadow: 0px 1px 2px rgba(60, 64, 67, 0.3), 0px 1px 3px 1px rgba(60, 64, 67, 0.15);\n",
              "      fill: #174EA6;\n",
              "    }\n",
              "\n",
              "    [theme=dark] .colab-df-convert {\n",
              "      background-color: #3B4455;\n",
              "      fill: #D2E3FC;\n",
              "    }\n",
              "\n",
              "    [theme=dark] .colab-df-convert:hover {\n",
              "      background-color: #434B5C;\n",
              "      box-shadow: 0px 1px 3px 1px rgba(0, 0, 0, 0.15);\n",
              "      filter: drop-shadow(0px 1px 2px rgba(0, 0, 0, 0.3));\n",
              "      fill: #FFFFFF;\n",
              "    }\n",
              "  </style>\n",
              "\n",
              "      <script>\n",
              "        const buttonEl =\n",
              "          document.querySelector('#df-d90215b9-cc06-476e-a1dc-4b1a1466d8b0 button.colab-df-convert');\n",
              "        buttonEl.style.display =\n",
              "          google.colab.kernel.accessAllowed ? 'block' : 'none';\n",
              "\n",
              "        async function convertToInteractive(key) {\n",
              "          const element = document.querySelector('#df-d90215b9-cc06-476e-a1dc-4b1a1466d8b0');\n",
              "          const dataTable =\n",
              "            await google.colab.kernel.invokeFunction('convertToInteractive',\n",
              "                                                     [key], {});\n",
              "          if (!dataTable) return;\n",
              "\n",
              "          const docLinkHtml = 'Like what you see? Visit the ' +\n",
              "            '<a target=\"_blank\" href=https://colab.research.google.com/notebooks/data_table.ipynb>data table notebook</a>'\n",
              "            + ' to learn more about interactive tables.';\n",
              "          element.innerHTML = '';\n",
              "          dataTable['output_type'] = 'display_data';\n",
              "          await google.colab.output.renderOutput(dataTable, element);\n",
              "          const docLink = document.createElement('div');\n",
              "          docLink.innerHTML = docLinkHtml;\n",
              "          element.appendChild(docLink);\n",
              "        }\n",
              "      </script>\n",
              "    </div>\n",
              "  </div>\n",
              "  "
            ]
          },
          "metadata": {},
          "execution_count": 113
        }
      ]
    },
    {
      "cell_type": "code",
      "source": [
        "cuis_df.sort_values(by='no of restaurants',ascending=False,inplace=True)"
      ],
      "metadata": {
        "id": "0P0huxdhUvtF"
      },
      "execution_count": 114,
      "outputs": []
    },
    {
      "cell_type": "code",
      "source": [
        "cuis_df.reset_index(drop=True)"
      ],
      "metadata": {
        "colab": {
          "base_uri": "https://localhost:8080/",
          "height": 1000
        },
        "id": "Ow-adqmH83u3",
        "outputId": "b9ad14b1-7b9a-4f37-d329-59afd829abac"
      },
      "execution_count": 115,
      "outputs": [
        {
          "output_type": "execute_result",
          "data": {
            "text/plain": [
              "         cuisines  no of restaurants\n",
              "0    North Indian                 60\n",
              "1         Chinese                 43\n",
              "2     Continental                 21\n",
              "3         Biryani                 16\n",
              "4       Fast Food                 15\n",
              "5           Asian                 15\n",
              "6         Italian                 14\n",
              "7        Desserts                 13\n",
              "8    South Indian                  8\n",
              "9          Bakery                  7\n",
              "10          Kebab                  6\n",
              "11           Cafe                  6\n",
              "12        Mughlai                  6\n",
              "13       American                  6\n",
              "14         Andhra                  5\n",
              "15          Salad                  5\n",
              "16         Burger                  5\n",
              "17  Mediterranean                  5\n",
              "18      Beverages                  5\n",
              "19        Seafood                  4\n",
              "20          Momos                  4\n",
              "21       European                  4\n",
              "22     Hyderabadi                  4\n",
              "23          Sushi                  4\n",
              "24           Thai                  3\n",
              "25    Street Food                  2\n",
              "26  Modern Indian                  2\n",
              "27      Ice Cream                  2\n",
              "28        Arabian                  2\n",
              "29       Japanese                  2\n",
              "30    Finger Food                  2\n",
              "31            BBQ                  2\n",
              "32         Juices                  1\n",
              "33        Mexican                  1\n",
              "34           Goan                  1\n",
              "35   Healthy Food                  1\n",
              "36        Spanish                  1\n",
              "37          Wraps                  1\n",
              "38     Indonesian                  1\n",
              "39       Lebanese                  1\n",
              "40          Pizza                  1\n",
              "41  North Eastern                  1\n",
              "42         Mithai                  1\n",
              "43      Malaysian                  1"
            ],
            "text/html": [
              "\n",
              "  <div id=\"df-b9c30ba0-e332-448c-8b71-5379d20296c1\">\n",
              "    <div class=\"colab-df-container\">\n",
              "      <div>\n",
              "<style scoped>\n",
              "    .dataframe tbody tr th:only-of-type {\n",
              "        vertical-align: middle;\n",
              "    }\n",
              "\n",
              "    .dataframe tbody tr th {\n",
              "        vertical-align: top;\n",
              "    }\n",
              "\n",
              "    .dataframe thead th {\n",
              "        text-align: right;\n",
              "    }\n",
              "</style>\n",
              "<table border=\"1\" class=\"dataframe\">\n",
              "  <thead>\n",
              "    <tr style=\"text-align: right;\">\n",
              "      <th></th>\n",
              "      <th>cuisines</th>\n",
              "      <th>no of restaurants</th>\n",
              "    </tr>\n",
              "  </thead>\n",
              "  <tbody>\n",
              "    <tr>\n",
              "      <th>0</th>\n",
              "      <td>North Indian</td>\n",
              "      <td>60</td>\n",
              "    </tr>\n",
              "    <tr>\n",
              "      <th>1</th>\n",
              "      <td>Chinese</td>\n",
              "      <td>43</td>\n",
              "    </tr>\n",
              "    <tr>\n",
              "      <th>2</th>\n",
              "      <td>Continental</td>\n",
              "      <td>21</td>\n",
              "    </tr>\n",
              "    <tr>\n",
              "      <th>3</th>\n",
              "      <td>Biryani</td>\n",
              "      <td>16</td>\n",
              "    </tr>\n",
              "    <tr>\n",
              "      <th>4</th>\n",
              "      <td>Fast Food</td>\n",
              "      <td>15</td>\n",
              "    </tr>\n",
              "    <tr>\n",
              "      <th>5</th>\n",
              "      <td>Asian</td>\n",
              "      <td>15</td>\n",
              "    </tr>\n",
              "    <tr>\n",
              "      <th>6</th>\n",
              "      <td>Italian</td>\n",
              "      <td>14</td>\n",
              "    </tr>\n",
              "    <tr>\n",
              "      <th>7</th>\n",
              "      <td>Desserts</td>\n",
              "      <td>13</td>\n",
              "    </tr>\n",
              "    <tr>\n",
              "      <th>8</th>\n",
              "      <td>South Indian</td>\n",
              "      <td>8</td>\n",
              "    </tr>\n",
              "    <tr>\n",
              "      <th>9</th>\n",
              "      <td>Bakery</td>\n",
              "      <td>7</td>\n",
              "    </tr>\n",
              "    <tr>\n",
              "      <th>10</th>\n",
              "      <td>Kebab</td>\n",
              "      <td>6</td>\n",
              "    </tr>\n",
              "    <tr>\n",
              "      <th>11</th>\n",
              "      <td>Cafe</td>\n",
              "      <td>6</td>\n",
              "    </tr>\n",
              "    <tr>\n",
              "      <th>12</th>\n",
              "      <td>Mughlai</td>\n",
              "      <td>6</td>\n",
              "    </tr>\n",
              "    <tr>\n",
              "      <th>13</th>\n",
              "      <td>American</td>\n",
              "      <td>6</td>\n",
              "    </tr>\n",
              "    <tr>\n",
              "      <th>14</th>\n",
              "      <td>Andhra</td>\n",
              "      <td>5</td>\n",
              "    </tr>\n",
              "    <tr>\n",
              "      <th>15</th>\n",
              "      <td>Salad</td>\n",
              "      <td>5</td>\n",
              "    </tr>\n",
              "    <tr>\n",
              "      <th>16</th>\n",
              "      <td>Burger</td>\n",
              "      <td>5</td>\n",
              "    </tr>\n",
              "    <tr>\n",
              "      <th>17</th>\n",
              "      <td>Mediterranean</td>\n",
              "      <td>5</td>\n",
              "    </tr>\n",
              "    <tr>\n",
              "      <th>18</th>\n",
              "      <td>Beverages</td>\n",
              "      <td>5</td>\n",
              "    </tr>\n",
              "    <tr>\n",
              "      <th>19</th>\n",
              "      <td>Seafood</td>\n",
              "      <td>4</td>\n",
              "    </tr>\n",
              "    <tr>\n",
              "      <th>20</th>\n",
              "      <td>Momos</td>\n",
              "      <td>4</td>\n",
              "    </tr>\n",
              "    <tr>\n",
              "      <th>21</th>\n",
              "      <td>European</td>\n",
              "      <td>4</td>\n",
              "    </tr>\n",
              "    <tr>\n",
              "      <th>22</th>\n",
              "      <td>Hyderabadi</td>\n",
              "      <td>4</td>\n",
              "    </tr>\n",
              "    <tr>\n",
              "      <th>23</th>\n",
              "      <td>Sushi</td>\n",
              "      <td>4</td>\n",
              "    </tr>\n",
              "    <tr>\n",
              "      <th>24</th>\n",
              "      <td>Thai</td>\n",
              "      <td>3</td>\n",
              "    </tr>\n",
              "    <tr>\n",
              "      <th>25</th>\n",
              "      <td>Street Food</td>\n",
              "      <td>2</td>\n",
              "    </tr>\n",
              "    <tr>\n",
              "      <th>26</th>\n",
              "      <td>Modern Indian</td>\n",
              "      <td>2</td>\n",
              "    </tr>\n",
              "    <tr>\n",
              "      <th>27</th>\n",
              "      <td>Ice Cream</td>\n",
              "      <td>2</td>\n",
              "    </tr>\n",
              "    <tr>\n",
              "      <th>28</th>\n",
              "      <td>Arabian</td>\n",
              "      <td>2</td>\n",
              "    </tr>\n",
              "    <tr>\n",
              "      <th>29</th>\n",
              "      <td>Japanese</td>\n",
              "      <td>2</td>\n",
              "    </tr>\n",
              "    <tr>\n",
              "      <th>30</th>\n",
              "      <td>Finger Food</td>\n",
              "      <td>2</td>\n",
              "    </tr>\n",
              "    <tr>\n",
              "      <th>31</th>\n",
              "      <td>BBQ</td>\n",
              "      <td>2</td>\n",
              "    </tr>\n",
              "    <tr>\n",
              "      <th>32</th>\n",
              "      <td>Juices</td>\n",
              "      <td>1</td>\n",
              "    </tr>\n",
              "    <tr>\n",
              "      <th>33</th>\n",
              "      <td>Mexican</td>\n",
              "      <td>1</td>\n",
              "    </tr>\n",
              "    <tr>\n",
              "      <th>34</th>\n",
              "      <td>Goan</td>\n",
              "      <td>1</td>\n",
              "    </tr>\n",
              "    <tr>\n",
              "      <th>35</th>\n",
              "      <td>Healthy Food</td>\n",
              "      <td>1</td>\n",
              "    </tr>\n",
              "    <tr>\n",
              "      <th>36</th>\n",
              "      <td>Spanish</td>\n",
              "      <td>1</td>\n",
              "    </tr>\n",
              "    <tr>\n",
              "      <th>37</th>\n",
              "      <td>Wraps</td>\n",
              "      <td>1</td>\n",
              "    </tr>\n",
              "    <tr>\n",
              "      <th>38</th>\n",
              "      <td>Indonesian</td>\n",
              "      <td>1</td>\n",
              "    </tr>\n",
              "    <tr>\n",
              "      <th>39</th>\n",
              "      <td>Lebanese</td>\n",
              "      <td>1</td>\n",
              "    </tr>\n",
              "    <tr>\n",
              "      <th>40</th>\n",
              "      <td>Pizza</td>\n",
              "      <td>1</td>\n",
              "    </tr>\n",
              "    <tr>\n",
              "      <th>41</th>\n",
              "      <td>North Eastern</td>\n",
              "      <td>1</td>\n",
              "    </tr>\n",
              "    <tr>\n",
              "      <th>42</th>\n",
              "      <td>Mithai</td>\n",
              "      <td>1</td>\n",
              "    </tr>\n",
              "    <tr>\n",
              "      <th>43</th>\n",
              "      <td>Malaysian</td>\n",
              "      <td>1</td>\n",
              "    </tr>\n",
              "  </tbody>\n",
              "</table>\n",
              "</div>\n",
              "      <button class=\"colab-df-convert\" onclick=\"convertToInteractive('df-b9c30ba0-e332-448c-8b71-5379d20296c1')\"\n",
              "              title=\"Convert this dataframe to an interactive table.\"\n",
              "              style=\"display:none;\">\n",
              "        \n",
              "  <svg xmlns=\"http://www.w3.org/2000/svg\" height=\"24px\"viewBox=\"0 0 24 24\"\n",
              "       width=\"24px\">\n",
              "    <path d=\"M0 0h24v24H0V0z\" fill=\"none\"/>\n",
              "    <path d=\"M18.56 5.44l.94 2.06.94-2.06 2.06-.94-2.06-.94-.94-2.06-.94 2.06-2.06.94zm-11 1L8.5 8.5l.94-2.06 2.06-.94-2.06-.94L8.5 2.5l-.94 2.06-2.06.94zm10 10l.94 2.06.94-2.06 2.06-.94-2.06-.94-.94-2.06-.94 2.06-2.06.94z\"/><path d=\"M17.41 7.96l-1.37-1.37c-.4-.4-.92-.59-1.43-.59-.52 0-1.04.2-1.43.59L10.3 9.45l-7.72 7.72c-.78.78-.78 2.05 0 2.83L4 21.41c.39.39.9.59 1.41.59.51 0 1.02-.2 1.41-.59l7.78-7.78 2.81-2.81c.8-.78.8-2.07 0-2.86zM5.41 20L4 18.59l7.72-7.72 1.47 1.35L5.41 20z\"/>\n",
              "  </svg>\n",
              "      </button>\n",
              "      \n",
              "  <style>\n",
              "    .colab-df-container {\n",
              "      display:flex;\n",
              "      flex-wrap:wrap;\n",
              "      gap: 12px;\n",
              "    }\n",
              "\n",
              "    .colab-df-convert {\n",
              "      background-color: #E8F0FE;\n",
              "      border: none;\n",
              "      border-radius: 50%;\n",
              "      cursor: pointer;\n",
              "      display: none;\n",
              "      fill: #1967D2;\n",
              "      height: 32px;\n",
              "      padding: 0 0 0 0;\n",
              "      width: 32px;\n",
              "    }\n",
              "\n",
              "    .colab-df-convert:hover {\n",
              "      background-color: #E2EBFA;\n",
              "      box-shadow: 0px 1px 2px rgba(60, 64, 67, 0.3), 0px 1px 3px 1px rgba(60, 64, 67, 0.15);\n",
              "      fill: #174EA6;\n",
              "    }\n",
              "\n",
              "    [theme=dark] .colab-df-convert {\n",
              "      background-color: #3B4455;\n",
              "      fill: #D2E3FC;\n",
              "    }\n",
              "\n",
              "    [theme=dark] .colab-df-convert:hover {\n",
              "      background-color: #434B5C;\n",
              "      box-shadow: 0px 1px 3px 1px rgba(0, 0, 0, 0.15);\n",
              "      filter: drop-shadow(0px 1px 2px rgba(0, 0, 0, 0.3));\n",
              "      fill: #FFFFFF;\n",
              "    }\n",
              "  </style>\n",
              "\n",
              "      <script>\n",
              "        const buttonEl =\n",
              "          document.querySelector('#df-b9c30ba0-e332-448c-8b71-5379d20296c1 button.colab-df-convert');\n",
              "        buttonEl.style.display =\n",
              "          google.colab.kernel.accessAllowed ? 'block' : 'none';\n",
              "\n",
              "        async function convertToInteractive(key) {\n",
              "          const element = document.querySelector('#df-b9c30ba0-e332-448c-8b71-5379d20296c1');\n",
              "          const dataTable =\n",
              "            await google.colab.kernel.invokeFunction('convertToInteractive',\n",
              "                                                     [key], {});\n",
              "          if (!dataTable) return;\n",
              "\n",
              "          const docLinkHtml = 'Like what you see? Visit the ' +\n",
              "            '<a target=\"_blank\" href=https://colab.research.google.com/notebooks/data_table.ipynb>data table notebook</a>'\n",
              "            + ' to learn more about interactive tables.';\n",
              "          element.innerHTML = '';\n",
              "          dataTable['output_type'] = 'display_data';\n",
              "          await google.colab.output.renderOutput(dataTable, element);\n",
              "          const docLink = document.createElement('div');\n",
              "          docLink.innerHTML = docLinkHtml;\n",
              "          element.appendChild(docLink);\n",
              "        }\n",
              "      </script>\n",
              "    </div>\n",
              "  </div>\n",
              "  "
            ]
          },
          "metadata": {},
          "execution_count": 115
        }
      ]
    },
    {
      "cell_type": "code",
      "source": [
        "print('Top 10 Cuisines:\\n',cuis_df[0:10])"
      ],
      "metadata": {
        "colab": {
          "base_uri": "https://localhost:8080/"
        },
        "id": "JOIotjCzdU_y",
        "outputId": "33aa9fcf-ad67-47d8-f6ef-d7e75301bab4"
      },
      "execution_count": 116,
      "outputs": [
        {
          "output_type": "stream",
          "name": "stdout",
          "text": [
            "Top 10 Cuisines:\n",
            "         cuisines  no of restaurants\n",
            "5   North Indian                 60\n",
            "0        Chinese                 43\n",
            "1    Continental                 21\n",
            "6        Biryani                 16\n",
            "18     Fast Food                 15\n",
            "7          Asian                 15\n",
            "20       Italian                 14\n",
            "9       Desserts                 13\n",
            "4   South Indian                  8\n",
            "28        Bakery                  7\n"
          ]
        }
      ]
    },
    {
      "cell_type": "code",
      "source": [
        "plt.rcParams['figure.figsize']=(10,8)\n",
        "sns.barplot(y='cuisines',x='no of restaurants',data=cuis_df)\n",
        "plt.title('Cuisines served by Restaurants')"
      ],
      "metadata": {
        "colab": {
          "base_uri": "https://localhost:8080/",
          "height": 530
        },
        "id": "nx4pVE137W3p",
        "outputId": "63c5bcca-9ca3-4c79-d01c-df5825676df0"
      },
      "execution_count": 117,
      "outputs": [
        {
          "output_type": "execute_result",
          "data": {
            "text/plain": [
              "Text(0.5, 1.0, 'Cuisines served by Restaurants')"
            ]
          },
          "metadata": {},
          "execution_count": 117
        },
        {
          "output_type": "display_data",
          "data": {
            "text/plain": [
              "<Figure size 720x576 with 1 Axes>"
            ],
            "image/png": "[encoded data removed]"
          },
          "metadata": {
            "needs_background": "light"
          }
        }
      ]
    },
    {
      "cell_type": "code",
      "source": [
        "df.columns"
      ],
      "metadata": {
        "colab": {
          "base_uri": "https://localhost:8080/"
        },
        "id": "F67UivHSGTWZ",
        "outputId": "3cb2f26c-9dec-4244-eb59-6ce65d05d93e"
      },
      "execution_count": 118,
      "outputs": [
        {
          "output_type": "execute_result",
          "data": {
            "text/plain": [
              "Index(['Name', 'Cost', 'Cuisines', 'Timings'], dtype='object')"
            ]
          },
          "metadata": {},
          "execution_count": 118
        }
      ]
    },
    {
      "cell_type": "code",
      "source": [
        "high_cost_rest=df[['Name','Cost']].sort_values(by='Cost',ascending=False).head(10)\n",
        "low_cost_rest=df[['Name','Cost']].sort_values(by='Cost',ascending=True).head(10)\n",
        "# df.groupby(['Name'])['Cost'].sum().sort_values(ascending=False)"
      ],
      "metadata": {
        "id": "tbMCG4HLDjZH"
      },
      "execution_count": 119,
      "outputs": []
    },
    {
      "cell_type": "code",
      "source": [
        "plt.figure(figsize=(12,8))\n",
        "sns.barplot(y='Name',x='Cost',data=high_cost_rest,palette='Spectral')\n",
        "plt.title('Top 10 costly restaurants')\n",
        "plt.ylabel('Restaurant Name')"
      ],
      "metadata": {
        "colab": {
          "base_uri": "https://localhost:8080/",
          "height": 530
        },
        "id": "pArnDk7-I-Ab",
        "outputId": "e82b106c-8b7b-4926-ce8b-6edc41df2b23"
      },
      "execution_count": 120,
      "outputs": [
        {
          "output_type": "execute_result",
          "data": {
            "text/plain": [
              "Text(0, 0.5, 'Restaurant Name')"
            ]
          },
          "metadata": {},
          "execution_count": 120
        },
        {
          "output_type": "display_data",
          "data": {
            "text/plain": [
              "<Figure size 864x576 with 1 Axes>"
            ],
            "image/png": "[encoded data removed]"
          },
          "metadata": {
            "needs_background": "light"
          }
        }
      ]
    },
    {
      "cell_type": "code",
      "source": [
        "sns.barplot(y='Name',x='Cost',data=low_cost_rest,palette='rocket')\n",
        "plt.title('Top 10 cheapest restaurants')\n",
        "plt.ylabel('Restaurant Name')"
      ],
      "metadata": {
        "colab": {
          "base_uri": "https://localhost:8080/",
          "height": 530
        },
        "id": "-N3R0hUqJN68",
        "outputId": "87515279-7f61-4e60-c78f-d3617758d3e8"
      },
      "execution_count": 121,
      "outputs": [
        {
          "output_type": "execute_result",
          "data": {
            "text/plain": [
              "Text(0, 0.5, 'Restaurant Name')"
            ]
          },
          "metadata": {},
          "execution_count": 121
        },
        {
          "output_type": "display_data",
          "data": {
            "text/plain": [
              "<Figure size 720x576 with 1 Axes>"
            ],
            "image/png": "[encoded data removed]"
          },
          "metadata": {
            "needs_background": "light"
          }
        }
      ]
    },
    {
      "cell_type": "code",
      "source": [
        "df.Timings.unique()"
      ],
      "metadata": {
        "colab": {
          "base_uri": "https://localhost:8080/"
        },
        "id": "UKui2qVK_GRJ",
        "outputId": "13344323-534c-464e-ea34-1227bc6da308"
      },
      "execution_count": 122,
      "outputs": [
        {
          "output_type": "execute_result",
          "data": {
            "text/plain": [
              "array(['12noon to 3:30pm, 6:30pm to 11:30pm (Mon-Sun)', '11 AM to 11 PM',\n",
              "       '11:30 AM to 4:30 PM, 6:30 PM to 11 PM', '12 Noon to 2 AM',\n",
              "       '12noon to 11pm (Mon, Tue, Wed, Thu, Sun), 12noon to 12midnight (Fri-Sat)',\n",
              "       '12Noon to 3:30PM, 4PM to 6:30PM, 7PM to 11:30PM (Mon, Tue, Wed, Thu, Sun), 12Noon to 3:30PM, 4PM to 6:30PM, 7PM to 12Midnight (Fri-Sat)',\n",
              "       '7 AM to 10 PM', '12 Noon to 12 Midnight',\n",
              "       '10 AM to 1 AM (Mon-Thu), 10 AM to 1:30 AM (Fri-Sun)',\n",
              "       '12 Noon to 3:30 PM, 7 PM to 10:30 PM',\n",
              "       '12 Noon to 3:30 PM, 6:30 PM to 11:30 PM', '11:30 AM to 1 AM',\n",
              "       '12noon to 12midnight (Mon-Sun)',\n",
              "       '12 Noon to 4:30 PM, 6:30 PM to 11:30 PM', '12 Noon to 10:30 PM',\n",
              "       '12 Noon to 11 PM', '12:30 PM to 10 PM (Tue-Sun), Mon Closed',\n",
              "       '11:30 AM to 3 PM, 7 PM to 11 PM',\n",
              "       '11am to 11:30pm (Mon, Tue, Wed, Thu, Sun), 11am to 12midnight (Fri-Sat)',\n",
              "       '10 AM to 5 AM',\n",
              "       '12 Noon to 12 Midnight (Mon-Thu, Sun), 12 Noon to 1 AM (Fri-Sat)',\n",
              "       '12Noon to 11PM (Mon-Thu),12Noon to 11:30PM (Fri-Sun)',\n",
              "       '12 Noon to 11:30 PM (Mon-Wed), 12 Noon to 1 AM (Fri-Sat), 12 Noon to 12 Midnight (Sun), Thu Closed',\n",
              "       '12 Noon to 4 PM, 6:30 PM to 11:30 PM', '10 AM to 1 AM',\n",
              "       '4:30 PM to 5:30 AM', '11 AM to 12 Midnight',\n",
              "       '12noon to 4pm, 7pm to 12midnight (Mon-Sun)',\n",
              "       '6am to 12midnight (Mon-Sun)',\n",
              "       '12:30 PM to 3:30 PM, 7 PM to 10:40 PM',\n",
              "       '12 Noon to 4 PM, 7 PM to 11 PM', '12noon to 11pm (Mon-Sun)',\n",
              "       '10 AM to 10 PM', '7 AM to 1 AM', '12 Noon to 11:30 PM',\n",
              "       '12Noon to 11:30PM (Mon-Sun)', '6 AM to 10:30 PM',\n",
              "       '11:30 AM to 3:30 PM, 6:45 PM to 11:30 PM',\n",
              "       '11:55 AM to 4 PM, 7 PM to 11:15 PM',\n",
              "       '12noon to 4:30pm, 6:30pm to 11:30pm (Mon, Tue, Wed, Fri, Sat), Closed (Thu),12noon to 12midnight (Sun)',\n",
              "       '12noon to 12midnight (Mon, Tue, Wed, Thu, Sun), 12noon to 1am (Fri-Sat)',\n",
              "       '8 AM to 11:30 PM',\n",
              "       '6:30am to 10:30am, 12:30pm to 3pm, 7pm to 11pm (Mon),6:30am to 10:30am, 12:30pm to 3pm, 7:30pm to 11pm (Tue-Sat),6:30am to 10:30am, 12:30pm to 3:30pm, 7pm to 11pm (Sun)',\n",
              "       '12 Noon to 3 PM, 7 PM to 11:30 PM', '9 AM to 10 PM',\n",
              "       '5pm to 12midnight (Mon-Sun)', '11 AM to 11:30 PM',\n",
              "       '11:30AM to 11PM (Mon-Sun)', '1 PM to 11 PM',\n",
              "       '11:30 AM to 12 Midnight', '12 Noon to 3 PM, 7 PM to 11 PM',\n",
              "       '11 AM to 8 PM (Mon-Sat), Sun Closed', '4 AM to 12 Midnight',\n",
              "       '9 AM to 1 AM', '10:30 AM to 11 PM', '7 AM to 11 PM',\n",
              "       '7 AM to 10:30 AM, 12:30 PM to 3:30 PM, 7 PM to 11 PM',\n",
              "       '12 Noon to 3:30 PM, 7 PM to 11:30 PM',\n",
              "       '12 Noon to 3:30 PM, 7 PM to 11 PM', '11am to 11pm (Mon-Sun)',\n",
              "       '6 AM to 11:30 PM', '11:30 AM to 5 AM',\n",
              "       '12:30 PM to 3:30 PM, 7 PM to 11 PM', '6pm to 2am (Mon-Sun)',\n",
              "       '10 AM to 12 Midnight', '12 Noon to 4 AM', '1 PM to 1 AM',\n",
              "       '24 Hours', '24 Hours (Mon-Sun)',\n",
              "       '11:30 AM to 4 PM, 7 PM to 11 PM', '10 AM to 11 PM',\n",
              "       '1 PM to 2 AM (Mon, Wed-Sun), Tue Closed',\n",
              "       '12:30pm to 11:30pm (Mon-Sun)', '12Noon to 2AM (Mon-Sun)',\n",
              "       '10 AM to 10 PM (Mon-Thu), 8 AM to 10:30 PM (Fri-Sun)',\n",
              "       '8am to 12:30AM (Mon-Sun)',\n",
              "       '11:30 AM to 3 PM, 7 PM to 12 Midnight'], dtype=object)"
            ]
          },
          "metadata": {},
          "execution_count": 122
        }
      ]
    },
    {
      "cell_type": "code",
      "source": [
        "df.drop('Timings',axis='columns',inplace=True)"
      ],
      "metadata": {
        "id": "nACKLOBvFnoS"
      },
      "execution_count": 123,
      "outputs": []
    },
    {
      "cell_type": "code",
      "source": [
        "df.info()"
      ],
      "metadata": {
        "colab": {
          "base_uri": "https://localhost:8080/"
        },
        "id": "iIXkaDbrF_t8",
        "outputId": "04603110-18b7-421b-ce41-85ad78db1771"
      },
      "execution_count": 124,
      "outputs": [
        {
          "output_type": "stream",
          "name": "stdout",
          "text": [
            "<class 'pandas.core.frame.DataFrame'>\n",
            "Int64Index: 104 entries, 0 to 104\n",
            "Data columns (total 3 columns):\n",
            " #   Column    Non-Null Count  Dtype \n",
            "---  ------    --------------  ----- \n",
            " 0   Name      104 non-null    object\n",
            " 1   Cost      104 non-null    int64 \n",
            " 2   Cuisines  104 non-null    object\n",
            "dtypes: int64(1), object(2)\n",
            "memory usage: 3.2+ KB\n"
          ]
        }
      ]
    },
    {
      "cell_type": "code",
      "source": [
        "no_of_cuisines=[]\n",
        "for names in cuis:\n",
        "  no_of_cuisines.append(len(names))\n",
        "print(no_of_cuisines)"
      ],
      "metadata": {
        "colab": {
          "base_uri": "https://localhost:8080/"
        },
        "id": "eDHB4tqW2EiE",
        "outputId": "ff2d8ca6-23f3-4ec1-e3a6-fd48bd9bb582"
      },
      "execution_count": 125,
      "outputs": [
        {
          "output_type": "stream",
          "name": "stdout",
          "text": [
            "[6, 3, 4, 5, 5, 5, 4, 1, 5, 2, 3, 4, 3, 3, 3, 2, 1, 2, 3, 3, 1, 5, 1, 2, 3, 1, 5, 3, 2, 1, 5, 3, 2, 4, 3, 5, 4, 4, 3, 4, 3, 3, 3, 4, 4, 3, 4, 3, 3, 2, 3, 3, 3, 1, 2, 4, 2, 2, 3, 4, 4, 3, 3, 2, 4, 4, 2, 3, 3, 5, 3, 2, 3, 3, 2, 1, 4, 2, 4, 3, 2, 5, 2, 4, 1, 2, 4, 2, 2, 1, 4, 5, 2, 5, 2, 3, 2, 1, 2, 2, 2, 3, 1, 4]\n"
          ]
        }
      ]
    },
    {
      "cell_type": "code",
      "source": [
        "df.columns"
      ],
      "metadata": {
        "colab": {
          "base_uri": "https://localhost:8080/"
        },
        "id": "zaeHOkYF6aao",
        "outputId": "78be8a4d-e4c8-48d3-d556-0a99605cd870"
      },
      "execution_count": 126,
      "outputs": [
        {
          "output_type": "execute_result",
          "data": {
            "text/plain": [
              "Index(['Name', 'Cost', 'Cuisines'], dtype='object')"
            ]
          },
          "metadata": {},
          "execution_count": 126
        }
      ]
    },
    {
      "cell_type": "code",
      "source": [
        "df['no of cuisnes']=no_of_cuisines\n",
        "df.drop('Cuisines',axis='columns',inplace=True)"
      ],
      "metadata": {
        "id": "Mf7_ZMxP5eEc"
      },
      "execution_count": 127,
      "outputs": []
    },
    {
      "cell_type": "code",
      "source": [
        "df.head(2)"
      ],
      "metadata": {
        "colab": {
          "base_uri": "https://localhost:8080/",
          "height": 112
        },
        "id": "KB0M9a4D6kO8",
        "outputId": "2d70c737-ada4-4e79-e5ca-226db8155f60"
      },
      "execution_count": 128,
      "outputs": [
        {
          "output_type": "execute_result",
          "data": {
            "text/plain": [
              "              Name  Cost  no of cuisnes\n",
              "0  Beyond Flavours   800              6\n",
              "1         Paradise   800              3"
            ],
            "text/html": [
              "\n",
              "  <div id=\"df-045cae54-02f0-4c76-bff2-0b6bc561346b\">\n",
              "    <div class=\"colab-df-container\">\n",
              "      <div>\n",
              "<style scoped>\n",
              "    .dataframe tbody tr th:only-of-type {\n",
              "        vertical-align: middle;\n",
              "    }\n",
              "\n",
              "    .dataframe tbody tr th {\n",
              "        vertical-align: top;\n",
              "    }\n",
              "\n",
              "    .dataframe thead th {\n",
              "        text-align: right;\n",
              "    }\n",
              "</style>\n",
              "<table border=\"1\" class=\"dataframe\">\n",
              "  <thead>\n",
              "    <tr style=\"text-align: right;\">\n",
              "      <th></th>\n",
              "      <th>Name</th>\n",
              "      <th>Cost</th>\n",
              "      <th>no of cuisnes</th>\n",
              "    </tr>\n",
              "  </thead>\n",
              "  <tbody>\n",
              "    <tr>\n",
              "      <th>0</th>\n",
              "      <td>Beyond Flavours</td>\n",
              "      <td>800</td>\n",
              "      <td>6</td>\n",
              "    </tr>\n",
              "    <tr>\n",
              "      <th>1</th>\n",
              "      <td>Paradise</td>\n",
              "      <td>800</td>\n",
              "      <td>3</td>\n",
              "    </tr>\n",
              "  </tbody>\n",
              "</table>\n",
              "</div>\n",
              "      <button class=\"colab-df-convert\" onclick=\"convertToInteractive('df-045cae54-02f0-4c76-bff2-0b6bc561346b')\"\n",
              "              title=\"Convert this dataframe to an interactive table.\"\n",
              "              style=\"display:none;\">\n",
              "        \n",
              "  <svg xmlns=\"http://www.w3.org/2000/svg\" height=\"24px\"viewBox=\"0 0 24 24\"\n",
              "       width=\"24px\">\n",
              "    <path d=\"M0 0h24v24H0V0z\" fill=\"none\"/>\n",
              "    <path d=\"M18.56 5.44l.94 2.06.94-2.06 2.06-.94-2.06-.94-.94-2.06-.94 2.06-2.06.94zm-11 1L8.5 8.5l.94-2.06 2.06-.94-2.06-.94L8.5 2.5l-.94 2.06-2.06.94zm10 10l.94 2.06.94-2.06 2.06-.94-2.06-.94-.94-2.06-.94 2.06-2.06.94z\"/><path d=\"M17.41 7.96l-1.37-1.37c-.4-.4-.92-.59-1.43-.59-.52 0-1.04.2-1.43.59L10.3 9.45l-7.72 7.72c-.78.78-.78 2.05 0 2.83L4 21.41c.39.39.9.59 1.41.59.51 0 1.02-.2 1.41-.59l7.78-7.78 2.81-2.81c.8-.78.8-2.07 0-2.86zM5.41 20L4 18.59l7.72-7.72 1.47 1.35L5.41 20z\"/>\n",
              "  </svg>\n",
              "      </button>\n",
              "      \n",
              "  <style>\n",
              "    .colab-df-container {\n",
              "      display:flex;\n",
              "      flex-wrap:wrap;\n",
              "      gap: 12px;\n",
              "    }\n",
              "\n",
              "    .colab-df-convert {\n",
              "      background-color: #E8F0FE;\n",
              "      border: none;\n",
              "      border-radius: 50%;\n",
              "      cursor: pointer;\n",
              "      display: none;\n",
              "      fill: #1967D2;\n",
              "      height: 32px;\n",
              "      padding: 0 0 0 0;\n",
              "      width: 32px;\n",
              "    }\n",
              "\n",
              "    .colab-df-convert:hover {\n",
              "      background-color: #E2EBFA;\n",
              "      box-shadow: 0px 1px 2px rgba(60, 64, 67, 0.3), 0px 1px 3px 1px rgba(60, 64, 67, 0.15);\n",
              "      fill: #174EA6;\n",
              "    }\n",
              "\n",
              "    [theme=dark] .colab-df-convert {\n",
              "      background-color: #3B4455;\n",
              "      fill: #D2E3FC;\n",
              "    }\n",
              "\n",
              "    [theme=dark] .colab-df-convert:hover {\n",
              "      background-color: #434B5C;\n",
              "      box-shadow: 0px 1px 3px 1px rgba(0, 0, 0, 0.15);\n",
              "      filter: drop-shadow(0px 1px 2px rgba(0, 0, 0, 0.3));\n",
              "      fill: #FFFFFF;\n",
              "    }\n",
              "  </style>\n",
              "\n",
              "      <script>\n",
              "        const buttonEl =\n",
              "          document.querySelector('#df-045cae54-02f0-4c76-bff2-0b6bc561346b button.colab-df-convert');\n",
              "        buttonEl.style.display =\n",
              "          google.colab.kernel.accessAllowed ? 'block' : 'none';\n",
              "\n",
              "        async function convertToInteractive(key) {\n",
              "          const element = document.querySelector('#df-045cae54-02f0-4c76-bff2-0b6bc561346b');\n",
              "          const dataTable =\n",
              "            await google.colab.kernel.invokeFunction('convertToInteractive',\n",
              "                                                     [key], {});\n",
              "          if (!dataTable) return;\n",
              "\n",
              "          const docLinkHtml = 'Like what you see? Visit the ' +\n",
              "            '<a target=\"_blank\" href=https://colab.research.google.com/notebooks/data_table.ipynb>data table notebook</a>'\n",
              "            + ' to learn more about interactive tables.';\n",
              "          element.innerHTML = '';\n",
              "          dataTable['output_type'] = 'display_data';\n",
              "          await google.colab.output.renderOutput(dataTable, element);\n",
              "          const docLink = document.createElement('div');\n",
              "          docLink.innerHTML = docLinkHtml;\n",
              "          element.appendChild(docLink);\n",
              "        }\n",
              "      </script>\n",
              "    </div>\n",
              "  </div>\n",
              "  "
            ]
          },
          "metadata": {},
          "execution_count": 128
        }
      ]
    },
    {
      "cell_type": "code",
      "source": [
        "df1=pd.read_csv('/content/drive/MyDrive/Colab Notebooks/Capstone project4- Unsupervised/Zomato Restaurant reviews.csv')"
      ],
      "metadata": {
        "id": "1qRHLN79Ovz1"
      },
      "execution_count": 129,
      "outputs": []
    },
    {
      "cell_type": "code",
      "source": [
        "df1.head(2)"
      ],
      "metadata": {
        "colab": {
          "base_uri": "https://localhost:8080/",
          "height": 112
        },
        "id": "s-_bm-M8TlzN",
        "outputId": "7600246a-2927-48e9-ab85-248bde96beba"
      },
      "execution_count": 130,
      "outputs": [
        {
          "output_type": "execute_result",
          "data": {
            "text/plain": [
              "        Restaurant              Reviewer  \\\n",
              "0  Beyond Flavours     Rusha Chakraborty   \n",
              "1  Beyond Flavours  Anusha Tirumalaneedi   \n",
              "\n",
              "                                              Review Rating  \\\n",
              "0  The ambience was good, food was quite good . h...      5   \n",
              "1  Ambience is too good for a pleasant evening. S...      5   \n",
              "\n",
              "                  Metadata             Time  Pictures  \n",
              "0   1 Review , 2 Followers  5/25/2019 15:54         0  \n",
              "1  3 Reviews , 2 Followers  5/25/2019 14:20         0  "
            ],
            "text/html": [
              "\n",
              "  <div id=\"df-a82f7cef-f136-4a65-aaf9-33fb03820981\">\n",
              "    <div class=\"colab-df-container\">\n",
              "      <div>\n",
              "<style scoped>\n",
              "    .dataframe tbody tr th:only-of-type {\n",
              "        vertical-align: middle;\n",
              "    }\n",
              "\n",
              "    .dataframe tbody tr th {\n",
              "        vertical-align: top;\n",
              "    }\n",
              "\n",
              "    .dataframe thead th {\n",
              "        text-align: right;\n",
              "    }\n",
              "</style>\n",
              "<table border=\"1\" class=\"dataframe\">\n",
              "  <thead>\n",
              "    <tr style=\"text-align: right;\">\n",
              "      <th></th>\n",
              "      <th>Restaurant</th>\n",
              "      <th>Reviewer</th>\n",
              "      <th>Review</th>\n",
              "      <th>Rating</th>\n",
              "      <th>Metadata</th>\n",
              "      <th>Time</th>\n",
              "      <th>Pictures</th>\n",
              "    </tr>\n",
              "  </thead>\n",
              "  <tbody>\n",
              "    <tr>\n",
              "      <th>0</th>\n",
              "      <td>Beyond Flavours</td>\n",
              "      <td>Rusha Chakraborty</td>\n",
              "      <td>The ambience was good, food was quite good . h...</td>\n",
              "      <td>5</td>\n",
              "      <td>1 Review , 2 Followers</td>\n",
              "      <td>5/25/2019 15:54</td>\n",
              "      <td>0</td>\n",
              "    </tr>\n",
              "    <tr>\n",
              "      <th>1</th>\n",
              "      <td>Beyond Flavours</td>\n",
              "      <td>Anusha Tirumalaneedi</td>\n",
              "      <td>Ambience is too good for a pleasant evening. S...</td>\n",
              "      <td>5</td>\n",
              "      <td>3 Reviews , 2 Followers</td>\n",
              "      <td>5/25/2019 14:20</td>\n",
              "      <td>0</td>\n",
              "    </tr>\n",
              "  </tbody>\n",
              "</table>\n",
              "</div>\n",
              "      <button class=\"colab-df-convert\" onclick=\"convertToInteractive('df-a82f7cef-f136-4a65-aaf9-33fb03820981')\"\n",
              "              title=\"Convert this dataframe to an interactive table.\"\n",
              "              style=\"display:none;\">\n",
              "        \n",
              "  <svg xmlns=\"http://www.w3.org/2000/svg\" height=\"24px\"viewBox=\"0 0 24 24\"\n",
              "       width=\"24px\">\n",
              "    <path d=\"M0 0h24v24H0V0z\" fill=\"none\"/>\n",
              "    <path d=\"M18.56 5.44l.94 2.06.94-2.06 2.06-.94-2.06-.94-.94-2.06-.94 2.06-2.06.94zm-11 1L8.5 8.5l.94-2.06 2.06-.94-2.06-.94L8.5 2.5l-.94 2.06-2.06.94zm10 10l.94 2.06.94-2.06 2.06-.94-2.06-.94-.94-2.06-.94 2.06-2.06.94z\"/><path d=\"M17.41 7.96l-1.37-1.37c-.4-.4-.92-.59-1.43-.59-.52 0-1.04.2-1.43.59L10.3 9.45l-7.72 7.72c-.78.78-.78 2.05 0 2.83L4 21.41c.39.39.9.59 1.41.59.51 0 1.02-.2 1.41-.59l7.78-7.78 2.81-2.81c.8-.78.8-2.07 0-2.86zM5.41 20L4 18.59l7.72-7.72 1.47 1.35L5.41 20z\"/>\n",
              "  </svg>\n",
              "      </button>\n",
              "      \n",
              "  <style>\n",
              "    .colab-df-container {\n",
              "      display:flex;\n",
              "      flex-wrap:wrap;\n",
              "      gap: 12px;\n",
              "    }\n",
              "\n",
              "    .colab-df-convert {\n",
              "      background-color: #E8F0FE;\n",
              "      border: none;\n",
              "      border-radius: 50%;\n",
              "      cursor: pointer;\n",
              "      display: none;\n",
              "      fill: #1967D2;\n",
              "      height: 32px;\n",
              "      padding: 0 0 0 0;\n",
              "      width: 32px;\n",
              "    }\n",
              "\n",
              "    .colab-df-convert:hover {\n",
              "      background-color: #E2EBFA;\n",
              "      box-shadow: 0px 1px 2px rgba(60, 64, 67, 0.3), 0px 1px 3px 1px rgba(60, 64, 67, 0.15);\n",
              "      fill: #174EA6;\n",
              "    }\n",
              "\n",
              "    [theme=dark] .colab-df-convert {\n",
              "      background-color: #3B4455;\n",
              "      fill: #D2E3FC;\n",
              "    }\n",
              "\n",
              "    [theme=dark] .colab-df-convert:hover {\n",
              "      background-color: #434B5C;\n",
              "      box-shadow: 0px 1px 3px 1px rgba(0, 0, 0, 0.15);\n",
              "      filter: drop-shadow(0px 1px 2px rgba(0, 0, 0, 0.3));\n",
              "      fill: #FFFFFF;\n",
              "    }\n",
              "  </style>\n",
              "\n",
              "      <script>\n",
              "        const buttonEl =\n",
              "          document.querySelector('#df-a82f7cef-f136-4a65-aaf9-33fb03820981 button.colab-df-convert');\n",
              "        buttonEl.style.display =\n",
              "          google.colab.kernel.accessAllowed ? 'block' : 'none';\n",
              "\n",
              "        async function convertToInteractive(key) {\n",
              "          const element = document.querySelector('#df-a82f7cef-f136-4a65-aaf9-33fb03820981');\n",
              "          const dataTable =\n",
              "            await google.colab.kernel.invokeFunction('convertToInteractive',\n",
              "                                                     [key], {});\n",
              "          if (!dataTable) return;\n",
              "\n",
              "          const docLinkHtml = 'Like what you see? Visit the ' +\n",
              "            '<a target=\"_blank\" href=https://colab.research.google.com/notebooks/data_table.ipynb>data table notebook</a>'\n",
              "            + ' to learn more about interactive tables.';\n",
              "          element.innerHTML = '';\n",
              "          dataTable['output_type'] = 'display_data';\n",
              "          await google.colab.output.renderOutput(dataTable, element);\n",
              "          const docLink = document.createElement('div');\n",
              "          docLink.innerHTML = docLinkHtml;\n",
              "          element.appendChild(docLink);\n",
              "        }\n",
              "      </script>\n",
              "    </div>\n",
              "  </div>\n",
              "  "
            ]
          },
          "metadata": {},
          "execution_count": 130
        }
      ]
    },
    {
      "cell_type": "code",
      "source": [
        "df1.info()"
      ],
      "metadata": {
        "colab": {
          "base_uri": "https://localhost:8080/"
        },
        "id": "4FeURVHfTn0z",
        "outputId": "4fe854ae-541f-4e7a-f7ae-70155430350f"
      },
      "execution_count": 131,
      "outputs": [
        {
          "output_type": "stream",
          "name": "stdout",
          "text": [
            "<class 'pandas.core.frame.DataFrame'>\n",
            "RangeIndex: 10000 entries, 0 to 9999\n",
            "Data columns (total 7 columns):\n",
            " #   Column      Non-Null Count  Dtype \n",
            "---  ------      --------------  ----- \n",
            " 0   Restaurant  10000 non-null  object\n",
            " 1   Reviewer    9962 non-null   object\n",
            " 2   Review      9955 non-null   object\n",
            " 3   Rating      9962 non-null   object\n",
            " 4   Metadata    9962 non-null   object\n",
            " 5   Time        9962 non-null   object\n",
            " 6   Pictures    10000 non-null  int64 \n",
            "dtypes: int64(1), object(6)\n",
            "memory usage: 547.0+ KB\n"
          ]
        }
      ]
    },
    {
      "cell_type": "code",
      "source": [
        "df1=df1.dropna()"
      ],
      "metadata": {
        "id": "AvKSerd2T0dQ"
      },
      "execution_count": 132,
      "outputs": []
    },
    {
      "cell_type": "code",
      "source": [
        "df1.isnull().sum()"
      ],
      "metadata": {
        "colab": {
          "base_uri": "https://localhost:8080/"
        },
        "id": "LufQfkOB3C5b",
        "outputId": "6ed53197-102e-478f-c28f-7e052211f246"
      },
      "execution_count": 133,
      "outputs": [
        {
          "output_type": "execute_result",
          "data": {
            "text/plain": [
              "Restaurant    0\n",
              "Reviewer      0\n",
              "Review        0\n",
              "Rating        0\n",
              "Metadata      0\n",
              "Time          0\n",
              "Pictures      0\n",
              "dtype: int64"
            ]
          },
          "metadata": {},
          "execution_count": 133
        }
      ]
    },
    {
      "cell_type": "code",
      "source": [
        "df1.info()"
      ],
      "metadata": {
        "colab": {
          "base_uri": "https://localhost:8080/"
        },
        "id": "V7PJVF403IbC",
        "outputId": "6728ea0a-d783-4dd8-a0bb-5bfe12a9baf3"
      },
      "execution_count": 134,
      "outputs": [
        {
          "output_type": "stream",
          "name": "stdout",
          "text": [
            "<class 'pandas.core.frame.DataFrame'>\n",
            "Int64Index: 9955 entries, 0 to 9999\n",
            "Data columns (total 7 columns):\n",
            " #   Column      Non-Null Count  Dtype \n",
            "---  ------      --------------  ----- \n",
            " 0   Restaurant  9955 non-null   object\n",
            " 1   Reviewer    9955 non-null   object\n",
            " 2   Review      9955 non-null   object\n",
            " 3   Rating      9955 non-null   object\n",
            " 4   Metadata    9955 non-null   object\n",
            " 5   Time        9955 non-null   object\n",
            " 6   Pictures    9955 non-null   int64 \n",
            "dtypes: int64(1), object(6)\n",
            "memory usage: 622.2+ KB\n"
          ]
        }
      ]
    },
    {
      "cell_type": "code",
      "source": [
        "df1.Restaurant.unique()"
      ],
      "metadata": {
        "colab": {
          "base_uri": "https://localhost:8080/"
        },
        "id": "jVlIIr_-3Ot_",
        "outputId": "9a05cd05-542a-46b3-df18-1e10c9dd8c8c"
      },
      "execution_count": 135,
      "outputs": [
        {
          "output_type": "execute_result",
          "data": {
            "text/plain": [
              "array(['Beyond Flavours', 'Paradise', 'Flechazo',\n",
              "       'Shah Ghouse Hotel & Restaurant', 'Over The Moon Brew Company',\n",
              "       \"The Fisherman's Wharf\", 'eat.fit', 'Shah Ghouse Spl Shawarma',\n",
              "       'Hyper Local', 'Cream Stone', \"Sardarji's Chaats & More\",\n",
              "       'Barbeque Nation', 'Absolute Sizzlers',\n",
              "       'The Lal Street - Bar Exchange', \"AB's - Absolute Barbecues\",\n",
              "       'KFC', 'NorFest - The Dhaba', 'Hotel Zara Hi-Fi',\n",
              "       '10 Downing Street', 'Pakwaan Grand', '13 Dhaba',\n",
              "       \"Jonathan's Kitchen - Holiday Inn Express & Suites\", 'B-Dubs',\n",
              "       'Amul', 'SKYHY', 'Tiki Shack', 'Mustang Terrace Lounge',\n",
              "       \"3B's - Buddies, Bar & Barbecue\", 'Behrouz Biryani',\n",
              "       'Hunger Maggi Point', 'Pot Pourri', 'Pista House',\n",
              "       'Marsala Food Company', 'Club Rogue',\n",
              "       'Mazzo - Marriott Executive Apartments',\n",
              "       'Green Bawarchi Restaurant', 'Banana Leaf Multicuisine Restaurant',\n",
              "       'Kritunga Restaurant', 'The Glass Onion', 'Deli 9 Bistro',\n",
              "       'Frio Bistro', 'Karachi Bakery', 'Karachi Cafe',\n",
              "       'The Foodie Monster Kitchen', 'La La Land - Bar & Kitchen',\n",
              "       'Owm Nom Nom', 'Ulavacharu', 'Shanghai Chef 2', \"Udipi's Upahar\",\n",
              "       'Mathura Vilas', 'Gal Punjab Di', 'Hitech Bawarchi Food Zone',\n",
              "       'Biryanis And More', 'Diners Pavilion', 'Asian Meal Box',\n",
              "       'Cafe Eclat', 'Feast - Sheraton Hyderabad Hotel', 'Being Hungry',\n",
              "       'Tempteys', 'KS Bakers', 'PourHouse7', 'Prism Club & Kitchen',\n",
              "       'Shree Santosh Dhaba Family Restaurant', 'Dine O China',\n",
              "       'Hyderabad Chefs', 'Komatose - Holiday Inn Express & Suites',\n",
              "       'Aromas@11SIX', 'Yum Yum Tree - The Arabian Food Court',\n",
              "       'The Tilt Bar Republic', 'The Indi Grill',\n",
              "       'Urban Asia - Kitchen & Bar', 'Eat India Company', 'Labonel',\n",
              "       'Driven Cafe', 'Faasos', 'Royal Spicy Restaurant',\n",
              "       'The Old Madras Baking Company', 'Squeeze @ The Lime',\n",
              "       'Khaan Saab', 'Olive Garden', 'Tandoori Food Works', 'Delhi-39',\n",
              "       'Al Saba Restaurant', \"GD's\", 'T Grill', 'Momos Delight',\n",
              "       'The Chocolate Room', 'American Wild Wings', \"Domino's Pizza\",\n",
              "       'Mohammedia Shawarma', 'Arena Eleven',\n",
              "       'Cascade - Radisson Hyderabad Hitec City',\n",
              "       'Collage - Hyatt Hyderabad Gachibowli', \"Zing's Northeast Kitchen\",\n",
              "       \"Dunkin' Donuts\", 'Desi Bytes', 'Hyderabadi Daawat',\n",
              "       'Zega - Sheraton Hyderabad Hotel', 'Triptify', 'Chinese Pavilion'],\n",
              "      dtype=object)"
            ]
          },
          "metadata": {},
          "execution_count": 135
        }
      ]
    },
    {
      "cell_type": "code",
      "source": [
        "df1.columns"
      ],
      "metadata": {
        "colab": {
          "base_uri": "https://localhost:8080/"
        },
        "id": "nLvt8XrSQJKy",
        "outputId": "db640ff2-9f65-45b7-dc3e-33750bbf29a4"
      },
      "execution_count": 136,
      "outputs": [
        {
          "output_type": "execute_result",
          "data": {
            "text/plain": [
              "Index(['Restaurant', 'Reviewer', 'Review', 'Rating', 'Metadata', 'Time',\n",
              "       'Pictures'],\n",
              "      dtype='object')"
            ]
          },
          "metadata": {},
          "execution_count": 136
        }
      ]
    },
    {
      "cell_type": "code",
      "source": [
        "df1.Reviewer.unique()"
      ],
      "metadata": {
        "colab": {
          "base_uri": "https://localhost:8080/"
        },
        "id": "wl-lak4Cq-p1",
        "outputId": "420ba1b6-6303-4c71-9fb3-07e252bb1fe3"
      },
      "execution_count": 137,
      "outputs": [
        {
          "output_type": "execute_result",
          "data": {
            "text/plain": [
              "array(['Rusha Chakraborty', 'Anusha Tirumalaneedi', 'Ashok Shekhawat',\n",
              "       ..., 'Ramandeep', 'Nayana Shanbhag', 'Bhargava Krishna'],\n",
              "      dtype=object)"
            ]
          },
          "metadata": {},
          "execution_count": 137
        }
      ]
    },
    {
      "cell_type": "code",
      "source": [
        "df1.Review.unique()"
      ],
      "metadata": {
        "colab": {
          "base_uri": "https://localhost:8080/"
        },
        "id": "jObIWhNrBX-6",
        "outputId": "e70bfa8e-7dbe-46a4-b8e5-6a60c9fb898c"
      },
      "execution_count": 138,
      "outputs": [
        {
          "output_type": "execute_result",
          "data": {
            "text/plain": [
              "array(['The ambience was good, food was quite good . had Saturday lunch , which was cost effective .\\nGood place for a sate brunch. One can also chill with friends and or parents.\\nWaiter Soumen Das was really courteous and helpful.',\n",
              "       'Ambience is too good for a pleasant evening. Service is very prompt. Food is good. Over all a good experience. Soumen Das - kudos to the service',\n",
              "       'A must try.. great food great ambience. Thnx for the service by Pradeep and Subroto. My personal recommendation is Penne Alfredo Pasta:) ....... Also the music in the background is amazing.',\n",
              "       ...,\n",
              "       'Bad rating is mainly because of \"Chicken Bone found in Veg food\" and is not acceptable for a Vegetarian.\\n\\nTo satiate Cravings for chinese food we headed to Chinese Pavilion and there was also a voucher available in Little app for Luncheon tray for Rs 310 (Veg) [well do not bother for the voucher as the price for Veg Luncheon tray is Rs 275/- + taxes in the restaurant itself).\\n\\nThe ambiance is decent and since it was noon, not many tables occupied so it was pretty quite.\\n\\nIt was Thrusday special (Veg):\\nHot and Sour soup: was just OK - well it had sprouts which were crunchy in your mouth: something different.\\nKimchi - salad (personally i\\'m never fond of it)\\nPotato in plum sauce - this was very good and well made\\nBrocolli, Baby corn, Mushroom in spicy sauce - this dish lived to its name \\'too spicy\\'; but was fine with fried rice\\nVeg hakka noodles - was good\\nVeg fried rice\\n\\nOverall the food tasted good until a piece of chicken BONE came into my friend\\'s (he is pure vegetarian) mouth while eating noodles. It was such a disappointment and complete experience was ruined.\\nWell Management did apologise but surely they cannot put things correct and were offering of not using coupon but we surely don\\'t want to visit the place again. I requested to see their kitchen if they really segregate pans for Veg/Non-veg cooking which Manager declined which makes me believe they don\\'t.\\n\\nStaff and service are fine but they really need to improve the segregation of Veg and Non-veg as in Indian Culture it means a lot.\\n\\nUploaded photos with the bone found.',\n",
              "       'I personally love and prefer Chinese Food. Had been here couple of times with my husband.\\n\\nThe ambiance of the place is very good. The entrance has some carvings and the walls were very nicely decorated. The server was very polite\\n\\nWhen it comes to food this place does not disappoint.This is a small/comfy restaurant that is surprisingly not very crowded even on weekends. \\n\\nWe went there for our anniversary celebrations and it was just perfect. No crowd, we got the attention and service we were looking for.',\n",
              "       \"Checked in here to try some delicious chinese food here, seen non-veg luncheon tray menu ans tried the same which they are charging 300+ taxes..\\nStarted with manchow soup and liked it instantly.. Thereafter luncheon tray had came with pepper chicken starter, kimchi (salad), wolly chicken, egg fried rice and egg hakka noodles.. Taste is fine and didn't liked eating egg hakka noodles and egg fried rice at a time.. Badly missed dessert along with tray! (Dnt mind for extra price..)\\nValue for money and fine ambience.\"],\n",
              "      dtype=object)"
            ]
          },
          "metadata": {},
          "execution_count": 138
        }
      ]
    },
    {
      "cell_type": "code",
      "source": [
        "df1.Rating.unique()\n",
        "df1.Rating.value_counts()"
      ],
      "metadata": {
        "colab": {
          "base_uri": "https://localhost:8080/"
        },
        "id": "hJoQot9_QPst",
        "outputId": "8bd60b28-d6e4-44f3-ad54-d23155e3a305"
      },
      "execution_count": 139,
      "outputs": [
        {
          "output_type": "execute_result",
          "data": {
            "text/plain": [
              "5       3826\n",
              "4       2373\n",
              "1       1735\n",
              "3       1192\n",
              "2        684\n",
              "4.5       69\n",
              "3.5       47\n",
              "2.5       19\n",
              "1.5        9\n",
              "Like       1\n",
              "Name: Rating, dtype: int64"
            ]
          },
          "metadata": {},
          "execution_count": 139
        }
      ]
    },
    {
      "cell_type": "code",
      "source": [
        "df1=df1.drop(df1.loc[df1.Rating=='Like'].index)"
      ],
      "metadata": {
        "id": "4e6ayVQiQbk4"
      },
      "execution_count": 140,
      "outputs": []
    },
    {
      "cell_type": "code",
      "source": [
        "df1['Rating']=df1.Rating.astype('float')"
      ],
      "metadata": {
        "id": "T7FEeYZ5Rl5n"
      },
      "execution_count": 141,
      "outputs": []
    },
    {
      "cell_type": "code",
      "source": [
        "Rating=df1.groupby(['Restaurant'])['Rating'].mean().sort_values(ascending=False)"
      ],
      "metadata": {
        "id": "eugCN2XSTIPO"
      },
      "execution_count": 142,
      "outputs": []
    },
    {
      "cell_type": "code",
      "source": [
        "top_10=Rating.iloc[:10]\n",
        "x=top_10.index.to_list()\n",
        "y=top_10.to_list()\n",
        "plt.bar(x,y,color='rgbkymc')\n",
        "plt.xticks(rotation=90)\n",
        "plt.xlabel('Restaurants')\n",
        "plt.ylabel('Ratings')\n",
        "plt.title('Top rating hotels')"
      ],
      "metadata": {
        "colab": {
          "base_uri": "https://localhost:8080/",
          "height": 782
        },
        "id": "cqDbzx0S2cat",
        "outputId": "527a4cde-5666-4415-a301-93df8eaec708"
      },
      "execution_count": 143,
      "outputs": [
        {
          "output_type": "stream",
          "name": "stderr",
          "text": [
            "/usr/local/lib/python3.7/dist-packages/ipykernel_launcher.py:4: MatplotlibDeprecationWarning: Using a string of single character colors as a color sequence is deprecated. Use an explicit list instead.\n",
            "  after removing the cwd from sys.path.\n"
          ]
        },
        {
          "output_type": "execute_result",
          "data": {
            "text/plain": [
              "Text(0.5, 1.0, 'Top rating hotels')"
            ]
          },
          "metadata": {},
          "execution_count": 143
        },
        {
          "output_type": "display_data",
          "data": {
            "text/plain": [
              "<Figure size 720x576 with 1 Axes>"
            ],
            "image/png": "[encoded data removed]"
          },
          "metadata": {
            "needs_background": "light"
          }
        }
      ]
    },
    {
      "cell_type": "code",
      "source": [
        "top_10"
      ],
      "metadata": {
        "colab": {
          "base_uri": "https://localhost:8080/"
        },
        "id": "EAsmIgBT3hN3",
        "outputId": "4ab5de3e-5818-40d9-aeb6-37d798f78d5b"
      },
      "execution_count": 144,
      "outputs": [
        {
          "output_type": "execute_result",
          "data": {
            "text/plain": [
              "Restaurant\n",
              "AB's - Absolute Barbecues                  4.88\n",
              "B-Dubs                                     4.81\n",
              "3B's - Buddies, Bar & Barbecue             4.76\n",
              "Paradise                                   4.70\n",
              "Flechazo                                   4.66\n",
              "The Indi Grill                             4.60\n",
              "Zega - Sheraton Hyderabad Hotel            4.45\n",
              "Over The Moon Brew Company                 4.34\n",
              "Beyond Flavours                            4.28\n",
              "Cascade - Radisson Hyderabad Hitec City    4.26\n",
              "Name: Rating, dtype: float64"
            ]
          },
          "metadata": {},
          "execution_count": 144
        }
      ]
    },
    {
      "cell_type": "code",
      "source": [
        "bottom_10=Rating.iloc[:-10:-1]\n",
        "x=bottom_10.index.to_list()\n",
        "y=bottom_10.to_list()\n",
        "plt.bar(x,y,color='rgbkymc')\n",
        "plt.xticks(rotation=90)\n",
        "plt.xlabel('Restaurants')\n",
        "plt.ylabel('Ratings')\n",
        "plt.title('Lowest rating hotels')"
      ],
      "metadata": {
        "colab": {
          "base_uri": "https://localhost:8080/",
          "height": 776
        },
        "id": "ZSL1_nK16-Ak",
        "outputId": "c0f55159-4f3a-4d9a-f981-b0efa97793b8"
      },
      "execution_count": 145,
      "outputs": [
        {
          "output_type": "stream",
          "name": "stderr",
          "text": [
            "/usr/local/lib/python3.7/dist-packages/ipykernel_launcher.py:4: MatplotlibDeprecationWarning: Using a string of single character colors as a color sequence is deprecated. Use an explicit list instead.\n",
            "  after removing the cwd from sys.path.\n"
          ]
        },
        {
          "output_type": "execute_result",
          "data": {
            "text/plain": [
              "Text(0.5, 1.0, 'Lowest rating hotels')"
            ]
          },
          "metadata": {},
          "execution_count": 145
        },
        {
          "output_type": "display_data",
          "data": {
            "text/plain": [
              "<Figure size 720x576 with 1 Axes>"
            ],
            "image/png": "[encoded data removed]"
          },
          "metadata": {
            "needs_background": "light"
          }
        }
      ]
    },
    {
      "cell_type": "code",
      "source": [
        "df1.info()"
      ],
      "metadata": {
        "colab": {
          "base_uri": "https://localhost:8080/"
        },
        "id": "0myjN_3FScSe",
        "outputId": "506f60ee-eb50-40bb-ed2e-748d9a322217"
      },
      "execution_count": 146,
      "outputs": [
        {
          "output_type": "stream",
          "name": "stdout",
          "text": [
            "<class 'pandas.core.frame.DataFrame'>\n",
            "Int64Index: 9954 entries, 0 to 9999\n",
            "Data columns (total 7 columns):\n",
            " #   Column      Non-Null Count  Dtype  \n",
            "---  ------      --------------  -----  \n",
            " 0   Restaurant  9954 non-null   object \n",
            " 1   Reviewer    9954 non-null   object \n",
            " 2   Review      9954 non-null   object \n",
            " 3   Rating      9954 non-null   float64\n",
            " 4   Metadata    9954 non-null   object \n",
            " 5   Time        9954 non-null   object \n",
            " 6   Pictures    9954 non-null   int64  \n",
            "dtypes: float64(1), int64(1), object(5)\n",
            "memory usage: 622.1+ KB\n"
          ]
        }
      ]
    },
    {
      "cell_type": "code",
      "source": [
        "df1.Metadata.unique()"
      ],
      "metadata": {
        "id": "SOke6VZDTCY-",
        "colab": {
          "base_uri": "https://localhost:8080/"
        },
        "outputId": "2e9a85b4-3d12-45a4-96ab-fd0dc61d9751"
      },
      "execution_count": 147,
      "outputs": [
        {
          "output_type": "execute_result",
          "data": {
            "text/plain": [
              "array(['1 Review , 2 Followers', '3 Reviews , 2 Followers',\n",
              "       '2 Reviews , 3 Followers', ..., '65 Reviews , 423 Followers',\n",
              "       '13 Reviews , 144 Followers', '472 Reviews , 1302 Followers'],\n",
              "      dtype=object)"
            ]
          },
          "metadata": {},
          "execution_count": 147
        }
      ]
    },
    {
      "cell_type": "code",
      "source": [
        "meta=df1.Metadata.str.split(expand=True)\n",
        "meta_df=meta[[0,3]]\n",
        "meta_df.columns=['Reviews','Followers']\n",
        "meta_df"
      ],
      "metadata": {
        "colab": {
          "base_uri": "https://localhost:8080/",
          "height": 424
        },
        "id": "LX2OF-1XZqpp",
        "outputId": "bca28954-c79d-4cb4-dcb4-cb20cbfb7654"
      },
      "execution_count": 148,
      "outputs": [
        {
          "output_type": "execute_result",
          "data": {
            "text/plain": [
              "     Reviews Followers\n",
              "0          1         2\n",
              "1          3         2\n",
              "2          2         3\n",
              "3          1         1\n",
              "4          3         2\n",
              "...      ...       ...\n",
              "9995      53        54\n",
              "9996       2        53\n",
              "9997      65       423\n",
              "9998      13       144\n",
              "9999     472      1302\n",
              "\n",
              "[9954 rows x 2 columns]"
            ],
            "text/html": [
              "\n",
              "  <div id=\"df-3b0bdfdf-4c1b-493d-b340-e375faee8e0a\">\n",
              "    <div class=\"colab-df-container\">\n",
              "      <div>\n",
              "<style scoped>\n",
              "    .dataframe tbody tr th:only-of-type {\n",
              "        vertical-align: middle;\n",
              "    }\n",
              "\n",
              "    .dataframe tbody tr th {\n",
              "        vertical-align: top;\n",
              "    }\n",
              "\n",
              "    .dataframe thead th {\n",
              "        text-align: right;\n",
              "    }\n",
              "</style>\n",
              "<table border=\"1\" class=\"dataframe\">\n",
              "  <thead>\n",
              "    <tr style=\"text-align: right;\">\n",
              "      <th></th>\n",
              "      <th>Reviews</th>\n",
              "      <th>Followers</th>\n",
              "    </tr>\n",
              "  </thead>\n",
              "  <tbody>\n",
              "    <tr>\n",
              "      <th>0</th>\n",
              "      <td>1</td>\n",
              "      <td>2</td>\n",
              "    </tr>\n",
              "    <tr>\n",
              "      <th>1</th>\n",
              "      <td>3</td>\n",
              "      <td>2</td>\n",
              "    </tr>\n",
              "    <tr>\n",
              "      <th>2</th>\n",
              "      <td>2</td>\n",
              "      <td>3</td>\n",
              "    </tr>\n",
              "    <tr>\n",
              "      <th>3</th>\n",
              "      <td>1</td>\n",
              "      <td>1</td>\n",
              "    </tr>\n",
              "    <tr>\n",
              "      <th>4</th>\n",
              "      <td>3</td>\n",
              "      <td>2</td>\n",
              "    </tr>\n",
              "    <tr>\n",
              "      <th>...</th>\n",
              "      <td>...</td>\n",
              "      <td>...</td>\n",
              "    </tr>\n",
              "    <tr>\n",
              "      <th>9995</th>\n",
              "      <td>53</td>\n",
              "      <td>54</td>\n",
              "    </tr>\n",
              "    <tr>\n",
              "      <th>9996</th>\n",
              "      <td>2</td>\n",
              "      <td>53</td>\n",
              "    </tr>\n",
              "    <tr>\n",
              "      <th>9997</th>\n",
              "      <td>65</td>\n",
              "      <td>423</td>\n",
              "    </tr>\n",
              "    <tr>\n",
              "      <th>9998</th>\n",
              "      <td>13</td>\n",
              "      <td>144</td>\n",
              "    </tr>\n",
              "    <tr>\n",
              "      <th>9999</th>\n",
              "      <td>472</td>\n",
              "      <td>1302</td>\n",
              "    </tr>\n",
              "  </tbody>\n",
              "</table>\n",
              "<p>9954 rows × 2 columns</p>\n",
              "</div>\n",
              "      <button class=\"colab-df-convert\" onclick=\"convertToInteractive('df-3b0bdfdf-4c1b-493d-b340-e375faee8e0a')\"\n",
              "              title=\"Convert this dataframe to an interactive table.\"\n",
              "              style=\"display:none;\">\n",
              "        \n",
              "  <svg xmlns=\"http://www.w3.org/2000/svg\" height=\"24px\"viewBox=\"0 0 24 24\"\n",
              "       width=\"24px\">\n",
              "    <path d=\"M0 0h24v24H0V0z\" fill=\"none\"/>\n",
              "    <path d=\"M18.56 5.44l.94 2.06.94-2.06 2.06-.94-2.06-.94-.94-2.06-.94 2.06-2.06.94zm-11 1L8.5 8.5l.94-2.06 2.06-.94-2.06-.94L8.5 2.5l-.94 2.06-2.06.94zm10 10l.94 2.06.94-2.06 2.06-.94-2.06-.94-.94-2.06-.94 2.06-2.06.94z\"/><path d=\"M17.41 7.96l-1.37-1.37c-.4-.4-.92-.59-1.43-.59-.52 0-1.04.2-1.43.59L10.3 9.45l-7.72 7.72c-.78.78-.78 2.05 0 2.83L4 21.41c.39.39.9.59 1.41.59.51 0 1.02-.2 1.41-.59l7.78-7.78 2.81-2.81c.8-.78.8-2.07 0-2.86zM5.41 20L4 18.59l7.72-7.72 1.47 1.35L5.41 20z\"/>\n",
              "  </svg>\n",
              "      </button>\n",
              "      \n",
              "  <style>\n",
              "    .colab-df-container {\n",
              "      display:flex;\n",
              "      flex-wrap:wrap;\n",
              "      gap: 12px;\n",
              "    }\n",
              "\n",
              "    .colab-df-convert {\n",
              "      background-color: #E8F0FE;\n",
              "      border: none;\n",
              "      border-radius: 50%;\n",
              "      cursor: pointer;\n",
              "      display: none;\n",
              "      fill: #1967D2;\n",
              "      height: 32px;\n",
              "      padding: 0 0 0 0;\n",
              "      width: 32px;\n",
              "    }\n",
              "\n",
              "    .colab-df-convert:hover {\n",
              "      background-color: #E2EBFA;\n",
              "      box-shadow: 0px 1px 2px rgba(60, 64, 67, 0.3), 0px 1px 3px 1px rgba(60, 64, 67, 0.15);\n",
              "      fill: #174EA6;\n",
              "    }\n",
              "\n",
              "    [theme=dark] .colab-df-convert {\n",
              "      background-color: #3B4455;\n",
              "      fill: #D2E3FC;\n",
              "    }\n",
              "\n",
              "    [theme=dark] .colab-df-convert:hover {\n",
              "      background-color: #434B5C;\n",
              "      box-shadow: 0px 1px 3px 1px rgba(0, 0, 0, 0.15);\n",
              "      filter: drop-shadow(0px 1px 2px rgba(0, 0, 0, 0.3));\n",
              "      fill: #FFFFFF;\n",
              "    }\n",
              "  </style>\n",
              "\n",
              "      <script>\n",
              "        const buttonEl =\n",
              "          document.querySelector('#df-3b0bdfdf-4c1b-493d-b340-e375faee8e0a button.colab-df-convert');\n",
              "        buttonEl.style.display =\n",
              "          google.colab.kernel.accessAllowed ? 'block' : 'none';\n",
              "\n",
              "        async function convertToInteractive(key) {\n",
              "          const element = document.querySelector('#df-3b0bdfdf-4c1b-493d-b340-e375faee8e0a');\n",
              "          const dataTable =\n",
              "            await google.colab.kernel.invokeFunction('convertToInteractive',\n",
              "                                                     [key], {});\n",
              "          if (!dataTable) return;\n",
              "\n",
              "          const docLinkHtml = 'Like what you see? Visit the ' +\n",
              "            '<a target=\"_blank\" href=https://colab.research.google.com/notebooks/data_table.ipynb>data table notebook</a>'\n",
              "            + ' to learn more about interactive tables.';\n",
              "          element.innerHTML = '';\n",
              "          dataTable['output_type'] = 'display_data';\n",
              "          await google.colab.output.renderOutput(dataTable, element);\n",
              "          const docLink = document.createElement('div');\n",
              "          docLink.innerHTML = docLinkHtml;\n",
              "          element.appendChild(docLink);\n",
              "        }\n",
              "      </script>\n",
              "    </div>\n",
              "  </div>\n",
              "  "
            ]
          },
          "metadata": {},
          "execution_count": 148
        }
      ]
    },
    {
      "cell_type": "code",
      "source": [
        "df1=pd.concat([df1,meta_df],axis=1)\n",
        "df1.drop('Metadata',axis=1,inplace=True)\n",
        "df1.head()"
      ],
      "metadata": {
        "colab": {
          "base_uri": "https://localhost:8080/",
          "height": 206
        },
        "id": "jK0ihl_z6BXb",
        "outputId": "cc657194-faab-478e-99e5-3c52f803b95d"
      },
      "execution_count": 149,
      "outputs": [
        {
          "output_type": "execute_result",
          "data": {
            "text/plain": [
              "        Restaurant              Reviewer  \\\n",
              "0  Beyond Flavours     Rusha Chakraborty   \n",
              "1  Beyond Flavours  Anusha Tirumalaneedi   \n",
              "2  Beyond Flavours       Ashok Shekhawat   \n",
              "3  Beyond Flavours        Swapnil Sarkar   \n",
              "4  Beyond Flavours                Dileep   \n",
              "\n",
              "                                              Review  Rating             Time  \\\n",
              "0  The ambience was good, food was quite good . h...     5.0  5/25/2019 15:54   \n",
              "1  Ambience is too good for a pleasant evening. S...     5.0  5/25/2019 14:20   \n",
              "2  A must try.. great food great ambience. Thnx f...     5.0  5/24/2019 22:54   \n",
              "3  Soumen das and Arun was a great guy. Only beca...     5.0  5/24/2019 22:11   \n",
              "4  Food is good.we ordered Kodi drumsticks and ba...     5.0  5/24/2019 21:37   \n",
              "\n",
              "   Pictures Reviews Followers  \n",
              "0         0       1         2  \n",
              "1         0       3         2  \n",
              "2         0       2         3  \n",
              "3         0       1         1  \n",
              "4         0       3         2  "
            ],
            "text/html": [
              "\n",
              "  <div id=\"df-ece10bc2-b755-4d4d-aabf-276d50ebbed6\">\n",
              "    <div class=\"colab-df-container\">\n",
              "      <div>\n",
              "<style scoped>\n",
              "    .dataframe tbody tr th:only-of-type {\n",
              "        vertical-align: middle;\n",
              "    }\n",
              "\n",
              "    .dataframe tbody tr th {\n",
              "        vertical-align: top;\n",
              "    }\n",
              "\n",
              "    .dataframe thead th {\n",
              "        text-align: right;\n",
              "    }\n",
              "</style>\n",
              "<table border=\"1\" class=\"dataframe\">\n",
              "  <thead>\n",
              "    <tr style=\"text-align: right;\">\n",
              "      <th></th>\n",
              "      <th>Restaurant</th>\n",
              "      <th>Reviewer</th>\n",
              "      <th>Review</th>\n",
              "      <th>Rating</th>\n",
              "      <th>Time</th>\n",
              "      <th>Pictures</th>\n",
              "      <th>Reviews</th>\n",
              "      <th>Followers</th>\n",
              "    </tr>\n",
              "  </thead>\n",
              "  <tbody>\n",
              "    <tr>\n",
              "      <th>0</th>\n",
              "      <td>Beyond Flavours</td>\n",
              "      <td>Rusha Chakraborty</td>\n",
              "      <td>The ambience was good, food was quite good . h...</td>\n",
              "      <td>5.0</td>\n",
              "      <td>5/25/2019 15:54</td>\n",
              "      <td>0</td>\n",
              "      <td>1</td>\n",
              "      <td>2</td>\n",
              "    </tr>\n",
              "    <tr>\n",
              "      <th>1</th>\n",
              "      <td>Beyond Flavours</td>\n",
              "      <td>Anusha Tirumalaneedi</td>\n",
              "      <td>Ambience is too good for a pleasant evening. S...</td>\n",
              "      <td>5.0</td>\n",
              "      <td>5/25/2019 14:20</td>\n",
              "      <td>0</td>\n",
              "      <td>3</td>\n",
              "      <td>2</td>\n",
              "    </tr>\n",
              "    <tr>\n",
              "      <th>2</th>\n",
              "      <td>Beyond Flavours</td>\n",
              "      <td>Ashok Shekhawat</td>\n",
              "      <td>A must try.. great food great ambience. Thnx f...</td>\n",
              "      <td>5.0</td>\n",
              "      <td>5/24/2019 22:54</td>\n",
              "      <td>0</td>\n",
              "      <td>2</td>\n",
              "      <td>3</td>\n",
              "    </tr>\n",
              "    <tr>\n",
              "      <th>3</th>\n",
              "      <td>Beyond Flavours</td>\n",
              "      <td>Swapnil Sarkar</td>\n",
              "      <td>Soumen das and Arun was a great guy. Only beca...</td>\n",
              "      <td>5.0</td>\n",
              "      <td>5/24/2019 22:11</td>\n",
              "      <td>0</td>\n",
              "      <td>1</td>\n",
              "      <td>1</td>\n",
              "    </tr>\n",
              "    <tr>\n",
              "      <th>4</th>\n",
              "      <td>Beyond Flavours</td>\n",
              "      <td>Dileep</td>\n",
              "      <td>Food is good.we ordered Kodi drumsticks and ba...</td>\n",
              "      <td>5.0</td>\n",
              "      <td>5/24/2019 21:37</td>\n",
              "      <td>0</td>\n",
              "      <td>3</td>\n",
              "      <td>2</td>\n",
              "    </tr>\n",
              "  </tbody>\n",
              "</table>\n",
              "</div>\n",
              "      <button class=\"colab-df-convert\" onclick=\"convertToInteractive('df-ece10bc2-b755-4d4d-aabf-276d50ebbed6')\"\n",
              "              title=\"Convert this dataframe to an interactive table.\"\n",
              "              style=\"display:none;\">\n",
              "        \n",
              "  <svg xmlns=\"http://www.w3.org/2000/svg\" height=\"24px\"viewBox=\"0 0 24 24\"\n",
              "       width=\"24px\">\n",
              "    <path d=\"M0 0h24v24H0V0z\" fill=\"none\"/>\n",
              "    <path d=\"M18.56 5.44l.94 2.06.94-2.06 2.06-.94-2.06-.94-.94-2.06-.94 2.06-2.06.94zm-11 1L8.5 8.5l.94-2.06 2.06-.94-2.06-.94L8.5 2.5l-.94 2.06-2.06.94zm10 10l.94 2.06.94-2.06 2.06-.94-2.06-.94-.94-2.06-.94 2.06-2.06.94z\"/><path d=\"M17.41 7.96l-1.37-1.37c-.4-.4-.92-.59-1.43-.59-.52 0-1.04.2-1.43.59L10.3 9.45l-7.72 7.72c-.78.78-.78 2.05 0 2.83L4 21.41c.39.39.9.59 1.41.59.51 0 1.02-.2 1.41-.59l7.78-7.78 2.81-2.81c.8-.78.8-2.07 0-2.86zM5.41 20L4 18.59l7.72-7.72 1.47 1.35L5.41 20z\"/>\n",
              "  </svg>\n",
              "      </button>\n",
              "      \n",
              "  <style>\n",
              "    .colab-df-container {\n",
              "      display:flex;\n",
              "      flex-wrap:wrap;\n",
              "      gap: 12px;\n",
              "    }\n",
              "\n",
              "    .colab-df-convert {\n",
              "      background-color: #E8F0FE;\n",
              "      border: none;\n",
              "      border-radius: 50%;\n",
              "      cursor: pointer;\n",
              "      display: none;\n",
              "      fill: #1967D2;\n",
              "      height: 32px;\n",
              "      padding: 0 0 0 0;\n",
              "      width: 32px;\n",
              "    }\n",
              "\n",
              "    .colab-df-convert:hover {\n",
              "      background-color: #E2EBFA;\n",
              "      box-shadow: 0px 1px 2px rgba(60, 64, 67, 0.3), 0px 1px 3px 1px rgba(60, 64, 67, 0.15);\n",
              "      fill: #174EA6;\n",
              "    }\n",
              "\n",
              "    [theme=dark] .colab-df-convert {\n",
              "      background-color: #3B4455;\n",
              "      fill: #D2E3FC;\n",
              "    }\n",
              "\n",
              "    [theme=dark] .colab-df-convert:hover {\n",
              "      background-color: #434B5C;\n",
              "      box-shadow: 0px 1px 3px 1px rgba(0, 0, 0, 0.15);\n",
              "      filter: drop-shadow(0px 1px 2px rgba(0, 0, 0, 0.3));\n",
              "      fill: #FFFFFF;\n",
              "    }\n",
              "  </style>\n",
              "\n",
              "      <script>\n",
              "        const buttonEl =\n",
              "          document.querySelector('#df-ece10bc2-b755-4d4d-aabf-276d50ebbed6 button.colab-df-convert');\n",
              "        buttonEl.style.display =\n",
              "          google.colab.kernel.accessAllowed ? 'block' : 'none';\n",
              "\n",
              "        async function convertToInteractive(key) {\n",
              "          const element = document.querySelector('#df-ece10bc2-b755-4d4d-aabf-276d50ebbed6');\n",
              "          const dataTable =\n",
              "            await google.colab.kernel.invokeFunction('convertToInteractive',\n",
              "                                                     [key], {});\n",
              "          if (!dataTable) return;\n",
              "\n",
              "          const docLinkHtml = 'Like what you see? Visit the ' +\n",
              "            '<a target=\"_blank\" href=https://colab.research.google.com/notebooks/data_table.ipynb>data table notebook</a>'\n",
              "            + ' to learn more about interactive tables.';\n",
              "          element.innerHTML = '';\n",
              "          dataTable['output_type'] = 'display_data';\n",
              "          await google.colab.output.renderOutput(dataTable, element);\n",
              "          const docLink = document.createElement('div');\n",
              "          docLink.innerHTML = docLinkHtml;\n",
              "          element.appendChild(docLink);\n",
              "        }\n",
              "      </script>\n",
              "    </div>\n",
              "  </div>\n",
              "  "
            ]
          },
          "metadata": {},
          "execution_count": 149
        }
      ]
    },
    {
      "cell_type": "code",
      "source": [
        "df1.info()"
      ],
      "metadata": {
        "colab": {
          "base_uri": "https://localhost:8080/"
        },
        "id": "iWhXIE-oFxoA",
        "outputId": "8d1f3735-4974-41a7-dd45-f60c72d3a905"
      },
      "execution_count": 150,
      "outputs": [
        {
          "output_type": "stream",
          "name": "stdout",
          "text": [
            "<class 'pandas.core.frame.DataFrame'>\n",
            "Int64Index: 9954 entries, 0 to 9999\n",
            "Data columns (total 8 columns):\n",
            " #   Column      Non-Null Count  Dtype  \n",
            "---  ------      --------------  -----  \n",
            " 0   Restaurant  9954 non-null   object \n",
            " 1   Reviewer    9954 non-null   object \n",
            " 2   Review      9954 non-null   object \n",
            " 3   Rating      9954 non-null   float64\n",
            " 4   Time        9954 non-null   object \n",
            " 5   Pictures    9954 non-null   int64  \n",
            " 6   Reviews     9954 non-null   object \n",
            " 7   Followers   8380 non-null   object \n",
            "dtypes: float64(1), int64(1), object(6)\n",
            "memory usage: 699.9+ KB\n"
          ]
        }
      ]
    },
    {
      "cell_type": "code",
      "source": [
        "df1=df1.fillna(0)"
      ],
      "metadata": {
        "id": "jhWuXMO-F6ga"
      },
      "execution_count": 151,
      "outputs": []
    },
    {
      "cell_type": "code",
      "source": [
        "df1.info()"
      ],
      "metadata": {
        "colab": {
          "base_uri": "https://localhost:8080/"
        },
        "id": "MdnwjSMhGAD4",
        "outputId": "907c8372-668e-4146-a06c-9443e004bf13"
      },
      "execution_count": 152,
      "outputs": [
        {
          "output_type": "stream",
          "name": "stdout",
          "text": [
            "<class 'pandas.core.frame.DataFrame'>\n",
            "Int64Index: 9954 entries, 0 to 9999\n",
            "Data columns (total 8 columns):\n",
            " #   Column      Non-Null Count  Dtype  \n",
            "---  ------      --------------  -----  \n",
            " 0   Restaurant  9954 non-null   object \n",
            " 1   Reviewer    9954 non-null   object \n",
            " 2   Review      9954 non-null   object \n",
            " 3   Rating      9954 non-null   float64\n",
            " 4   Time        9954 non-null   object \n",
            " 5   Pictures    9954 non-null   int64  \n",
            " 6   Reviews     9954 non-null   object \n",
            " 7   Followers   9954 non-null   object \n",
            "dtypes: float64(1), int64(1), object(6)\n",
            "memory usage: 699.9+ KB\n"
          ]
        }
      ]
    },
    {
      "cell_type": "code",
      "source": [
        "df1['Reviews']=df1.Reviews.astype('int')\n",
        "df1.Followers=df1.Followers.astype('int')"
      ],
      "metadata": {
        "id": "eA9ag6lR7rY8"
      },
      "execution_count": 153,
      "outputs": []
    },
    {
      "cell_type": "code",
      "source": [
        "df1.info()"
      ],
      "metadata": {
        "colab": {
          "base_uri": "https://localhost:8080/"
        },
        "id": "kKC7n5ZoGKii",
        "outputId": "86f95ed2-b846-41ba-a5e3-4a6600989ae9"
      },
      "execution_count": 154,
      "outputs": [
        {
          "output_type": "stream",
          "name": "stdout",
          "text": [
            "<class 'pandas.core.frame.DataFrame'>\n",
            "Int64Index: 9954 entries, 0 to 9999\n",
            "Data columns (total 8 columns):\n",
            " #   Column      Non-Null Count  Dtype  \n",
            "---  ------      --------------  -----  \n",
            " 0   Restaurant  9954 non-null   object \n",
            " 1   Reviewer    9954 non-null   object \n",
            " 2   Review      9954 non-null   object \n",
            " 3   Rating      9954 non-null   float64\n",
            " 4   Time        9954 non-null   object \n",
            " 5   Pictures    9954 non-null   int64  \n",
            " 6   Reviews     9954 non-null   int64  \n",
            " 7   Followers   9954 non-null   int64  \n",
            "dtypes: float64(1), int64(3), object(4)\n",
            "memory usage: 699.9+ KB\n"
          ]
        }
      ]
    },
    {
      "cell_type": "code",
      "source": [
        "df1.drop('Time',axis=1,inplace=True)"
      ],
      "metadata": {
        "id": "a6-CzOXxZ7kr"
      },
      "execution_count": 155,
      "outputs": []
    },
    {
      "cell_type": "code",
      "source": [
        "df1.info()"
      ],
      "metadata": {
        "colab": {
          "base_uri": "https://localhost:8080/"
        },
        "id": "9DHQYfZFbPg8",
        "outputId": "39276f41-679f-44a3-f84f-356031d5416e"
      },
      "execution_count": 156,
      "outputs": [
        {
          "output_type": "stream",
          "name": "stdout",
          "text": [
            "<class 'pandas.core.frame.DataFrame'>\n",
            "Int64Index: 9954 entries, 0 to 9999\n",
            "Data columns (total 7 columns):\n",
            " #   Column      Non-Null Count  Dtype  \n",
            "---  ------      --------------  -----  \n",
            " 0   Restaurant  9954 non-null   object \n",
            " 1   Reviewer    9954 non-null   object \n",
            " 2   Review      9954 non-null   object \n",
            " 3   Rating      9954 non-null   float64\n",
            " 4   Pictures    9954 non-null   int64  \n",
            " 5   Reviews     9954 non-null   int64  \n",
            " 6   Followers   9954 non-null   int64  \n",
            "dtypes: float64(1), int64(3), object(3)\n",
            "memory usage: 622.1+ KB\n"
          ]
        }
      ]
    },
    {
      "cell_type": "code",
      "source": [
        "df.info()"
      ],
      "metadata": {
        "id": "iyB9rn9YHM6l",
        "colab": {
          "base_uri": "https://localhost:8080/"
        },
        "outputId": "1232232e-c15e-44b3-e1e5-430033d4642b"
      },
      "execution_count": 157,
      "outputs": [
        {
          "output_type": "stream",
          "name": "stdout",
          "text": [
            "<class 'pandas.core.frame.DataFrame'>\n",
            "Int64Index: 104 entries, 0 to 104\n",
            "Data columns (total 3 columns):\n",
            " #   Column         Non-Null Count  Dtype \n",
            "---  ------         --------------  ----- \n",
            " 0   Name           104 non-null    object\n",
            " 1   Cost           104 non-null    int64 \n",
            " 2   no of cuisnes  104 non-null    int64 \n",
            "dtypes: int64(2), object(1)\n",
            "memory usage: 3.2+ KB\n"
          ]
        }
      ]
    },
    {
      "cell_type": "code",
      "source": [
        "avg_rating=df1.groupby(['Restaurant'])['Rating'].mean().reset_index()\n",
        "avg_rating.rename(columns={'Restaurant':'Name'},inplace=True)\n",
        "avg_rating.sort_values(by='Rating',ascending = False).head()"
      ],
      "metadata": {
        "colab": {
          "base_uri": "https://localhost:8080/",
          "height": 206
        },
        "id": "PSIxcE22b5M_",
        "outputId": "d57fa9f5-5096-40d9-88b6-e876392b171b"
      },
      "execution_count": 158,
      "outputs": [
        {
          "output_type": "execute_result",
          "data": {
            "text/plain": [
              "                              Name  Rating\n",
              "3        AB's - Absolute Barbecues    4.88\n",
              "11                          B-Dubs    4.81\n",
              "2   3B's - Buddies, Bar & Barbecue    4.76\n",
              "67                        Paradise    4.70\n",
              "35                        Flechazo    4.66"
            ],
            "text/html": [
              "\n",
              "  <div id=\"df-a34b7d0f-aafa-43b9-a9fe-f49680ba603e\">\n",
              "    <div class=\"colab-df-container\">\n",
              "      <div>\n",
              "<style scoped>\n",
              "    .dataframe tbody tr th:only-of-type {\n",
              "        vertical-align: middle;\n",
              "    }\n",
              "\n",
              "    .dataframe tbody tr th {\n",
              "        vertical-align: top;\n",
              "    }\n",
              "\n",
              "    .dataframe thead th {\n",
              "        text-align: right;\n",
              "    }\n",
              "</style>\n",
              "<table border=\"1\" class=\"dataframe\">\n",
              "  <thead>\n",
              "    <tr style=\"text-align: right;\">\n",
              "      <th></th>\n",
              "      <th>Name</th>\n",
              "      <th>Rating</th>\n",
              "    </tr>\n",
              "  </thead>\n",
              "  <tbody>\n",
              "    <tr>\n",
              "      <th>3</th>\n",
              "      <td>AB's - Absolute Barbecues</td>\n",
              "      <td>4.88</td>\n",
              "    </tr>\n",
              "    <tr>\n",
              "      <th>11</th>\n",
              "      <td>B-Dubs</td>\n",
              "      <td>4.81</td>\n",
              "    </tr>\n",
              "    <tr>\n",
              "      <th>2</th>\n",
              "      <td>3B's - Buddies, Bar &amp; Barbecue</td>\n",
              "      <td>4.76</td>\n",
              "    </tr>\n",
              "    <tr>\n",
              "      <th>67</th>\n",
              "      <td>Paradise</td>\n",
              "      <td>4.70</td>\n",
              "    </tr>\n",
              "    <tr>\n",
              "      <th>35</th>\n",
              "      <td>Flechazo</td>\n",
              "      <td>4.66</td>\n",
              "    </tr>\n",
              "  </tbody>\n",
              "</table>\n",
              "</div>\n",
              "      <button class=\"colab-df-convert\" onclick=\"convertToInteractive('df-a34b7d0f-aafa-43b9-a9fe-f49680ba603e')\"\n",
              "              title=\"Convert this dataframe to an interactive table.\"\n",
              "              style=\"display:none;\">\n",
              "        \n",
              "  <svg xmlns=\"http://www.w3.org/2000/svg\" height=\"24px\"viewBox=\"0 0 24 24\"\n",
              "       width=\"24px\">\n",
              "    <path d=\"M0 0h24v24H0V0z\" fill=\"none\"/>\n",
              "    <path d=\"M18.56 5.44l.94 2.06.94-2.06 2.06-.94-2.06-.94-.94-2.06-.94 2.06-2.06.94zm-11 1L8.5 8.5l.94-2.06 2.06-.94-2.06-.94L8.5 2.5l-.94 2.06-2.06.94zm10 10l.94 2.06.94-2.06 2.06-.94-2.06-.94-.94-2.06-.94 2.06-2.06.94z\"/><path d=\"M17.41 7.96l-1.37-1.37c-.4-.4-.92-.59-1.43-.59-.52 0-1.04.2-1.43.59L10.3 9.45l-7.72 7.72c-.78.78-.78 2.05 0 2.83L4 21.41c.39.39.9.59 1.41.59.51 0 1.02-.2 1.41-.59l7.78-7.78 2.81-2.81c.8-.78.8-2.07 0-2.86zM5.41 20L4 18.59l7.72-7.72 1.47 1.35L5.41 20z\"/>\n",
              "  </svg>\n",
              "      </button>\n",
              "      \n",
              "  <style>\n",
              "    .colab-df-container {\n",
              "      display:flex;\n",
              "      flex-wrap:wrap;\n",
              "      gap: 12px;\n",
              "    }\n",
              "\n",
              "    .colab-df-convert {\n",
              "      background-color: #E8F0FE;\n",
              "      border: none;\n",
              "      border-radius: 50%;\n",
              "      cursor: pointer;\n",
              "      display: none;\n",
              "      fill: #1967D2;\n",
              "      height: 32px;\n",
              "      padding: 0 0 0 0;\n",
              "      width: 32px;\n",
              "    }\n",
              "\n",
              "    .colab-df-convert:hover {\n",
              "      background-color: #E2EBFA;\n",
              "      box-shadow: 0px 1px 2px rgba(60, 64, 67, 0.3), 0px 1px 3px 1px rgba(60, 64, 67, 0.15);\n",
              "      fill: #174EA6;\n",
              "    }\n",
              "\n",
              "    [theme=dark] .colab-df-convert {\n",
              "      background-color: #3B4455;\n",
              "      fill: #D2E3FC;\n",
              "    }\n",
              "\n",
              "    [theme=dark] .colab-df-convert:hover {\n",
              "      background-color: #434B5C;\n",
              "      box-shadow: 0px 1px 3px 1px rgba(0, 0, 0, 0.15);\n",
              "      filter: drop-shadow(0px 1px 2px rgba(0, 0, 0, 0.3));\n",
              "      fill: #FFFFFF;\n",
              "    }\n",
              "  </style>\n",
              "\n",
              "      <script>\n",
              "        const buttonEl =\n",
              "          document.querySelector('#df-a34b7d0f-aafa-43b9-a9fe-f49680ba603e button.colab-df-convert');\n",
              "        buttonEl.style.display =\n",
              "          google.colab.kernel.accessAllowed ? 'block' : 'none';\n",
              "\n",
              "        async function convertToInteractive(key) {\n",
              "          const element = document.querySelector('#df-a34b7d0f-aafa-43b9-a9fe-f49680ba603e');\n",
              "          const dataTable =\n",
              "            await google.colab.kernel.invokeFunction('convertToInteractive',\n",
              "                                                     [key], {});\n",
              "          if (!dataTable) return;\n",
              "\n",
              "          const docLinkHtml = 'Like what you see? Visit the ' +\n",
              "            '<a target=\"_blank\" href=https://colab.research.google.com/notebooks/data_table.ipynb>data table notebook</a>'\n",
              "            + ' to learn more about interactive tables.';\n",
              "          element.innerHTML = '';\n",
              "          dataTable['output_type'] = 'display_data';\n",
              "          await google.colab.output.renderOutput(dataTable, element);\n",
              "          const docLink = document.createElement('div');\n",
              "          docLink.innerHTML = docLinkHtml;\n",
              "          element.appendChild(docLink);\n",
              "        }\n",
              "      </script>\n",
              "    </div>\n",
              "  </div>\n",
              "  "
            ]
          },
          "metadata": {},
          "execution_count": 158
        }
      ]
    },
    {
      "cell_type": "code",
      "source": [
        "avg_rating"
      ],
      "metadata": {
        "colab": {
          "base_uri": "https://localhost:8080/",
          "height": 424
        },
        "id": "Eu7eD3wbdKIS",
        "outputId": "e838df6a-ae65-4f44-b382-3c7b6a7522ca"
      },
      "execution_count": 159,
      "outputs": [
        {
          "output_type": "execute_result",
          "data": {
            "text/plain": [
              "                                     Name  Rating\n",
              "0                       10 Downing Street    3.80\n",
              "1                                13 Dhaba    3.48\n",
              "2          3B's - Buddies, Bar & Barbecue    4.76\n",
              "3               AB's - Absolute Barbecues    4.88\n",
              "4                       Absolute Sizzlers    3.62\n",
              "..                                    ...     ...\n",
              "95             Urban Asia - Kitchen & Bar    3.65\n",
              "96  Yum Yum Tree - The Arabian Food Court    3.56\n",
              "97        Zega - Sheraton Hyderabad Hotel    4.45\n",
              "98               Zing's Northeast Kitchen    3.65\n",
              "99                                eat.fit    3.20\n",
              "\n",
              "[100 rows x 2 columns]"
            ],
            "text/html": [
              "\n",
              "  <div id=\"df-08d762fd-abb5-4644-bab7-288663e41a0f\">\n",
              "    <div class=\"colab-df-container\">\n",
              "      <div>\n",
              "<style scoped>\n",
              "    .dataframe tbody tr th:only-of-type {\n",
              "        vertical-align: middle;\n",
              "    }\n",
              "\n",
              "    .dataframe tbody tr th {\n",
              "        vertical-align: top;\n",
              "    }\n",
              "\n",
              "    .dataframe thead th {\n",
              "        text-align: right;\n",
              "    }\n",
              "</style>\n",
              "<table border=\"1\" class=\"dataframe\">\n",
              "  <thead>\n",
              "    <tr style=\"text-align: right;\">\n",
              "      <th></th>\n",
              "      <th>Name</th>\n",
              "      <th>Rating</th>\n",
              "    </tr>\n",
              "  </thead>\n",
              "  <tbody>\n",
              "    <tr>\n",
              "      <th>0</th>\n",
              "      <td>10 Downing Street</td>\n",
              "      <td>3.80</td>\n",
              "    </tr>\n",
              "    <tr>\n",
              "      <th>1</th>\n",
              "      <td>13 Dhaba</td>\n",
              "      <td>3.48</td>\n",
              "    </tr>\n",
              "    <tr>\n",
              "      <th>2</th>\n",
              "      <td>3B's - Buddies, Bar &amp; Barbecue</td>\n",
              "      <td>4.76</td>\n",
              "    </tr>\n",
              "    <tr>\n",
              "      <th>3</th>\n",
              "      <td>AB's - Absolute Barbecues</td>\n",
              "      <td>4.88</td>\n",
              "    </tr>\n",
              "    <tr>\n",
              "      <th>4</th>\n",
              "      <td>Absolute Sizzlers</td>\n",
              "      <td>3.62</td>\n",
              "    </tr>\n",
              "    <tr>\n",
              "      <th>...</th>\n",
              "      <td>...</td>\n",
              "      <td>...</td>\n",
              "    </tr>\n",
              "    <tr>\n",
              "      <th>95</th>\n",
              "      <td>Urban Asia - Kitchen &amp; Bar</td>\n",
              "      <td>3.65</td>\n",
              "    </tr>\n",
              "    <tr>\n",
              "      <th>96</th>\n",
              "      <td>Yum Yum Tree - The Arabian Food Court</td>\n",
              "      <td>3.56</td>\n",
              "    </tr>\n",
              "    <tr>\n",
              "      <th>97</th>\n",
              "      <td>Zega - Sheraton Hyderabad Hotel</td>\n",
              "      <td>4.45</td>\n",
              "    </tr>\n",
              "    <tr>\n",
              "      <th>98</th>\n",
              "      <td>Zing's Northeast Kitchen</td>\n",
              "      <td>3.65</td>\n",
              "    </tr>\n",
              "    <tr>\n",
              "      <th>99</th>\n",
              "      <td>eat.fit</td>\n",
              "      <td>3.20</td>\n",
              "    </tr>\n",
              "  </tbody>\n",
              "</table>\n",
              "<p>100 rows × 2 columns</p>\n",
              "</div>\n",
              "      <button class=\"colab-df-convert\" onclick=\"convertToInteractive('df-08d762fd-abb5-4644-bab7-288663e41a0f')\"\n",
              "              title=\"Convert this dataframe to an interactive table.\"\n",
              "              style=\"display:none;\">\n",
              "        \n",
              "  <svg xmlns=\"http://www.w3.org/2000/svg\" height=\"24px\"viewBox=\"0 0 24 24\"\n",
              "       width=\"24px\">\n",
              "    <path d=\"M0 0h24v24H0V0z\" fill=\"none\"/>\n",
              "    <path d=\"M18.56 5.44l.94 2.06.94-2.06 2.06-.94-2.06-.94-.94-2.06-.94 2.06-2.06.94zm-11 1L8.5 8.5l.94-2.06 2.06-.94-2.06-.94L8.5 2.5l-.94 2.06-2.06.94zm10 10l.94 2.06.94-2.06 2.06-.94-2.06-.94-.94-2.06-.94 2.06-2.06.94z\"/><path d=\"M17.41 7.96l-1.37-1.37c-.4-.4-.92-.59-1.43-.59-.52 0-1.04.2-1.43.59L10.3 9.45l-7.72 7.72c-.78.78-.78 2.05 0 2.83L4 21.41c.39.39.9.59 1.41.59.51 0 1.02-.2 1.41-.59l7.78-7.78 2.81-2.81c.8-.78.8-2.07 0-2.86zM5.41 20L4 18.59l7.72-7.72 1.47 1.35L5.41 20z\"/>\n",
              "  </svg>\n",
              "      </button>\n",
              "      \n",
              "  <style>\n",
              "    .colab-df-container {\n",
              "      display:flex;\n",
              "      flex-wrap:wrap;\n",
              "      gap: 12px;\n",
              "    }\n",
              "\n",
              "    .colab-df-convert {\n",
              "      background-color: #E8F0FE;\n",
              "      border: none;\n",
              "      border-radius: 50%;\n",
              "      cursor: pointer;\n",
              "      display: none;\n",
              "      fill: #1967D2;\n",
              "      height: 32px;\n",
              "      padding: 0 0 0 0;\n",
              "      width: 32px;\n",
              "    }\n",
              "\n",
              "    .colab-df-convert:hover {\n",
              "      background-color: #E2EBFA;\n",
              "      box-shadow: 0px 1px 2px rgba(60, 64, 67, 0.3), 0px 1px 3px 1px rgba(60, 64, 67, 0.15);\n",
              "      fill: #174EA6;\n",
              "    }\n",
              "\n",
              "    [theme=dark] .colab-df-convert {\n",
              "      background-color: #3B4455;\n",
              "      fill: #D2E3FC;\n",
              "    }\n",
              "\n",
              "    [theme=dark] .colab-df-convert:hover {\n",
              "      background-color: #434B5C;\n",
              "      box-shadow: 0px 1px 3px 1px rgba(0, 0, 0, 0.15);\n",
              "      filter: drop-shadow(0px 1px 2px rgba(0, 0, 0, 0.3));\n",
              "      fill: #FFFFFF;\n",
              "    }\n",
              "  </style>\n",
              "\n",
              "      <script>\n",
              "        const buttonEl =\n",
              "          document.querySelector('#df-08d762fd-abb5-4644-bab7-288663e41a0f button.colab-df-convert');\n",
              "        buttonEl.style.display =\n",
              "          google.colab.kernel.accessAllowed ? 'block' : 'none';\n",
              "\n",
              "        async function convertToInteractive(key) {\n",
              "          const element = document.querySelector('#df-08d762fd-abb5-4644-bab7-288663e41a0f');\n",
              "          const dataTable =\n",
              "            await google.colab.kernel.invokeFunction('convertToInteractive',\n",
              "                                                     [key], {});\n",
              "          if (!dataTable) return;\n",
              "\n",
              "          const docLinkHtml = 'Like what you see? Visit the ' +\n",
              "            '<a target=\"_blank\" href=https://colab.research.google.com/notebooks/data_table.ipynb>data table notebook</a>'\n",
              "            + ' to learn more about interactive tables.';\n",
              "          element.innerHTML = '';\n",
              "          dataTable['output_type'] = 'display_data';\n",
              "          await google.colab.output.renderOutput(dataTable, element);\n",
              "          const docLink = document.createElement('div');\n",
              "          docLink.innerHTML = docLinkHtml;\n",
              "          element.appendChild(docLink);\n",
              "        }\n",
              "      </script>\n",
              "    </div>\n",
              "  </div>\n",
              "  "
            ]
          },
          "metadata": {},
          "execution_count": 159
        }
      ]
    },
    {
      "cell_type": "code",
      "source": [
        "rest_rating=df.merge(avg_rating,on=\"Name\",how='left')"
      ],
      "metadata": {
        "id": "1_XF6ftvdLna"
      },
      "execution_count": 160,
      "outputs": []
    },
    {
      "cell_type": "code",
      "source": [
        "rest_rating.info()"
      ],
      "metadata": {
        "colab": {
          "base_uri": "https://localhost:8080/"
        },
        "id": "RMqD_z3oiP55",
        "outputId": "2bcd6723-a7eb-4e64-e45a-1d1866c4ca31"
      },
      "execution_count": 161,
      "outputs": [
        {
          "output_type": "stream",
          "name": "stdout",
          "text": [
            "<class 'pandas.core.frame.DataFrame'>\n",
            "Int64Index: 104 entries, 0 to 103\n",
            "Data columns (total 4 columns):\n",
            " #   Column         Non-Null Count  Dtype  \n",
            "---  ------         --------------  -----  \n",
            " 0   Name           104 non-null    object \n",
            " 1   Cost           104 non-null    int64  \n",
            " 2   no of cuisnes  104 non-null    int64  \n",
            " 3   Rating         99 non-null     float64\n",
            "dtypes: float64(1), int64(2), object(1)\n",
            "memory usage: 4.1+ KB\n"
          ]
        }
      ]
    },
    {
      "cell_type": "code",
      "source": [
        "rest_rating=rest_rating.fillna(0)"
      ],
      "metadata": {
        "id": "asbvsTKNmk2r"
      },
      "execution_count": 162,
      "outputs": []
    },
    {
      "cell_type": "code",
      "source": [
        "rest_rating.columns"
      ],
      "metadata": {
        "colab": {
          "base_uri": "https://localhost:8080/"
        },
        "id": "YicgbUMTohsO",
        "outputId": "f632fb00-89ad-429c-e5df-300c87f97e10"
      },
      "execution_count": 163,
      "outputs": [
        {
          "output_type": "execute_result",
          "data": {
            "text/plain": [
              "Index(['Name', 'Cost', 'no of cuisnes', 'Rating'], dtype='object')"
            ]
          },
          "metadata": {},
          "execution_count": 163
        }
      ]
    },
    {
      "cell_type": "code",
      "source": [
        "#importing minmax scaler\n",
        "from sklearn.preprocessing import MinMaxScaler"
      ],
      "metadata": {
        "id": "xe2JWRmbmr3s"
      },
      "execution_count": 164,
      "outputs": []
    },
    {
      "cell_type": "code",
      "source": [
        "col=['Cost', 'no of cuisnes', 'Rating']\n",
        "scaler=MinMaxScaler()\n",
        "scaled_df=scaler.fit_transform(rest_rating[col])\n",
        "scaled_df=pd.DataFrame(scaled_df,columns=col)\n",
        "scaled_df=pd.concat([rest_rating['Name'],scaled_df],axis=1)"
      ],
      "metadata": {
        "id": "rqjSGaBnoF5Y"
      },
      "execution_count": 165,
      "outputs": []
    },
    {
      "cell_type": "code",
      "source": [
        "scaled_df"
      ],
      "metadata": {
        "colab": {
          "base_uri": "https://localhost:8080/",
          "height": 424
        },
        "id": "uDFdAZJNqTkx",
        "outputId": "9de054ed-9568-4c26-acf5-b07e81bf4bec"
      },
      "execution_count": 166,
      "outputs": [
        {
          "output_type": "execute_result",
          "data": {
            "text/plain": [
              "                                       Name      Cost  no of cuisnes    Rating\n",
              "0                           Beyond Flavours  0.245283            1.0  0.877049\n",
              "1                                  Paradise  0.245283            0.4  0.963115\n",
              "2                                  Flechazo  0.433962            0.6  0.954918\n",
              "3            Shah Ghouse Hotel & Restaurant  0.245283            0.8  0.657787\n",
              "4                Over The Moon Brew Company  0.396226            0.8  0.889344\n",
              "..                                      ...       ...            ...       ...\n",
              "99                                IndiBlaze  0.169811            0.2  0.000000\n",
              "100                            Sweet Basket  0.018868            0.2  0.000000\n",
              "101                        Angaara Counts 3  0.132075            0.4  0.000000\n",
              "102                             Wich Please  0.037736            0.0  0.000000\n",
              "103  Republic Of Noodles - Lemon Tree Hotel  0.584906            0.6  0.000000\n",
              "\n",
              "[104 rows x 4 columns]"
            ],
            "text/html": [
              "\n",
              "  <div id=\"df-877ceffa-c127-4da3-aad9-3e44793a8684\">\n",
              "    <div class=\"colab-df-container\">\n",
              "      <div>\n",
              "<style scoped>\n",
              "    .dataframe tbody tr th:only-of-type {\n",
              "        vertical-align: middle;\n",
              "    }\n",
              "\n",
              "    .dataframe tbody tr th {\n",
              "        vertical-align: top;\n",
              "    }\n",
              "\n",
              "    .dataframe thead th {\n",
              "        text-align: right;\n",
              "    }\n",
              "</style>\n",
              "<table border=\"1\" class=\"dataframe\">\n",
              "  <thead>\n",
              "    <tr style=\"text-align: right;\">\n",
              "      <th></th>\n",
              "      <th>Name</th>\n",
              "      <th>Cost</th>\n",
              "      <th>no of cuisnes</th>\n",
              "      <th>Rating</th>\n",
              "    </tr>\n",
              "  </thead>\n",
              "  <tbody>\n",
              "    <tr>\n",
              "      <th>0</th>\n",
              "      <td>Beyond Flavours</td>\n",
              "      <td>0.245283</td>\n",
              "      <td>1.0</td>\n",
              "      <td>0.877049</td>\n",
              "    </tr>\n",
              "    <tr>\n",
              "      <th>1</th>\n",
              "      <td>Paradise</td>\n",
              "      <td>0.245283</td>\n",
              "      <td>0.4</td>\n",
              "      <td>0.963115</td>\n",
              "    </tr>\n",
              "    <tr>\n",
              "      <th>2</th>\n",
              "      <td>Flechazo</td>\n",
              "      <td>0.433962</td>\n",
              "      <td>0.6</td>\n",
              "      <td>0.954918</td>\n",
              "    </tr>\n",
              "    <tr>\n",
              "      <th>3</th>\n",
              "      <td>Shah Ghouse Hotel &amp; Restaurant</td>\n",
              "      <td>0.245283</td>\n",
              "      <td>0.8</td>\n",
              "      <td>0.657787</td>\n",
              "    </tr>\n",
              "    <tr>\n",
              "      <th>4</th>\n",
              "      <td>Over The Moon Brew Company</td>\n",
              "      <td>0.396226</td>\n",
              "      <td>0.8</td>\n",
              "      <td>0.889344</td>\n",
              "    </tr>\n",
              "    <tr>\n",
              "      <th>...</th>\n",
              "      <td>...</td>\n",
              "      <td>...</td>\n",
              "      <td>...</td>\n",
              "      <td>...</td>\n",
              "    </tr>\n",
              "    <tr>\n",
              "      <th>99</th>\n",
              "      <td>IndiBlaze</td>\n",
              "      <td>0.169811</td>\n",
              "      <td>0.2</td>\n",
              "      <td>0.000000</td>\n",
              "    </tr>\n",
              "    <tr>\n",
              "      <th>100</th>\n",
              "      <td>Sweet Basket</td>\n",
              "      <td>0.018868</td>\n",
              "      <td>0.2</td>\n",
              "      <td>0.000000</td>\n",
              "    </tr>\n",
              "    <tr>\n",
              "      <th>101</th>\n",
              "      <td>Angaara Counts 3</td>\n",
              "      <td>0.132075</td>\n",
              "      <td>0.4</td>\n",
              "      <td>0.000000</td>\n",
              "    </tr>\n",
              "    <tr>\n",
              "      <th>102</th>\n",
              "      <td>Wich Please</td>\n",
              "      <td>0.037736</td>\n",
              "      <td>0.0</td>\n",
              "      <td>0.000000</td>\n",
              "    </tr>\n",
              "    <tr>\n",
              "      <th>103</th>\n",
              "      <td>Republic Of Noodles - Lemon Tree Hotel</td>\n",
              "      <td>0.584906</td>\n",
              "      <td>0.6</td>\n",
              "      <td>0.000000</td>\n",
              "    </tr>\n",
              "  </tbody>\n",
              "</table>\n",
              "<p>104 rows × 4 columns</p>\n",
              "</div>\n",
              "      <button class=\"colab-df-convert\" onclick=\"convertToInteractive('df-877ceffa-c127-4da3-aad9-3e44793a8684')\"\n",
              "              title=\"Convert this dataframe to an interactive table.\"\n",
              "              style=\"display:none;\">\n",
              "        \n",
              "  <svg xmlns=\"http://www.w3.org/2000/svg\" height=\"24px\"viewBox=\"0 0 24 24\"\n",
              "       width=\"24px\">\n",
              "    <path d=\"M0 0h24v24H0V0z\" fill=\"none\"/>\n",
              "    <path d=\"M18.56 5.44l.94 2.06.94-2.06 2.06-.94-2.06-.94-.94-2.06-.94 2.06-2.06.94zm-11 1L8.5 8.5l.94-2.06 2.06-.94-2.06-.94L8.5 2.5l-.94 2.06-2.06.94zm10 10l.94 2.06.94-2.06 2.06-.94-2.06-.94-.94-2.06-.94 2.06-2.06.94z\"/><path d=\"M17.41 7.96l-1.37-1.37c-.4-.4-.92-.59-1.43-.59-.52 0-1.04.2-1.43.59L10.3 9.45l-7.72 7.72c-.78.78-.78 2.05 0 2.83L4 21.41c.39.39.9.59 1.41.59.51 0 1.02-.2 1.41-.59l7.78-7.78 2.81-2.81c.8-.78.8-2.07 0-2.86zM5.41 20L4 18.59l7.72-7.72 1.47 1.35L5.41 20z\"/>\n",
              "  </svg>\n",
              "      </button>\n",
              "      \n",
              "  <style>\n",
              "    .colab-df-container {\n",
              "      display:flex;\n",
              "      flex-wrap:wrap;\n",
              "      gap: 12px;\n",
              "    }\n",
              "\n",
              "    .colab-df-convert {\n",
              "      background-color: #E8F0FE;\n",
              "      border: none;\n",
              "      border-radius: 50%;\n",
              "      cursor: pointer;\n",
              "      display: none;\n",
              "      fill: #1967D2;\n",
              "      height: 32px;\n",
              "      padding: 0 0 0 0;\n",
              "      width: 32px;\n",
              "    }\n",
              "\n",
              "    .colab-df-convert:hover {\n",
              "      background-color: #E2EBFA;\n",
              "      box-shadow: 0px 1px 2px rgba(60, 64, 67, 0.3), 0px 1px 3px 1px rgba(60, 64, 67, 0.15);\n",
              "      fill: #174EA6;\n",
              "    }\n",
              "\n",
              "    [theme=dark] .colab-df-convert {\n",
              "      background-color: #3B4455;\n",
              "      fill: #D2E3FC;\n",
              "    }\n",
              "\n",
              "    [theme=dark] .colab-df-convert:hover {\n",
              "      background-color: #434B5C;\n",
              "      box-shadow: 0px 1px 3px 1px rgba(0, 0, 0, 0.15);\n",
              "      filter: drop-shadow(0px 1px 2px rgba(0, 0, 0, 0.3));\n",
              "      fill: #FFFFFF;\n",
              "    }\n",
              "  </style>\n",
              "\n",
              "      <script>\n",
              "        const buttonEl =\n",
              "          document.querySelector('#df-877ceffa-c127-4da3-aad9-3e44793a8684 button.colab-df-convert');\n",
              "        buttonEl.style.display =\n",
              "          google.colab.kernel.accessAllowed ? 'block' : 'none';\n",
              "\n",
              "        async function convertToInteractive(key) {\n",
              "          const element = document.querySelector('#df-877ceffa-c127-4da3-aad9-3e44793a8684');\n",
              "          const dataTable =\n",
              "            await google.colab.kernel.invokeFunction('convertToInteractive',\n",
              "                                                     [key], {});\n",
              "          if (!dataTable) return;\n",
              "\n",
              "          const docLinkHtml = 'Like what you see? Visit the ' +\n",
              "            '<a target=\"_blank\" href=https://colab.research.google.com/notebooks/data_table.ipynb>data table notebook</a>'\n",
              "            + ' to learn more about interactive tables.';\n",
              "          element.innerHTML = '';\n",
              "          dataTable['output_type'] = 'display_data';\n",
              "          await google.colab.output.renderOutput(dataTable, element);\n",
              "          const docLink = document.createElement('div');\n",
              "          docLink.innerHTML = docLinkHtml;\n",
              "          element.appendChild(docLink);\n",
              "        }\n",
              "      </script>\n",
              "    </div>\n",
              "  </div>\n",
              "  "
            ]
          },
          "metadata": {},
          "execution_count": 166
        }
      ]
    },
    {
      "cell_type": "code",
      "source": [
        "from sklearn.cluster import KMeans\n",
        "from sklearn import metrics"
      ],
      "metadata": {
        "id": "FnNNke_6rUU6"
      },
      "execution_count": 167,
      "outputs": []
    },
    {
      "cell_type": "code",
      "source": [
        "sns.scatterplot(data=scaled_df,y='Rating',x='Cost',s=90)"
      ],
      "metadata": {
        "colab": {
          "base_uri": "https://localhost:8080/",
          "height": 514
        },
        "id": "7qpIKwc3ds7Q",
        "outputId": "2fd21b3a-3c66-4c71-b6b7-49b047ea5bbf"
      },
      "execution_count": 168,
      "outputs": [
        {
          "output_type": "execute_result",
          "data": {
            "text/plain": [
              "<matplotlib.axes._subplots.AxesSubplot at 0x7f9dec5052d0>"
            ]
          },
          "metadata": {},
          "execution_count": 168
        },
        {
          "output_type": "display_data",
          "data": {
            "text/plain": [
              "<Figure size 720x576 with 1 Axes>"
            ],
            "image/png": "[encoded data removed]"
          },
          "metadata": {
            "needs_background": "light"
          }
        }
      ]
    },
    {
      "cell_type": "code",
      "source": [
        "sse=[]\n",
        "k_range=range(1,11)\n",
        "for k in k_range:\n",
        "  km=KMeans(n_clusters=k)\n",
        "  km.fit(scaled_df[['Cost','Rating']])\n",
        "  sse.append(km.inertia_)"
      ],
      "metadata": {
        "id": "uHe705FDiNGZ"
      },
      "execution_count": 169,
      "outputs": []
    },
    {
      "cell_type": "code",
      "source": [
        "plt.xlabel('K')\n",
        "plt.ylabel('Sum of squared error')\n",
        "plt.xticks(np.arange(1,11,1))\n",
        "plt.plot(k_range,sse,marker='8',color='red')\n"
      ],
      "metadata": {
        "colab": {
          "base_uri": "https://localhost:8080/",
          "height": 514
        },
        "id": "l_SUluAljXwR",
        "outputId": "5a013982-d4e5-4b72-c2ea-02dc8d1bdfba"
      },
      "execution_count": 170,
      "outputs": [
        {
          "output_type": "execute_result",
          "data": {
            "text/plain": [
              "[<matplotlib.lines.Line2D at 0x7f9df1778650>]"
            ]
          },
          "metadata": {},
          "execution_count": 170
        },
        {
          "output_type": "display_data",
          "data": {
            "text/plain": [
              "<Figure size 720x576 with 1 Axes>"
            ],
            "image/png": "[encoded data removed]"
          },
          "metadata": {
            "needs_background": "light"
          }
        }
      ]
    },
    {
      "cell_type": "code",
      "source": [
        "kmeans_df1 = scaled_df.copy()"
      ],
      "metadata": {
        "id": "BI-PhQ2ckhPg"
      },
      "execution_count": 171,
      "outputs": []
    },
    {
      "cell_type": "code",
      "source": [
        "#fit predict kmeans on 3 clusters\n",
        "model1 = KMeans(n_clusters=3,random_state= 0)\n",
        "pred_1 = model1.fit_predict(kmeans_df1[['Cost', 'Rating']])\n",
        "kmeans_df1[\"label\"] = pred_1"
      ],
      "metadata": {
        "id": "lb4YtOX_pXh4"
      },
      "execution_count": 172,
      "outputs": []
    },
    {
      "cell_type": "code",
      "source": [
        "sns.scatterplot(x = 'Cost',y = 'Rating',hue=\"label\", legend='full',data = kmeans_df1,palette=['green','orange','brown']  ,s = 90 )\n",
        "plt.xlabel('Cost')\n",
        "plt.ylabel('Avg Rating') \n",
        "plt.title('Cost vs Average Rating')"
      ],
      "metadata": {
        "colab": {
          "base_uri": "https://localhost:8080/",
          "height": 530
        },
        "id": "CdWjuoE6ppIg",
        "outputId": "34543065-15d7-4329-9868-dfbd3827c90e"
      },
      "execution_count": 173,
      "outputs": [
        {
          "output_type": "execute_result",
          "data": {
            "text/plain": [
              "Text(0.5, 1.0, 'Cost vs Average Rating')"
            ]
          },
          "metadata": {},
          "execution_count": 173
        },
        {
          "output_type": "display_data",
          "data": {
            "text/plain": [
              "<Figure size 720x576 with 1 Axes>"
            ],
            "image/png": "[encoded data removed]"
          },
          "metadata": {
            "needs_background": "light"
          }
        }
      ]
    },
    {
      "cell_type": "code",
      "source": [
        "scaled_df"
      ],
      "metadata": {
        "colab": {
          "base_uri": "https://localhost:8080/",
          "height": 424
        },
        "id": "---5CM5K8pwh",
        "outputId": "97311446-d2b3-434f-ffd9-8e7ea5f0a7e8"
      },
      "execution_count": 174,
      "outputs": [
        {
          "output_type": "execute_result",
          "data": {
            "text/plain": [
              "                                       Name      Cost  no of cuisnes    Rating\n",
              "0                           Beyond Flavours  0.245283            1.0  0.877049\n",
              "1                                  Paradise  0.245283            0.4  0.963115\n",
              "2                                  Flechazo  0.433962            0.6  0.954918\n",
              "3            Shah Ghouse Hotel & Restaurant  0.245283            0.8  0.657787\n",
              "4                Over The Moon Brew Company  0.396226            0.8  0.889344\n",
              "..                                      ...       ...            ...       ...\n",
              "99                                IndiBlaze  0.169811            0.2  0.000000\n",
              "100                            Sweet Basket  0.018868            0.2  0.000000\n",
              "101                        Angaara Counts 3  0.132075            0.4  0.000000\n",
              "102                             Wich Please  0.037736            0.0  0.000000\n",
              "103  Republic Of Noodles - Lemon Tree Hotel  0.584906            0.6  0.000000\n",
              "\n",
              "[104 rows x 4 columns]"
            ],
            "text/html": [
              "\n",
              "  <div id=\"df-aae79804-fa31-488a-b0a7-280ce430466e\">\n",
              "    <div class=\"colab-df-container\">\n",
              "      <div>\n",
              "<style scoped>\n",
              "    .dataframe tbody tr th:only-of-type {\n",
              "        vertical-align: middle;\n",
              "    }\n",
              "\n",
              "    .dataframe tbody tr th {\n",
              "        vertical-align: top;\n",
              "    }\n",
              "\n",
              "    .dataframe thead th {\n",
              "        text-align: right;\n",
              "    }\n",
              "</style>\n",
              "<table border=\"1\" class=\"dataframe\">\n",
              "  <thead>\n",
              "    <tr style=\"text-align: right;\">\n",
              "      <th></th>\n",
              "      <th>Name</th>\n",
              "      <th>Cost</th>\n",
              "      <th>no of cuisnes</th>\n",
              "      <th>Rating</th>\n",
              "    </tr>\n",
              "  </thead>\n",
              "  <tbody>\n",
              "    <tr>\n",
              "      <th>0</th>\n",
              "      <td>Beyond Flavours</td>\n",
              "      <td>0.245283</td>\n",
              "      <td>1.0</td>\n",
              "      <td>0.877049</td>\n",
              "    </tr>\n",
              "    <tr>\n",
              "      <th>1</th>\n",
              "      <td>Paradise</td>\n",
              "      <td>0.245283</td>\n",
              "      <td>0.4</td>\n",
              "      <td>0.963115</td>\n",
              "    </tr>\n",
              "    <tr>\n",
              "      <th>2</th>\n",
              "      <td>Flechazo</td>\n",
              "      <td>0.433962</td>\n",
              "      <td>0.6</td>\n",
              "      <td>0.954918</td>\n",
              "    </tr>\n",
              "    <tr>\n",
              "      <th>3</th>\n",
              "      <td>Shah Ghouse Hotel &amp; Restaurant</td>\n",
              "      <td>0.245283</td>\n",
              "      <td>0.8</td>\n",
              "      <td>0.657787</td>\n",
              "    </tr>\n",
              "    <tr>\n",
              "      <th>4</th>\n",
              "      <td>Over The Moon Brew Company</td>\n",
              "      <td>0.396226</td>\n",
              "      <td>0.8</td>\n",
              "      <td>0.889344</td>\n",
              "    </tr>\n",
              "    <tr>\n",
              "      <th>...</th>\n",
              "      <td>...</td>\n",
              "      <td>...</td>\n",
              "      <td>...</td>\n",
              "      <td>...</td>\n",
              "    </tr>\n",
              "    <tr>\n",
              "      <th>99</th>\n",
              "      <td>IndiBlaze</td>\n",
              "      <td>0.169811</td>\n",
              "      <td>0.2</td>\n",
              "      <td>0.000000</td>\n",
              "    </tr>\n",
              "    <tr>\n",
              "      <th>100</th>\n",
              "      <td>Sweet Basket</td>\n",
              "      <td>0.018868</td>\n",
              "      <td>0.2</td>\n",
              "      <td>0.000000</td>\n",
              "    </tr>\n",
              "    <tr>\n",
              "      <th>101</th>\n",
              "      <td>Angaara Counts 3</td>\n",
              "      <td>0.132075</td>\n",
              "      <td>0.4</td>\n",
              "      <td>0.000000</td>\n",
              "    </tr>\n",
              "    <tr>\n",
              "      <th>102</th>\n",
              "      <td>Wich Please</td>\n",
              "      <td>0.037736</td>\n",
              "      <td>0.0</td>\n",
              "      <td>0.000000</td>\n",
              "    </tr>\n",
              "    <tr>\n",
              "      <th>103</th>\n",
              "      <td>Republic Of Noodles - Lemon Tree Hotel</td>\n",
              "      <td>0.584906</td>\n",
              "      <td>0.6</td>\n",
              "      <td>0.000000</td>\n",
              "    </tr>\n",
              "  </tbody>\n",
              "</table>\n",
              "<p>104 rows × 4 columns</p>\n",
              "</div>\n",
              "      <button class=\"colab-df-convert\" onclick=\"convertToInteractive('df-aae79804-fa31-488a-b0a7-280ce430466e')\"\n",
              "              title=\"Convert this dataframe to an interactive table.\"\n",
              "              style=\"display:none;\">\n",
              "        \n",
              "  <svg xmlns=\"http://www.w3.org/2000/svg\" height=\"24px\"viewBox=\"0 0 24 24\"\n",
              "       width=\"24px\">\n",
              "    <path d=\"M0 0h24v24H0V0z\" fill=\"none\"/>\n",
              "    <path d=\"M18.56 5.44l.94 2.06.94-2.06 2.06-.94-2.06-.94-.94-2.06-.94 2.06-2.06.94zm-11 1L8.5 8.5l.94-2.06 2.06-.94-2.06-.94L8.5 2.5l-.94 2.06-2.06.94zm10 10l.94 2.06.94-2.06 2.06-.94-2.06-.94-.94-2.06-.94 2.06-2.06.94z\"/><path d=\"M17.41 7.96l-1.37-1.37c-.4-.4-.92-.59-1.43-.59-.52 0-1.04.2-1.43.59L10.3 9.45l-7.72 7.72c-.78.78-.78 2.05 0 2.83L4 21.41c.39.39.9.59 1.41.59.51 0 1.02-.2 1.41-.59l7.78-7.78 2.81-2.81c.8-.78.8-2.07 0-2.86zM5.41 20L4 18.59l7.72-7.72 1.47 1.35L5.41 20z\"/>\n",
              "  </svg>\n",
              "      </button>\n",
              "      \n",
              "  <style>\n",
              "    .colab-df-container {\n",
              "      display:flex;\n",
              "      flex-wrap:wrap;\n",
              "      gap: 12px;\n",
              "    }\n",
              "\n",
              "    .colab-df-convert {\n",
              "      background-color: #E8F0FE;\n",
              "      border: none;\n",
              "      border-radius: 50%;\n",
              "      cursor: pointer;\n",
              "      display: none;\n",
              "      fill: #1967D2;\n",
              "      height: 32px;\n",
              "      padding: 0 0 0 0;\n",
              "      width: 32px;\n",
              "    }\n",
              "\n",
              "    .colab-df-convert:hover {\n",
              "      background-color: #E2EBFA;\n",
              "      box-shadow: 0px 1px 2px rgba(60, 64, 67, 0.3), 0px 1px 3px 1px rgba(60, 64, 67, 0.15);\n",
              "      fill: #174EA6;\n",
              "    }\n",
              "\n",
              "    [theme=dark] .colab-df-convert {\n",
              "      background-color: #3B4455;\n",
              "      fill: #D2E3FC;\n",
              "    }\n",
              "\n",
              "    [theme=dark] .colab-df-convert:hover {\n",
              "      background-color: #434B5C;\n",
              "      box-shadow: 0px 1px 3px 1px rgba(0, 0, 0, 0.15);\n",
              "      filter: drop-shadow(0px 1px 2px rgba(0, 0, 0, 0.3));\n",
              "      fill: #FFFFFF;\n",
              "    }\n",
              "  </style>\n",
              "\n",
              "      <script>\n",
              "        const buttonEl =\n",
              "          document.querySelector('#df-aae79804-fa31-488a-b0a7-280ce430466e button.colab-df-convert');\n",
              "        buttonEl.style.display =\n",
              "          google.colab.kernel.accessAllowed ? 'block' : 'none';\n",
              "\n",
              "        async function convertToInteractive(key) {\n",
              "          const element = document.querySelector('#df-aae79804-fa31-488a-b0a7-280ce430466e');\n",
              "          const dataTable =\n",
              "            await google.colab.kernel.invokeFunction('convertToInteractive',\n",
              "                                                     [key], {});\n",
              "          if (!dataTable) return;\n",
              "\n",
              "          const docLinkHtml = 'Like what you see? Visit the ' +\n",
              "            '<a target=\"_blank\" href=https://colab.research.google.com/notebooks/data_table.ipynb>data table notebook</a>'\n",
              "            + ' to learn more about interactive tables.';\n",
              "          element.innerHTML = '';\n",
              "          dataTable['output_type'] = 'display_data';\n",
              "          await google.colab.output.renderOutput(dataTable, element);\n",
              "          const docLink = document.createElement('div');\n",
              "          docLink.innerHTML = docLinkHtml;\n",
              "          element.appendChild(docLink);\n",
              "        }\n",
              "      </script>\n",
              "    </div>\n",
              "  </div>\n",
              "  "
            ]
          },
          "metadata": {},
          "execution_count": 174
        }
      ]
    },
    {
      "cell_type": "code",
      "source": [
        "#principal component analysis\n",
        "from sklearn.decomposition import PCA\n",
        "#choosing 3 components\n",
        "pca = PCA(n_components=3)\n",
        "#fitting pca\n",
        "pca_result = pca.fit_transform(scaled_df[col])\n",
        "#variance ratio\n",
        "print('Explained variation per principal component: {}'.format(pca.explained_variance_ratio_))\n",
        "# variance explained by three components\n",
        "print('Cumulative variance explained by 3 principal components: {:.2%}'.format(np.sum(pca.explained_variance_ratio_)))"
      ],
      "metadata": {
        "colab": {
          "base_uri": "https://localhost:8080/"
        },
        "id": "pPv2ZcxDt09B",
        "outputId": "d36bd808-90be-4bf3-9b84-809e696ea613"
      },
      "execution_count": 175,
      "outputs": [
        {
          "output_type": "stream",
          "name": "stdout",
          "text": [
            "Explained variation per principal component: [0.55990597 0.26962553 0.1704685 ]\n",
            "Cumulative variance explained by 3 principal components: 100.00%\n"
          ]
        }
      ]
    },
    {
      "cell_type": "code",
      "source": [
        "pca_result"
      ],
      "metadata": {
        "colab": {
          "base_uri": "https://localhost:8080/"
        },
        "id": "4EvYT5LoxAka",
        "outputId": "658be9bc-f864-4f3c-9dfb-e27b72dbd14f"
      },
      "execution_count": 176,
      "outputs": [
        {
          "output_type": "execute_result",
          "data": {
            "text/plain": [
              "array([[ 0.52506376,  0.15919751, -0.30718367],\n",
              "       [ 0.06648929, -0.20404964, -0.14853866],\n",
              "       [ 0.32273001, -0.15674298, -0.06039211],\n",
              "       [ 0.3003918 ,  0.24117285, -0.13146087],\n",
              "       [ 0.44541562,  0.00594515, -0.12523597],\n",
              "       [ 0.49676211, -0.00811334, -0.02234515],\n",
              "       [ 0.08016258,  0.17945937, -0.15405919],\n",
              "       [-0.42866747, -0.12910504, -0.03659723],\n",
              "       [ 0.36489142,  0.14621421, -0.114643  ],\n",
              "       [-0.23312516, -0.10686012, -0.13070535],\n",
              "       [-0.09752661,  0.08487927, -0.12227665],\n",
              "       [ 0.3491494 , -0.10031863,  0.08513778],\n",
              "       [-0.00735374, -0.01710862, -0.05401337],\n",
              "       [ 0.08974901, -0.05127335,  0.12954372],\n",
              "       [ 0.21359889, -0.31404831,  0.04483999],\n",
              "       [-0.2629444 ,  0.04301888,  0.01566276],\n",
              "       [-0.34433354, -0.25829187, -0.02191999],\n",
              "       [-0.30914152,  0.12993503,  0.0311114 ],\n",
              "       [ 0.22745865, -0.17840197,  0.27542762],\n",
              "       [-0.12957575,  0.17550008, -0.06745499],\n",
              "       [-0.39646569, -0.15459409,  0.00368081],\n",
              "       [ 0.53406522,  0.06124555,  0.16814146],\n",
              "       [-0.09340051, -0.50887618,  0.21637196],\n",
              "       [-0.26710137, -0.09820821, -0.19973505],\n",
              "       [ 0.1044905 , -0.04924687,  0.16790152],\n",
              "       [-0.2892734 , -0.21728759,  0.16997923],\n",
              "       [ 0.40377436,  0.16739713,  0.00956736],\n",
              "       [ 0.12851883, -0.24831508, -0.06392173],\n",
              "       [-0.24493865,  0.03581547,  0.04843688],\n",
              "       [-0.46655555, -0.06568317, -0.03536161],\n",
              "       [ 0.34055782,  0.21501889, -0.07301915],\n",
              "       [-0.02659454,  0.01544139, -0.05288796],\n",
              "       [-0.18320586, -0.00761088,  0.13356142],\n",
              "       [ 0.37279342, -0.12346459,  0.10826735],\n",
              "       [-0.02481403,  0.01040691, -0.0559336 ],\n",
              "       [ 0.30939041,  0.17201985, -0.21042731],\n",
              "       [ 0.09618715,  0.13414897, -0.18147002],\n",
              "       [ 0.25397979, -0.00605663, -0.00636526],\n",
              "       [-0.00522845, -0.04497248, -0.08943573],\n",
              "       [ 0.24092274,  0.03086296,  0.01596949],\n",
              "       [-0.04539447, -0.01881851, -0.14787745],\n",
              "       [-0.03094973, -0.01595294, -0.10901204],\n",
              "       [-0.05845152,  0.01810107, -0.1255427 ],\n",
              "       [ 0.17701661,  0.12414344, -0.00186359],\n",
              "       [ 0.16346213,  0.11876063, -0.04225182],\n",
              "       [ 0.09588471, -0.0249135 ,  0.18262216],\n",
              "       [ 0.13032206,  0.1687572 , -0.04913793],\n",
              "       [-0.03174391, -0.05741626, -0.17122742],\n",
              "       [-0.10355771,  0.14564147, -0.04838629],\n",
              "       [-0.15936969, -0.11871797,  0.02921458],\n",
              "       [-0.08990716,  0.10704372, -0.07173625],\n",
              "       [-0.04895548, -0.00874953, -0.14178616],\n",
              "       [ 0.06254397, -0.01805841,  0.11250545],\n",
              "       [-0.49860469,  0.02493764,  0.01946006],\n",
              "       [-0.1800462 , -0.10396283,  0.00100893],\n",
              "       [ 0.53048999, -0.21968963,  0.34711031],\n",
              "       [-0.22541878, -0.08494147, -0.08031364],\n",
              "       [-0.23282841, -0.1076992 , -0.13121295],\n",
              "       [-0.0940702 , -0.01231175, -0.25533675],\n",
              "       [ 0.2557603 , -0.01109112, -0.00941091],\n",
              "       [ 0.27682964, -0.07066591, -0.04545107],\n",
              "       [-0.10296421,  0.1439633 , -0.0494015 ],\n",
              "       [-0.0027018 ,  0.01344664,  0.0016031 ],\n",
              "       [-0.18792001, -0.12540806, -0.04909637],\n",
              "       [ 0.30413928, -0.0167588 ,  0.098556  ],\n",
              "       [ 0.14431741,  0.10733009, -0.10486461],\n",
              "       [-0.08437917, -0.15592243,  0.15523496],\n",
              "       [ 0.15217137, -0.14035843,  0.14991484],\n",
              "       [ 0.19698082, -0.26705974,  0.07326603],\n",
              "       [ 0.38497443,  0.13313722, -0.08542214],\n",
              "       [ 0.07847246, -0.01938825,  0.14883282],\n",
              "       [-0.10228884, -0.19269958,  0.05872264],\n",
              "       [-0.02916922, -0.02098743, -0.11205769],\n",
              "       [-0.07160465,  0.09900122, -0.03946974],\n",
              "       [-0.17114366, -0.12913527, -0.01421931],\n",
              "       [-0.40787397, -0.16604541, -0.04037861],\n",
              "       [ 0.14589724,  0.05915412, -0.17114086],\n",
              "       [-0.08962461, -0.18479952,  0.1006337 ],\n",
              "       [ 0.15283335,  0.06139632, -0.15121849],\n",
              "       [-0.0768501 ,  0.07012413, -0.09407101],\n",
              "       [-0.23603611,  0.01064302,  0.03320864],\n",
              "       [ 0.28627671,  0.25922965, -0.13910322],\n",
              "       [-0.19706562, -0.14325722, -0.09702621],\n",
              "       [ 0.11736108,  0.16169622, -0.09054139],\n",
              "       [-0.43064865, -0.16721204, -0.09678217],\n",
              "       [-0.2446419 ,  0.03497639,  0.04792927],\n",
              "       [ 0.14559072,  0.03816637, -0.20240346],\n",
              "       [-0.26933489,  0.01737945, -0.03697985],\n",
              "       [-0.32284864,  0.05942046, -0.10437653],\n",
              "       [-0.13449184, -0.39268807,  0.28666074],\n",
              "       [ 0.39643745, -0.14661055,  0.13139691],\n",
              "       [ 0.70205201, -0.02036677,  0.45295634],\n",
              "       [-0.20571945, -0.09693358, -0.05043648],\n",
              "       [ 0.24484275,  0.28896877, -0.19537608],\n",
              "       [-0.2794664 ,  0.04602688, -0.0196494 ],\n",
              "       [-0.02412445, -0.03525182, -0.12068702],\n",
              "       [ 0.07563485, -0.36797244,  0.23117916],\n",
              "       [-0.40205593, -0.16064182, -0.01854374],\n",
              "       [-0.11237839, -0.16417081,  0.07598131],\n",
              "       [-0.41260312,  0.50989653,  0.33523539],\n",
              "       [-0.49056115,  0.55549181,  0.21429109],\n",
              "       [-0.27092543,  0.61888345,  0.23790462],\n",
              "       [-0.64198359,  0.4522043 ,  0.29650382],\n",
              "       [ 0.12411586,  0.57968573,  0.53364285]])"
            ]
          },
          "metadata": {},
          "execution_count": 176
        }
      ]
    },
    {
      "cell_type": "code",
      "source": [
        "#silhouette score\n",
        "from sklearn.metrics import silhouette_score\n",
        "from sklearn.model_selection import ParameterGrid\n",
        "# candidates for the number of cluster\n",
        "parameters = list(range(2,11))\n",
        "#parameters\n",
        "parameter_grid = ParameterGrid({'n_clusters': parameters})\n",
        "best_score = -1\n",
        "kmeans_model = KMeans(random_state = 0)     # instantiating KMeans model\n",
        "silhouette_scores = []\n",
        "# evaluation based on silhouette_score\n",
        "for p in parameter_grid:\n",
        "    kmeans_model.set_params(**p)    # set current hyper parameter\n",
        "    kmeans_model.fit(pca_result)          # fit model \n",
        "    score = silhouette_score(pca_result, kmeans_model.labels_)   # calculate silhouette_score\n",
        "    silhouette_scores += [score]       # store all the scores\n",
        "    print('Parameter:', p, 'Score', score)\n",
        "    # check p which has the best score\n",
        "    if score > best_score:\n",
        "        best_score = score\n",
        "        best_grid = p\n",
        "\n",
        "# plotting \n",
        "plt.bar(range(len(silhouette_scores)), list(silhouette_scores), align='center', color='green', width=0.5)\n",
        "plt.xticks(range(len(silhouette_scores)), list(parameters))\n",
        "plt.title('Silhouette Score', fontweight='bold')\n",
        "plt.xlabel('Number of Clusters')"
      ],
      "metadata": {
        "colab": {
          "base_uri": "https://localhost:8080/",
          "height": 687
        },
        "id": "RQg20qPTxEYz",
        "outputId": "da7caeb6-9a5a-483f-cfa9-df852af7ff44"
      },
      "execution_count": 177,
      "outputs": [
        {
          "output_type": "stream",
          "name": "stdout",
          "text": [
            "Parameter: {'n_clusters': 2} Score 0.3662603075718286\n",
            "Parameter: {'n_clusters': 3} Score 0.4011242288676978\n",
            "Parameter: {'n_clusters': 4} Score 0.39717844217137094\n",
            "Parameter: {'n_clusters': 5} Score 0.3534460811415376\n",
            "Parameter: {'n_clusters': 6} Score 0.3417013775893067\n",
            "Parameter: {'n_clusters': 7} Score 0.34263572913342305\n",
            "Parameter: {'n_clusters': 8} Score 0.33912491364137065\n",
            "Parameter: {'n_clusters': 9} Score 0.36472291545719754\n",
            "Parameter: {'n_clusters': 10} Score 0.3631561126266193\n"
          ]
        },
        {
          "output_type": "execute_result",
          "data": {
            "text/plain": [
              "Text(0.5, 0, 'Number of Clusters')"
            ]
          },
          "metadata": {},
          "execution_count": 177
        },
        {
          "output_type": "display_data",
          "data": {
            "text/plain": [
              "<Figure size 720x576 with 1 Axes>"
            ],
            "image/png": "[encoded data removed]"
          },
          "metadata": {
            "needs_background": "light"
          }
        }
      ]
    },
    {
      "cell_type": "code",
      "source": [
        "# fitting KMeans    \n",
        "kmeans_pca = KMeans(n_clusters=3,random_state=0)\n",
        "kmeans_pca.fit(pca_result)"
      ],
      "metadata": {
        "colab": {
          "base_uri": "https://localhost:8080/"
        },
        "id": "X_Y07VaJy3Cu",
        "outputId": "cccee65e-55cf-4ceb-e901-04c8ed5738be"
      },
      "execution_count": 178,
      "outputs": [
        {
          "output_type": "execute_result",
          "data": {
            "text/plain": [
              "KMeans(n_clusters=3, random_state=0)"
            ]
          },
          "metadata": {},
          "execution_count": 178
        }
      ]
    },
    {
      "cell_type": "code",
      "source": [
        "rest_rating['Index'] = list(range(0,104))\n",
        "rest_rating.set_index(['Index','Name'],inplace=True)\n",
        "scaled_df['Index'] = list(range(0,104))\n",
        "scaled_df.set_index(['Index','Name'],inplace=True)"
      ],
      "metadata": {
        "id": "ygXvfDyN59Yo"
      },
      "execution_count": 179,
      "outputs": []
    },
    {
      "cell_type": "code",
      "source": [
        "rest_rating.index"
      ],
      "metadata": {
        "colab": {
          "base_uri": "https://localhost:8080/"
        },
        "id": "kdTJsjdW4dHw",
        "outputId": "2e7c1d3e-e834-451e-b8ea-da7a76991e19"
      },
      "execution_count": 180,
      "outputs": [
        {
          "output_type": "execute_result",
          "data": {
            "text/plain": [
              "MultiIndex([(  0,                        'Beyond Flavours'),\n",
              "            (  1,                               'Paradise'),\n",
              "            (  2,                               'Flechazo'),\n",
              "            (  3,         'Shah Ghouse Hotel & Restaurant'),\n",
              "            (  4,             'Over The Moon Brew Company'),\n",
              "            (  5,                  'The Fisherman's Wharf'),\n",
              "            (  6,                                'eat.fit'),\n",
              "            (  7,               'Shah Ghouse Spl Shawarma'),\n",
              "            (  8,                            'Hyper Local'),\n",
              "            (  9,                            'Cream Stone'),\n",
              "            ...\n",
              "            ( 94,                             'Desi Bytes'),\n",
              "            ( 95,                      'Hyderabadi Daawat'),\n",
              "            ( 96,        'Zega - Sheraton Hyderabad Hotel'),\n",
              "            ( 97,                               'Triptify'),\n",
              "            ( 98,                       'Chinese Pavilion'),\n",
              "            ( 99,                              'IndiBlaze'),\n",
              "            (100,                           'Sweet Basket'),\n",
              "            (101,                       'Angaara Counts 3'),\n",
              "            (102,                            'Wich Please'),\n",
              "            (103, 'Republic Of Noodles - Lemon Tree Hotel')],\n",
              "           names=['Index', 'Name'], length=104)"
            ]
          },
          "metadata": {},
          "execution_count": 180
        }
      ]
    },
    {
      "cell_type": "code",
      "source": [
        "rest_rating.index"
      ],
      "metadata": {
        "colab": {
          "base_uri": "https://localhost:8080/"
        },
        "id": "SBQ8Rmeh5C4U",
        "outputId": "36c3f6b2-14ad-4380-df9f-d418d437d6b4"
      },
      "execution_count": 181,
      "outputs": [
        {
          "output_type": "execute_result",
          "data": {
            "text/plain": [
              "MultiIndex([(  0,                        'Beyond Flavours'),\n",
              "            (  1,                               'Paradise'),\n",
              "            (  2,                               'Flechazo'),\n",
              "            (  3,         'Shah Ghouse Hotel & Restaurant'),\n",
              "            (  4,             'Over The Moon Brew Company'),\n",
              "            (  5,                  'The Fisherman's Wharf'),\n",
              "            (  6,                                'eat.fit'),\n",
              "            (  7,               'Shah Ghouse Spl Shawarma'),\n",
              "            (  8,                            'Hyper Local'),\n",
              "            (  9,                            'Cream Stone'),\n",
              "            ...\n",
              "            ( 94,                             'Desi Bytes'),\n",
              "            ( 95,                      'Hyderabadi Daawat'),\n",
              "            ( 96,        'Zega - Sheraton Hyderabad Hotel'),\n",
              "            ( 97,                               'Triptify'),\n",
              "            ( 98,                       'Chinese Pavilion'),\n",
              "            ( 99,                              'IndiBlaze'),\n",
              "            (100,                           'Sweet Basket'),\n",
              "            (101,                       'Angaara Counts 3'),\n",
              "            (102,                            'Wich Please'),\n",
              "            (103, 'Republic Of Noodles - Lemon Tree Hotel')],\n",
              "           names=['Index', 'Name'], length=104)"
            ]
          },
          "metadata": {},
          "execution_count": 181
        }
      ]
    },
    {
      "cell_type": "code",
      "source": [
        "kmeans_pca_df = pd.DataFrame(pca_result,columns=['PC1','PC2','PC3'],index=scaled_df.index)\n",
        "pred_pca = kmeans_pca.fit_predict(pca_result)\n",
        "kmeans_pca_df [\"label\"] = pred_pca"
      ],
      "metadata": {
        "id": "KcoMSqbjzAii"
      },
      "execution_count": 182,
      "outputs": []
    },
    {
      "cell_type": "code",
      "source": [
        "pred_pca"
      ],
      "metadata": {
        "colab": {
          "base_uri": "https://localhost:8080/"
        },
        "id": "XRm-FIaF3wJ6",
        "outputId": "e18dd4d9-1a9e-40af-c646-ecd858960389"
      },
      "execution_count": 183,
      "outputs": [
        {
          "output_type": "execute_result",
          "data": {
            "text/plain": [
              "array([2, 1, 2, 2, 2, 2, 2, 1, 2, 1, 1, 2, 1, 2, 2, 1, 1, 1, 2, 1, 1, 2,\n",
              "       1, 1, 2, 1, 2, 2, 1, 1, 2, 1, 1, 2, 1, 2, 2, 2, 1, 2, 1, 1, 1, 2,\n",
              "       2, 2, 2, 1, 1, 1, 1, 1, 2, 1, 1, 2, 1, 1, 1, 2, 2, 1, 1, 1, 2, 2,\n",
              "       1, 2, 2, 2, 2, 1, 1, 1, 1, 1, 2, 1, 2, 1, 1, 2, 1, 2, 1, 1, 2, 1,\n",
              "       1, 1, 2, 2, 1, 2, 1, 1, 1, 1, 1, 0, 0, 0, 0, 0], dtype=int32)"
            ]
          },
          "metadata": {},
          "execution_count": 183
        }
      ]
    },
    {
      "cell_type": "code",
      "source": [
        "kmeans_pca_df "
      ],
      "metadata": {
        "colab": {
          "base_uri": "https://localhost:8080/",
          "height": 455
        },
        "id": "Yu3qzKSV3yGb",
        "outputId": "419e3c6d-e890-4240-d282-d2a3a7c60c7f"
      },
      "execution_count": 184,
      "outputs": [
        {
          "output_type": "execute_result",
          "data": {
            "text/plain": [
              "                                                   PC1       PC2       PC3  \\\n",
              "Index Name                                                                   \n",
              "0     Beyond Flavours                         0.525064  0.159198 -0.307184   \n",
              "1     Paradise                                0.066489 -0.204050 -0.148539   \n",
              "2     Flechazo                                0.322730 -0.156743 -0.060392   \n",
              "3     Shah Ghouse Hotel & Restaurant          0.300392  0.241173 -0.131461   \n",
              "4     Over The Moon Brew Company              0.445416  0.005945 -0.125236   \n",
              "...                                                ...       ...       ...   \n",
              "99    IndiBlaze                              -0.412603  0.509897  0.335235   \n",
              "100   Sweet Basket                           -0.490561  0.555492  0.214291   \n",
              "101   Angaara Counts 3                       -0.270925  0.618883  0.237905   \n",
              "102   Wich Please                            -0.641984  0.452204  0.296504   \n",
              "103   Republic Of Noodles - Lemon Tree Hotel  0.124116  0.579686  0.533643   \n",
              "\n",
              "                                              label  \n",
              "Index Name                                           \n",
              "0     Beyond Flavours                             2  \n",
              "1     Paradise                                    1  \n",
              "2     Flechazo                                    2  \n",
              "3     Shah Ghouse Hotel & Restaurant              2  \n",
              "4     Over The Moon Brew Company                  2  \n",
              "...                                             ...  \n",
              "99    IndiBlaze                                   0  \n",
              "100   Sweet Basket                                0  \n",
              "101   Angaara Counts 3                            0  \n",
              "102   Wich Please                                 0  \n",
              "103   Republic Of Noodles - Lemon Tree Hotel      0  \n",
              "\n",
              "[104 rows x 4 columns]"
            ],
            "text/html": [
              "\n",
              "  <div id=\"df-02c8521d-6ccf-4afe-87b2-6b2d666f1b0d\">\n",
              "    <div class=\"colab-df-container\">\n",
              "      <div>\n",
              "<style scoped>\n",
              "    .dataframe tbody tr th:only-of-type {\n",
              "        vertical-align: middle;\n",
              "    }\n",
              "\n",
              "    .dataframe tbody tr th {\n",
              "        vertical-align: top;\n",
              "    }\n",
              "\n",
              "    .dataframe thead th {\n",
              "        text-align: right;\n",
              "    }\n",
              "</style>\n",
              "<table border=\"1\" class=\"dataframe\">\n",
              "  <thead>\n",
              "    <tr style=\"text-align: right;\">\n",
              "      <th></th>\n",
              "      <th></th>\n",
              "      <th>PC1</th>\n",
              "      <th>PC2</th>\n",
              "      <th>PC3</th>\n",
              "      <th>label</th>\n",
              "    </tr>\n",
              "    <tr>\n",
              "      <th>Index</th>\n",
              "      <th>Name</th>\n",
              "      <th></th>\n",
              "      <th></th>\n",
              "      <th></th>\n",
              "      <th></th>\n",
              "    </tr>\n",
              "  </thead>\n",
              "  <tbody>\n",
              "    <tr>\n",
              "      <th>0</th>\n",
              "      <th>Beyond Flavours</th>\n",
              "      <td>0.525064</td>\n",
              "      <td>0.159198</td>\n",
              "      <td>-0.307184</td>\n",
              "      <td>2</td>\n",
              "    </tr>\n",
              "    <tr>\n",
              "      <th>1</th>\n",
              "      <th>Paradise</th>\n",
              "      <td>0.066489</td>\n",
              "      <td>-0.204050</td>\n",
              "      <td>-0.148539</td>\n",
              "      <td>1</td>\n",
              "    </tr>\n",
              "    <tr>\n",
              "      <th>2</th>\n",
              "      <th>Flechazo</th>\n",
              "      <td>0.322730</td>\n",
              "      <td>-0.156743</td>\n",
              "      <td>-0.060392</td>\n",
              "      <td>2</td>\n",
              "    </tr>\n",
              "    <tr>\n",
              "      <th>3</th>\n",
              "      <th>Shah Ghouse Hotel &amp; Restaurant</th>\n",
              "      <td>0.300392</td>\n",
              "      <td>0.241173</td>\n",
              "      <td>-0.131461</td>\n",
              "      <td>2</td>\n",
              "    </tr>\n",
              "    <tr>\n",
              "      <th>4</th>\n",
              "      <th>Over The Moon Brew Company</th>\n",
              "      <td>0.445416</td>\n",
              "      <td>0.005945</td>\n",
              "      <td>-0.125236</td>\n",
              "      <td>2</td>\n",
              "    </tr>\n",
              "    <tr>\n",
              "      <th>...</th>\n",
              "      <th>...</th>\n",
              "      <td>...</td>\n",
              "      <td>...</td>\n",
              "      <td>...</td>\n",
              "      <td>...</td>\n",
              "    </tr>\n",
              "    <tr>\n",
              "      <th>99</th>\n",
              "      <th>IndiBlaze</th>\n",
              "      <td>-0.412603</td>\n",
              "      <td>0.509897</td>\n",
              "      <td>0.335235</td>\n",
              "      <td>0</td>\n",
              "    </tr>\n",
              "    <tr>\n",
              "      <th>100</th>\n",
              "      <th>Sweet Basket</th>\n",
              "      <td>-0.490561</td>\n",
              "      <td>0.555492</td>\n",
              "      <td>0.214291</td>\n",
              "      <td>0</td>\n",
              "    </tr>\n",
              "    <tr>\n",
              "      <th>101</th>\n",
              "      <th>Angaara Counts 3</th>\n",
              "      <td>-0.270925</td>\n",
              "      <td>0.618883</td>\n",
              "      <td>0.237905</td>\n",
              "      <td>0</td>\n",
              "    </tr>\n",
              "    <tr>\n",
              "      <th>102</th>\n",
              "      <th>Wich Please</th>\n",
              "      <td>-0.641984</td>\n",
              "      <td>0.452204</td>\n",
              "      <td>0.296504</td>\n",
              "      <td>0</td>\n",
              "    </tr>\n",
              "    <tr>\n",
              "      <th>103</th>\n",
              "      <th>Republic Of Noodles - Lemon Tree Hotel</th>\n",
              "      <td>0.124116</td>\n",
              "      <td>0.579686</td>\n",
              "      <td>0.533643</td>\n",
              "      <td>0</td>\n",
              "    </tr>\n",
              "  </tbody>\n",
              "</table>\n",
              "<p>104 rows × 4 columns</p>\n",
              "</div>\n",
              "      <button class=\"colab-df-convert\" onclick=\"convertToInteractive('df-02c8521d-6ccf-4afe-87b2-6b2d666f1b0d')\"\n",
              "              title=\"Convert this dataframe to an interactive table.\"\n",
              "              style=\"display:none;\">\n",
              "        \n",
              "  <svg xmlns=\"http://www.w3.org/2000/svg\" height=\"24px\"viewBox=\"0 0 24 24\"\n",
              "       width=\"24px\">\n",
              "    <path d=\"M0 0h24v24H0V0z\" fill=\"none\"/>\n",
              "    <path d=\"M18.56 5.44l.94 2.06.94-2.06 2.06-.94-2.06-.94-.94-2.06-.94 2.06-2.06.94zm-11 1L8.5 8.5l.94-2.06 2.06-.94-2.06-.94L8.5 2.5l-.94 2.06-2.06.94zm10 10l.94 2.06.94-2.06 2.06-.94-2.06-.94-.94-2.06-.94 2.06-2.06.94z\"/><path d=\"M17.41 7.96l-1.37-1.37c-.4-.4-.92-.59-1.43-.59-.52 0-1.04.2-1.43.59L10.3 9.45l-7.72 7.72c-.78.78-.78 2.05 0 2.83L4 21.41c.39.39.9.59 1.41.59.51 0 1.02-.2 1.41-.59l7.78-7.78 2.81-2.81c.8-.78.8-2.07 0-2.86zM5.41 20L4 18.59l7.72-7.72 1.47 1.35L5.41 20z\"/>\n",
              "  </svg>\n",
              "      </button>\n",
              "      \n",
              "  <style>\n",
              "    .colab-df-container {\n",
              "      display:flex;\n",
              "      flex-wrap:wrap;\n",
              "      gap: 12px;\n",
              "    }\n",
              "\n",
              "    .colab-df-convert {\n",
              "      background-color: #E8F0FE;\n",
              "      border: none;\n",
              "      border-radius: 50%;\n",
              "      cursor: pointer;\n",
              "      display: none;\n",
              "      fill: #1967D2;\n",
              "      height: 32px;\n",
              "      padding: 0 0 0 0;\n",
              "      width: 32px;\n",
              "    }\n",
              "\n",
              "    .colab-df-convert:hover {\n",
              "      background-color: #E2EBFA;\n",
              "      box-shadow: 0px 1px 2px rgba(60, 64, 67, 0.3), 0px 1px 3px 1px rgba(60, 64, 67, 0.15);\n",
              "      fill: #174EA6;\n",
              "    }\n",
              "\n",
              "    [theme=dark] .colab-df-convert {\n",
              "      background-color: #3B4455;\n",
              "      fill: #D2E3FC;\n",
              "    }\n",
              "\n",
              "    [theme=dark] .colab-df-convert:hover {\n",
              "      background-color: #434B5C;\n",
              "      box-shadow: 0px 1px 3px 1px rgba(0, 0, 0, 0.15);\n",
              "      filter: drop-shadow(0px 1px 2px rgba(0, 0, 0, 0.3));\n",
              "      fill: #FFFFFF;\n",
              "    }\n",
              "  </style>\n",
              "\n",
              "      <script>\n",
              "        const buttonEl =\n",
              "          document.querySelector('#df-02c8521d-6ccf-4afe-87b2-6b2d666f1b0d button.colab-df-convert');\n",
              "        buttonEl.style.display =\n",
              "          google.colab.kernel.accessAllowed ? 'block' : 'none';\n",
              "\n",
              "        async function convertToInteractive(key) {\n",
              "          const element = document.querySelector('#df-02c8521d-6ccf-4afe-87b2-6b2d666f1b0d');\n",
              "          const dataTable =\n",
              "            await google.colab.kernel.invokeFunction('convertToInteractive',\n",
              "                                                     [key], {});\n",
              "          if (!dataTable) return;\n",
              "\n",
              "          const docLinkHtml = 'Like what you see? Visit the ' +\n",
              "            '<a target=\"_blank\" href=https://colab.research.google.com/notebooks/data_table.ipynb>data table notebook</a>'\n",
              "            + ' to learn more about interactive tables.';\n",
              "          element.innerHTML = '';\n",
              "          dataTable['output_type'] = 'display_data';\n",
              "          await google.colab.output.renderOutput(dataTable, element);\n",
              "          const docLink = document.createElement('div');\n",
              "          docLink.innerHTML = docLinkHtml;\n",
              "          element.appendChild(docLink);\n",
              "        }\n",
              "      </script>\n",
              "    </div>\n",
              "  </div>\n",
              "  "
            ]
          },
          "metadata": {},
          "execution_count": 184
        }
      ]
    },
    {
      "cell_type": "code",
      "source": [
        "rest_rating=rest_rating.join(kmeans_pca_df ['label'])"
      ],
      "metadata": {
        "id": "XkzOQ1FF36ur"
      },
      "execution_count": 187,
      "outputs": []
    },
    {
      "cell_type": "code",
      "source": [
        "rest_rating['label'].value_counts()"
      ],
      "metadata": {
        "colab": {
          "base_uri": "https://localhost:8080/"
        },
        "id": "3yzR6SYi80NX",
        "outputId": "900580c3-0ceb-45be-e8e5-9de7b570068b"
      },
      "execution_count": 189,
      "outputs": [
        {
          "output_type": "execute_result",
          "data": {
            "text/plain": [
              "1    56\n",
              "2    43\n",
              "0     5\n",
              "Name: label, dtype: int64"
            ]
          },
          "metadata": {},
          "execution_count": 189
        }
      ]
    },
    {
      "cell_type": "code",
      "source": [
        "rest_rating[rest_rating['label']==0]"
      ],
      "metadata": {
        "colab": {
          "base_uri": "https://localhost:8080/",
          "height": 237
        },
        "id": "rJZbRjfd85Kw",
        "outputId": "2ea1bcea-fc8b-4495-9ca5-350b8bfc68c7"
      },
      "execution_count": 190,
      "outputs": [
        {
          "output_type": "execute_result",
          "data": {
            "text/plain": [
              "                                              Cost  no of cuisnes  Rating  \\\n",
              "Index Name                                                                  \n",
              "99    IndiBlaze                                600              2     0.0   \n",
              "100   Sweet Basket                             200              2     0.0   \n",
              "101   Angaara Counts 3                         500              3     0.0   \n",
              "102   Wich Please                              250              1     0.0   \n",
              "103   Republic Of Noodles - Lemon Tree Hotel  1700              4     0.0   \n",
              "\n",
              "                                              label  \n",
              "Index Name                                           \n",
              "99    IndiBlaze                                   0  \n",
              "100   Sweet Basket                                0  \n",
              "101   Angaara Counts 3                            0  \n",
              "102   Wich Please                                 0  \n",
              "103   Republic Of Noodles - Lemon Tree Hotel      0  "
            ],
            "text/html": [
              "\n",
              "  <div id=\"df-03eae378-1c0d-4731-bb2f-09754caad1e3\">\n",
              "    <div class=\"colab-df-container\">\n",
              "      <div>\n",
              "<style scoped>\n",
              "    .dataframe tbody tr th:only-of-type {\n",
              "        vertical-align: middle;\n",
              "    }\n",
              "\n",
              "    .dataframe tbody tr th {\n",
              "        vertical-align: top;\n",
              "    }\n",
              "\n",
              "    .dataframe thead th {\n",
              "        text-align: right;\n",
              "    }\n",
              "</style>\n",
              "<table border=\"1\" class=\"dataframe\">\n",
              "  <thead>\n",
              "    <tr style=\"text-align: right;\">\n",
              "      <th></th>\n",
              "      <th></th>\n",
              "      <th>Cost</th>\n",
              "      <th>no of cuisnes</th>\n",
              "      <th>Rating</th>\n",
              "      <th>label</th>\n",
              "    </tr>\n",
              "    <tr>\n",
              "      <th>Index</th>\n",
              "      <th>Name</th>\n",
              "      <th></th>\n",
              "      <th></th>\n",
              "      <th></th>\n",
              "      <th></th>\n",
              "    </tr>\n",
              "  </thead>\n",
              "  <tbody>\n",
              "    <tr>\n",
              "      <th>99</th>\n",
              "      <th>IndiBlaze</th>\n",
              "      <td>600</td>\n",
              "      <td>2</td>\n",
              "      <td>0.0</td>\n",
              "      <td>0</td>\n",
              "    </tr>\n",
              "    <tr>\n",
              "      <th>100</th>\n",
              "      <th>Sweet Basket</th>\n",
              "      <td>200</td>\n",
              "      <td>2</td>\n",
              "      <td>0.0</td>\n",
              "      <td>0</td>\n",
              "    </tr>\n",
              "    <tr>\n",
              "      <th>101</th>\n",
              "      <th>Angaara Counts 3</th>\n",
              "      <td>500</td>\n",
              "      <td>3</td>\n",
              "      <td>0.0</td>\n",
              "      <td>0</td>\n",
              "    </tr>\n",
              "    <tr>\n",
              "      <th>102</th>\n",
              "      <th>Wich Please</th>\n",
              "      <td>250</td>\n",
              "      <td>1</td>\n",
              "      <td>0.0</td>\n",
              "      <td>0</td>\n",
              "    </tr>\n",
              "    <tr>\n",
              "      <th>103</th>\n",
              "      <th>Republic Of Noodles - Lemon Tree Hotel</th>\n",
              "      <td>1700</td>\n",
              "      <td>4</td>\n",
              "      <td>0.0</td>\n",
              "      <td>0</td>\n",
              "    </tr>\n",
              "  </tbody>\n",
              "</table>\n",
              "</div>\n",
              "      <button class=\"colab-df-convert\" onclick=\"convertToInteractive('df-03eae378-1c0d-4731-bb2f-09754caad1e3')\"\n",
              "              title=\"Convert this dataframe to an interactive table.\"\n",
              "              style=\"display:none;\">\n",
              "        \n",
              "  <svg xmlns=\"http://www.w3.org/2000/svg\" height=\"24px\"viewBox=\"0 0 24 24\"\n",
              "       width=\"24px\">\n",
              "    <path d=\"M0 0h24v24H0V0z\" fill=\"none\"/>\n",
              "    <path d=\"M18.56 5.44l.94 2.06.94-2.06 2.06-.94-2.06-.94-.94-2.06-.94 2.06-2.06.94zm-11 1L8.5 8.5l.94-2.06 2.06-.94-2.06-.94L8.5 2.5l-.94 2.06-2.06.94zm10 10l.94 2.06.94-2.06 2.06-.94-2.06-.94-.94-2.06-.94 2.06-2.06.94z\"/><path d=\"M17.41 7.96l-1.37-1.37c-.4-.4-.92-.59-1.43-.59-.52 0-1.04.2-1.43.59L10.3 9.45l-7.72 7.72c-.78.78-.78 2.05 0 2.83L4 21.41c.39.39.9.59 1.41.59.51 0 1.02-.2 1.41-.59l7.78-7.78 2.81-2.81c.8-.78.8-2.07 0-2.86zM5.41 20L4 18.59l7.72-7.72 1.47 1.35L5.41 20z\"/>\n",
              "  </svg>\n",
              "      </button>\n",
              "      \n",
              "  <style>\n",
              "    .colab-df-container {\n",
              "      display:flex;\n",
              "      flex-wrap:wrap;\n",
              "      gap: 12px;\n",
              "    }\n",
              "\n",
              "    .colab-df-convert {\n",
              "      background-color: #E8F0FE;\n",
              "      border: none;\n",
              "      border-radius: 50%;\n",
              "      cursor: pointer;\n",
              "      display: none;\n",
              "      fill: #1967D2;\n",
              "      height: 32px;\n",
              "      padding: 0 0 0 0;\n",
              "      width: 32px;\n",
              "    }\n",
              "\n",
              "    .colab-df-convert:hover {\n",
              "      background-color: #E2EBFA;\n",
              "      box-shadow: 0px 1px 2px rgba(60, 64, 67, 0.3), 0px 1px 3px 1px rgba(60, 64, 67, 0.15);\n",
              "      fill: #174EA6;\n",
              "    }\n",
              "\n",
              "    [theme=dark] .colab-df-convert {\n",
              "      background-color: #3B4455;\n",
              "      fill: #D2E3FC;\n",
              "    }\n",
              "\n",
              "    [theme=dark] .colab-df-convert:hover {\n",
              "      background-color: #434B5C;\n",
              "      box-shadow: 0px 1px 3px 1px rgba(0, 0, 0, 0.15);\n",
              "      filter: drop-shadow(0px 1px 2px rgba(0, 0, 0, 0.3));\n",
              "      fill: #FFFFFF;\n",
              "    }\n",
              "  </style>\n",
              "\n",
              "      <script>\n",
              "        const buttonEl =\n",
              "          document.querySelector('#df-03eae378-1c0d-4731-bb2f-09754caad1e3 button.colab-df-convert');\n",
              "        buttonEl.style.display =\n",
              "          google.colab.kernel.accessAllowed ? 'block' : 'none';\n",
              "\n",
              "        async function convertToInteractive(key) {\n",
              "          const element = document.querySelector('#df-03eae378-1c0d-4731-bb2f-09754caad1e3');\n",
              "          const dataTable =\n",
              "            await google.colab.kernel.invokeFunction('convertToInteractive',\n",
              "                                                     [key], {});\n",
              "          if (!dataTable) return;\n",
              "\n",
              "          const docLinkHtml = 'Like what you see? Visit the ' +\n",
              "            '<a target=\"_blank\" href=https://colab.research.google.com/notebooks/data_table.ipynb>data table notebook</a>'\n",
              "            + ' to learn more about interactive tables.';\n",
              "          element.innerHTML = '';\n",
              "          dataTable['output_type'] = 'display_data';\n",
              "          await google.colab.output.renderOutput(dataTable, element);\n",
              "          const docLink = document.createElement('div');\n",
              "          docLink.innerHTML = docLinkHtml;\n",
              "          element.appendChild(docLink);\n",
              "        }\n",
              "      </script>\n",
              "    </div>\n",
              "  </div>\n",
              "  "
            ]
          },
          "metadata": {},
          "execution_count": 190
        }
      ]
    }
  ]
}