{
  "nbformat": 4,
  "nbformat_minor": 0,
  "metadata": {
    "colab": {
      "provenance": [],
      "authorship_tag": "ABX9TyMa3PsP2xMzL9RTpr/Na5fb",
      "include_colab_link": true
    },
    "kernelspec": {
      "name": "python3",
      "display_name": "Python 3"
    },
    "language_info": {
      "name": "python"
    }
  },
  "cells": [
    {
      "cell_type": "markdown",
      "metadata": {
        "id": "view-in-github",
        "colab_type": "text"
      },
      "source": [
        "<a href=\"https://colab.research.google.com/github/Souvik0651/Zomato-Restaurant-Clustering-and-sentiment-Analysis/blob/main/Zomato_Restaurant_Clustering_and_sentiment_Analysis.ipynb\" target=\"_parent\"><img src=\"https://colab.research.google.com/assets/colab-badge.svg\" alt=\"Open In Colab\"/></a>"
      ]
    },
    {
      "cell_type": "code",
      "execution_count": null,
      "metadata": {
        "id": "bDQsiPEVGHWU"
      },
      "outputs": [],
      "source": [
        "import pandas as pd\n",
        "import numpy as np\n",
        "import matplotlib.pyplot as plt\n",
        "import seaborn as sns"
      ]
    },
    {
      "cell_type": "code",
      "source": [
        "from google.colab import drive\n",
        "drive.mount('/content/drive')"
      ],
      "metadata": {
        "colab": {
          "base_uri": "https://localhost:8080/"
        },
        "id": "QgW2JXg5MIXa",
        "outputId": "aa24a42d-4cc5-4c18-a646-83989efd6109"
      },
      "execution_count": null,
      "outputs": [
        {
          "output_type": "stream",
          "name": "stdout",
          "text": [
            "Mounted at /content/drive\n"
          ]
        }
      ]
    },
    {
      "cell_type": "code",
      "source": [
        "df=pd.read_csv('/content/drive/MyDrive/Colab Notebooks/Capstone project4- Unsupervised/Zomato Restaurant names and Metadata.csv')"
      ],
      "metadata": {
        "id": "IEqoRxYzMPtJ"
      },
      "execution_count": null,
      "outputs": []
    },
    {
      "cell_type": "code",
      "source": [
        "df.head(2)"
      ],
      "metadata": {
        "colab": {
          "base_uri": "https://localhost:8080/",
          "height": 350
        },
        "id": "UJb_rux4M4bH",
        "outputId": "50ce11c0-1983-4ea1-ad4c-8aa071338434"
      },
      "execution_count": null,
      "outputs": [
        {
          "output_type": "execute_result",
          "data": {
            "text/plain": [
              "              Name                                              Links Cost  \\\n",
              "0  Beyond Flavours  https://www.zomato.com/hyderabad/beyond-flavou...  800   \n",
              "1         Paradise  https://www.zomato.com/hyderabad/paradise-gach...  800   \n",
              "\n",
              "                                         Collections  \\\n",
              "0  Food Hygiene Rated Restaurants in Hyderabad, C...   \n",
              "1                                Hyderabad's Hottest   \n",
              "\n",
              "                                            Cuisines  \\\n",
              "0  Chinese, Continental, Kebab, European, South I...   \n",
              "1                     Biryani, North Indian, Chinese   \n",
              "\n",
              "                                         Timings  \n",
              "0  12noon to 3:30pm, 6:30pm to 11:30pm (Mon-Sun)  \n",
              "1                                 11 AM to 11 PM  "
            ],
            "text/html": [
              "\n",
              "  <div id=\"df-e7b088a4-a62e-435f-bd4f-b2ffde9ba3c2\">\n",
              "    <div class=\"colab-df-container\">\n",
              "      <div>\n",
              "<style scoped>\n",
              "    .dataframe tbody tr th:only-of-type {\n",
              "        vertical-align: middle;\n",
              "    }\n",
              "\n",
              "    .dataframe tbody tr th {\n",
              "        vertical-align: top;\n",
              "    }\n",
              "\n",
              "    .dataframe thead th {\n",
              "        text-align: right;\n",
              "    }\n",
              "</style>\n",
              "<table border=\"1\" class=\"dataframe\">\n",
              "  <thead>\n",
              "    <tr style=\"text-align: right;\">\n",
              "      <th></th>\n",
              "      <th>Name</th>\n",
              "      <th>Links</th>\n",
              "      <th>Cost</th>\n",
              "      <th>Collections</th>\n",
              "      <th>Cuisines</th>\n",
              "      <th>Timings</th>\n",
              "    </tr>\n",
              "  </thead>\n",
              "  <tbody>\n",
              "    <tr>\n",
              "      <th>0</th>\n",
              "      <td>Beyond Flavours</td>\n",
              "      <td>https://www.zomato.com/hyderabad/beyond-flavou...</td>\n",
              "      <td>800</td>\n",
              "      <td>Food Hygiene Rated Restaurants in Hyderabad, C...</td>\n",
              "      <td>Chinese, Continental, Kebab, European, South I...</td>\n",
              "      <td>12noon to 3:30pm, 6:30pm to 11:30pm (Mon-Sun)</td>\n",
              "    </tr>\n",
              "    <tr>\n",
              "      <th>1</th>\n",
              "      <td>Paradise</td>\n",
              "      <td>https://www.zomato.com/hyderabad/paradise-gach...</td>\n",
              "      <td>800</td>\n",
              "      <td>Hyderabad's Hottest</td>\n",
              "      <td>Biryani, North Indian, Chinese</td>\n",
              "      <td>11 AM to 11 PM</td>\n",
              "    </tr>\n",
              "  </tbody>\n",
              "</table>\n",
              "</div>\n",
              "      <button class=\"colab-df-convert\" onclick=\"convertToInteractive('df-e7b088a4-a62e-435f-bd4f-b2ffde9ba3c2')\"\n",
              "              title=\"Convert this dataframe to an interactive table.\"\n",
              "              style=\"display:none;\">\n",
              "        \n",
              "  <svg xmlns=\"http://www.w3.org/2000/svg\" height=\"24px\"viewBox=\"0 0 24 24\"\n",
              "       width=\"24px\">\n",
              "    <path d=\"M0 0h24v24H0V0z\" fill=\"none\"/>\n",
              "    <path d=\"M18.56 5.44l.94 2.06.94-2.06 2.06-.94-2.06-.94-.94-2.06-.94 2.06-2.06.94zm-11 1L8.5 8.5l.94-2.06 2.06-.94-2.06-.94L8.5 2.5l-.94 2.06-2.06.94zm10 10l.94 2.06.94-2.06 2.06-.94-2.06-.94-.94-2.06-.94 2.06-2.06.94z\"/><path d=\"M17.41 7.96l-1.37-1.37c-.4-.4-.92-.59-1.43-.59-.52 0-1.04.2-1.43.59L10.3 9.45l-7.72 7.72c-.78.78-.78 2.05 0 2.83L4 21.41c.39.39.9.59 1.41.59.51 0 1.02-.2 1.41-.59l7.78-7.78 2.81-2.81c.8-.78.8-2.07 0-2.86zM5.41 20L4 18.59l7.72-7.72 1.47 1.35L5.41 20z\"/>\n",
              "  </svg>\n",
              "      </button>\n",
              "      \n",
              "  <style>\n",
              "    .colab-df-container {\n",
              "      display:flex;\n",
              "      flex-wrap:wrap;\n",
              "      gap: 12px;\n",
              "    }\n",
              "\n",
              "    .colab-df-convert {\n",
              "      background-color: #E8F0FE;\n",
              "      border: none;\n",
              "      border-radius: 50%;\n",
              "      cursor: pointer;\n",
              "      display: none;\n",
              "      fill: #1967D2;\n",
              "      height: 32px;\n",
              "      padding: 0 0 0 0;\n",
              "      width: 32px;\n",
              "    }\n",
              "\n",
              "    .colab-df-convert:hover {\n",
              "      background-color: #E2EBFA;\n",
              "      box-shadow: 0px 1px 2px rgba(60, 64, 67, 0.3), 0px 1px 3px 1px rgba(60, 64, 67, 0.15);\n",
              "      fill: #174EA6;\n",
              "    }\n",
              "\n",
              "    [theme=dark] .colab-df-convert {\n",
              "      background-color: #3B4455;\n",
              "      fill: #D2E3FC;\n",
              "    }\n",
              "\n",
              "    [theme=dark] .colab-df-convert:hover {\n",
              "      background-color: #434B5C;\n",
              "      box-shadow: 0px 1px 3px 1px rgba(0, 0, 0, 0.15);\n",
              "      filter: drop-shadow(0px 1px 2px rgba(0, 0, 0, 0.3));\n",
              "      fill: #FFFFFF;\n",
              "    }\n",
              "  </style>\n",
              "\n",
              "      <script>\n",
              "        const buttonEl =\n",
              "          document.querySelector('#df-e7b088a4-a62e-435f-bd4f-b2ffde9ba3c2 button.colab-df-convert');\n",
              "        buttonEl.style.display =\n",
              "          google.colab.kernel.accessAllowed ? 'block' : 'none';\n",
              "\n",
              "        async function convertToInteractive(key) {\n",
              "          const element = document.querySelector('#df-e7b088a4-a62e-435f-bd4f-b2ffde9ba3c2');\n",
              "          const dataTable =\n",
              "            await google.colab.kernel.invokeFunction('convertToInteractive',\n",
              "                                                     [key], {});\n",
              "          if (!dataTable) return;\n",
              "\n",
              "          const docLinkHtml = 'Like what you see? Visit the ' +\n",
              "            '<a target=\"_blank\" href=https://colab.research.google.com/notebooks/data_table.ipynb>data table notebook</a>'\n",
              "            + ' to learn more about interactive tables.';\n",
              "          element.innerHTML = '';\n",
              "          dataTable['output_type'] = 'display_data';\n",
              "          await google.colab.output.renderOutput(dataTable, element);\n",
              "          const docLink = document.createElement('div');\n",
              "          docLink.innerHTML = docLinkHtml;\n",
              "          element.appendChild(docLink);\n",
              "        }\n",
              "      </script>\n",
              "    </div>\n",
              "  </div>\n",
              "  "
            ]
          },
          "metadata": {},
          "execution_count": 5
        }
      ]
    },
    {
      "cell_type": "code",
      "source": [
        "df.info()"
      ],
      "metadata": {
        "colab": {
          "base_uri": "https://localhost:8080/"
        },
        "id": "uetFrJddM7qL",
        "outputId": "5b1ef0db-639b-40bb-d44b-078adafe7dda"
      },
      "execution_count": null,
      "outputs": [
        {
          "output_type": "stream",
          "name": "stdout",
          "text": [
            "<class 'pandas.core.frame.DataFrame'>\n",
            "RangeIndex: 105 entries, 0 to 104\n",
            "Data columns (total 6 columns):\n",
            " #   Column       Non-Null Count  Dtype \n",
            "---  ------       --------------  ----- \n",
            " 0   Name         105 non-null    object\n",
            " 1   Links        105 non-null    object\n",
            " 2   Cost         105 non-null    object\n",
            " 3   Collections  51 non-null     object\n",
            " 4   Cuisines     105 non-null    object\n",
            " 5   Timings      104 non-null    object\n",
            "dtypes: object(6)\n",
            "memory usage: 5.0+ KB\n"
          ]
        }
      ]
    },
    {
      "cell_type": "code",
      "source": [
        "df.drop('Collections',axis=1,inplace=True)"
      ],
      "metadata": {
        "id": "6zS5utCIM_o4"
      },
      "execution_count": null,
      "outputs": []
    },
    {
      "cell_type": "code",
      "source": [
        "df.drop(df[df.Timings.isnull()].index,inplace=True)"
      ],
      "metadata": {
        "id": "JBq8SkkANiYZ"
      },
      "execution_count": null,
      "outputs": []
    },
    {
      "cell_type": "code",
      "source": [
        "df.info()"
      ],
      "metadata": {
        "colab": {
          "base_uri": "https://localhost:8080/"
        },
        "id": "gQMi10oCORnY",
        "outputId": "e900952a-7bd5-4e07-d014-1785490ac510"
      },
      "execution_count": null,
      "outputs": [
        {
          "output_type": "stream",
          "name": "stdout",
          "text": [
            "<class 'pandas.core.frame.DataFrame'>\n",
            "Int64Index: 104 entries, 0 to 104\n",
            "Data columns (total 5 columns):\n",
            " #   Column    Non-Null Count  Dtype \n",
            "---  ------    --------------  ----- \n",
            " 0   Name      104 non-null    object\n",
            " 1   Links     104 non-null    object\n",
            " 2   Cost      104 non-null    object\n",
            " 3   Cuisines  104 non-null    object\n",
            " 4   Timings   104 non-null    object\n",
            "dtypes: object(5)\n",
            "memory usage: 4.9+ KB\n"
          ]
        }
      ]
    },
    {
      "cell_type": "code",
      "source": [
        "df.Name.unique()"
      ],
      "metadata": {
        "colab": {
          "base_uri": "https://localhost:8080/"
        },
        "id": "n0SQrHII4X3O",
        "outputId": "2c6ebada-d993-4453-d67f-7e9f67bfa643"
      },
      "execution_count": null,
      "outputs": [
        {
          "output_type": "execute_result",
          "data": {
            "text/plain": [
              "array(['Beyond Flavours', 'Paradise', 'Flechazo',\n",
              "       'Shah Ghouse Hotel & Restaurant', 'Over The Moon Brew Company',\n",
              "       \"The Fisherman's Wharf\", 'eat.fit', 'Shah Ghouse Spl Shawarma',\n",
              "       'Hyper Local', 'Cream Stone', \"Sardarji's Chaats & More\",\n",
              "       'Barbeque Nation', 'Absolute Sizzlers',\n",
              "       'The Lal Street - Bar Exchange', \"AB's - Absolute Barbecues\",\n",
              "       'KFC', 'NorFest - The Dhaba', 'Hotel Zara Hi-Fi',\n",
              "       '10 Downing Street', 'Pakwaan Grand', '13 Dhaba',\n",
              "       \"Jonathan's Kitchen - Holiday Inn Express & Suites\", 'B-Dubs',\n",
              "       'Amul', 'SKYHY', 'Tiki Shack', 'Mustang Terrace Lounge',\n",
              "       \"3B's - Buddies, Bar & Barbecue\", 'Behrouz Biryani',\n",
              "       'Hunger Maggi Point', 'Pista House', 'Marsala Food Company',\n",
              "       'Club Rogue', 'Mazzo - Marriott Executive Apartments',\n",
              "       'Green Bawarchi Restaurant', 'Banana Leaf Multicuisine Restaurant',\n",
              "       'Kritunga Restaurant', 'The Glass Onion', 'Deli 9 Bistro',\n",
              "       'Frio Bistro', 'Karachi Bakery', 'Karachi Cafe',\n",
              "       'The Foodie Monster Kitchen', 'La La Land - Bar & Kitchen',\n",
              "       'Owm Nom Nom', 'Ulavacharu', 'Shanghai Chef 2', \"Udipi's Upahar\",\n",
              "       'Mathura Vilas', 'Gal Punjab Di', 'Hitech Bawarchi Food Zone',\n",
              "       'Biryanis And More', 'Diners Pavilion', 'Asian Meal Box',\n",
              "       'Cafe Eclat', 'Feast - Sheraton Hyderabad Hotel', 'Being Hungry',\n",
              "       'Tempteys', 'KS Bakers', 'PourHouse7', 'Prism Club & Kitchen',\n",
              "       'Shree Santosh Dhaba Family Restaurant', 'Dine O China',\n",
              "       'Hyderabad Chefs', 'Komatose - Holiday Inn Express & Suites',\n",
              "       'Aromas@11SIX', 'Yum Yum Tree - The Arabian Food Court',\n",
              "       'The Tilt Bar Republic', 'The Indi Grill',\n",
              "       'Urban Asia - Kitchen & Bar', 'Eat India Company', 'Labonel',\n",
              "       'Driven Cafe', 'Faasos', 'Royal Spicy Restaurant',\n",
              "       'The Old Madras Baking Company', 'Squeeze @ The Lime',\n",
              "       'Khaan Saab', 'Olive Garden', 'Tandoori Food Works', 'Delhi-39',\n",
              "       'Al Saba Restaurant', \"GD's\", 'T Grill', 'Momos Delight',\n",
              "       'The Chocolate Room', 'American Wild Wings', \"Domino's Pizza\",\n",
              "       'Mohammedia Shawarma', 'Arena Eleven',\n",
              "       'Cascade - Radisson Hyderabad Hitec City',\n",
              "       'Collage - Hyatt Hyderabad Gachibowli', \"Zing's Northeast Kitchen\",\n",
              "       \"Dunkin' Donuts\", 'Desi Bytes', 'Hyderabadi Daawat',\n",
              "       'Zega - Sheraton Hyderabad Hotel', 'Triptify', 'Chinese Pavilion',\n",
              "       'IndiBlaze', 'Sweet Basket', 'Angaara Counts 3', 'Wich Please',\n",
              "       'Republic Of Noodles - Lemon Tree Hotel'], dtype=object)"
            ]
          },
          "metadata": {},
          "execution_count": 10
        }
      ]
    },
    {
      "cell_type": "code",
      "source": [
        "df.Links.unique()"
      ],
      "metadata": {
        "colab": {
          "base_uri": "https://localhost:8080/"
        },
        "id": "0b5bEo384l8V",
        "outputId": "6b018719-95f5-47f6-a44d-3960daedbe0f"
      },
      "execution_count": null,
      "outputs": [
        {
          "output_type": "execute_result",
          "data": {
            "text/plain": [
              "array(['https://www.zomato.com/hyderabad/beyond-flavours-gachibowli',\n",
              "       'https://www.zomato.com/hyderabad/paradise-gachibowli',\n",
              "       'https://www.zomato.com/hyderabad/flechazo-gachibowli',\n",
              "       'https://www.zomato.com/hyderabad/shah-ghouse-hotel-restaurant-gachibowli',\n",
              "       'https://www.zomato.com/hyderabad/over-the-moon-brew-company-gachibowli',\n",
              "       'https://www.zomato.com/hyderabad/the-fishermans-wharf-gachibowli',\n",
              "       'https://www.zomato.com/hyderabad/eat-fit-gachibowli',\n",
              "       'https://www.zomato.com/hyderabad/shah-ghouse-spl-shawarma-gachibowli',\n",
              "       'https://www.zomato.com/hyderabad/hyper-local-gachibowli',\n",
              "       'https://www.zomato.com/hyderabad/cream-stone-gachibowli',\n",
              "       'https://www.zomato.com/hyderabad/sardarjis-chaats-more-gachibowli',\n",
              "       'https://www.zomato.com/hyderabad/barbeque-nation-gachibowli',\n",
              "       'https://www.zomato.com/hyderabad/absolute-sizzlers-gachibowli',\n",
              "       'https://www.zomato.com/hyderabad/the-lal-street-bar-exchange-gachibowli',\n",
              "       'https://www.zomato.com/hyderabad/abs-absolute-barbecues-gachibowli',\n",
              "       'https://www.zomato.com/hyderabad/kfc-gachibowli',\n",
              "       'https://www.zomato.com/hyderabad/norfest-the-dhaba-gachibowli',\n",
              "       'https://www.zomato.com/hyderabad/hotel-zara-gachibowli',\n",
              "       'https://www.zomato.com/hyderabad/10-downing-street-gachibowli',\n",
              "       'https://www.zomato.com/hyderabad/pakwaan-grand-gachibowli',\n",
              "       'https://www.zomato.com/hyderabad/13-dhaba-gachibowli',\n",
              "       'https://www.zomato.com/hyderabad/jonathans-kitchen-holiday-inn-express-suites-gachibowli',\n",
              "       'https://www.zomato.com/hyderabad/b-dubs-gachibowli',\n",
              "       'https://www.zomato.com/hyderabad/amul-gachibowli',\n",
              "       'https://www.zomato.com/hyderabad/skyhy-gachibowli',\n",
              "       'https://www.zomato.com/hyderabad/tiki-shack-gachibowli',\n",
              "       'https://www.zomato.com/hyderabad/mustang-terrace-lounge-gachibowli',\n",
              "       'https://www.zomato.com/hyderabad/3bs-buddies-bar-barbecue-gachibowli',\n",
              "       'https://www.zomato.com/hyderabad/behrouz-biryani-gachibowli',\n",
              "       'https://www.zomato.com/hyderabad/hunger-maggi-point-gachibowli',\n",
              "       'https://www.zomato.com/hyderabad/pista-house-2-gachibowli',\n",
              "       'https://www.zomato.com/hyderabad/marsala-food-company-gachibowli',\n",
              "       'https://www.zomato.com/hyderabad/club-rogue-gachibowli',\n",
              "       'https://www.zomato.com/hyderabad/mazzo-marriott-executive-apartments-gachibowli',\n",
              "       'https://www.zomato.com/hyderabad/green-bawarchi-restaurant-gachibowli',\n",
              "       'https://www.zomato.com/hyderabad/banana-leaf-multicuisine-restaurant-gachibowli',\n",
              "       'https://www.zomato.com/hyderabad/kritunga-restaurant-gachibowli',\n",
              "       'https://www.zomato.com/hyderabad/the-glass-onion-gachibowli',\n",
              "       'https://www.zomato.com/hyderabad/deli-9-bistro-gachibowli',\n",
              "       'https://www.zomato.com/hyderabad/frio-bistro-gachibowli',\n",
              "       'https://www.zomato.com/hyderabad/karachi-bakery-gachibowli',\n",
              "       'https://www.zomato.com/hyderabad/karachi-cafe-gachibowli',\n",
              "       'https://www.zomato.com/hyderabad/the-foodie-monster-kitchen-gachibowli',\n",
              "       'https://www.zomato.com/hyderabad/la-la-land-bar-kitchen-gachibowli',\n",
              "       'https://www.zomato.com/hyderabad/owm-nom-nom-gachibowli',\n",
              "       'https://www.zomato.com/hyderabad/ulavacharu-gachibowli',\n",
              "       'https://www.zomato.com/hyderabad/shanghai-chef-2-gachibowli',\n",
              "       'https://www.zomato.com/hyderabad/udipis-upahar-gachibowli',\n",
              "       'https://www.zomato.com/hyderabad/mathura-vilas-gachibowli',\n",
              "       'https://www.zomato.com/hyderabad/gal-punjab-di-gachibowli',\n",
              "       'https://www.zomato.com/hyderabad/hitech-bawarchi-food-zone-gachibowli',\n",
              "       'https://www.zomato.com/hyderabad/biryanis-and-more-gachibowli',\n",
              "       'https://www.zomato.com/hyderabad/diners-pavilion-gachibowli',\n",
              "       'https://www.zomato.com/hyderabad/asian-meal-box-gachibowli',\n",
              "       'https://www.zomato.com/hyderabad/cafe-eclat-gachibowli',\n",
              "       'https://www.zomato.com/hyderabad/feast-sheraton-hyderabad-hotel-gachibowli',\n",
              "       'https://www.zomato.com/hyderabad/being-hungry-gachibowli',\n",
              "       'https://www.zomato.com/hyderabad/tempteys-gachibowli',\n",
              "       'https://www.zomato.com/hyderabad/ks-bakers-gachibowli',\n",
              "       'https://www.zomato.com/hyderabad/pourhouse7-gachibowli',\n",
              "       'https://www.zomato.com/hyderabad/prism-club-kitchen-gachibowli',\n",
              "       'https://www.zomato.com/hyderabad/shree-santosh-dhaba-family-restaurant-gachibowli',\n",
              "       'https://www.zomato.com/hyderabad/dine-o-china-gachibowli',\n",
              "       'https://www.zomato.com/hyderabad/hyderabad-chefs-gachibowli',\n",
              "       'https://www.zomato.com/hyderabad/komatose-holiday-inn-express-suites-gachibowli',\n",
              "       'https://www.zomato.com/hyderabad/aromas11six-gachibowli',\n",
              "       'https://www.zomato.com/hyderabad/yum-yum-tree-the-arabian-food-court-gachibowli',\n",
              "       'https://www.zomato.com/thetiltbarrepublic',\n",
              "       'https://www.zomato.com/hyderabad/the-indi-grill-gachibowli',\n",
              "       'https://www.zomato.com/hyderabad/urban-asia-kitchen-bar-gachibowli',\n",
              "       'https://www.zomato.com/hyderabad/eat-india-company-gachibowli',\n",
              "       'https://www.zomato.com/hyderabad/labonel-gachibowli',\n",
              "       'https://www.zomato.com/hyderabad/driven-cafe-gachibowli',\n",
              "       'https://www.zomato.com/hyderabad/faasos-gachibowli',\n",
              "       'https://www.zomato.com/hyderabad/royal-spicy-restaurant-gachibowli',\n",
              "       'https://www.zomato.com/hyderabad/the-old-madras-baking-company-gachibowli',\n",
              "       'https://www.zomato.com/hyderabad/squeeze-the-lime-gachibowli',\n",
              "       'https://www.zomato.com/hyderabad/khaan-saab-gachibowli',\n",
              "       'https://www.zomato.com/hyderabad/olive-garden-gachibowli',\n",
              "       'https://www.zomato.com/hyderabad/tandoori-food-works-gachibowli',\n",
              "       'https://www.zomato.com/hyderabad/delhi-39-gachibowli',\n",
              "       'https://www.zomato.com/hyderabad/al-saba-restaurant-gachibowli',\n",
              "       'https://www.zomato.com/hyderabad/gds-gachibowli',\n",
              "       'https://www.zomato.com/hyderabad/t-grill-gachibowli',\n",
              "       'https://www.zomato.com/hyderabad/momos-delight-gachibowli',\n",
              "       'https://www.zomato.com/hyderabad/the-chocolate-room-gachibowli',\n",
              "       'https://www.zomato.com/hyderabad/american-wild-wings-gachibowli',\n",
              "       'https://www.zomato.com/hyderabad/dominos-pizza-4-gachibowli',\n",
              "       'https://www.zomato.com/hyderabad/mohammedia-shawarma-gachibowli',\n",
              "       'https://www.zomato.com/hyderabad/arena-eleven-gachibowli',\n",
              "       'https://www.zomato.com/hyderabad/cascade-radisson-hyderabad-hitec-city-gachibowli',\n",
              "       'https://www.zomato.com/hyderabad/collage-hyatt-hyderabad-gachibowli-gachibowli',\n",
              "       'https://www.zomato.com/hyderabad/zings-northeast-kitchen-gachibowli',\n",
              "       'https://www.zomato.com/hyderabad/dunkin-donuts-gachibowli',\n",
              "       'https://www.zomato.com/hyderabad/desi-bytes-gachibowli',\n",
              "       'https://www.zomato.com/hyderabad/hyderabadi-daawat-1-gachibowli',\n",
              "       'https://www.zomato.com/hyderabad/zega-sheraton-hyderabad-hotel-gachibowli',\n",
              "       'https://www.zomato.com/hyderabad/triptify-gachibowli',\n",
              "       'https://www.zomato.com/hyderabad/chinese-pavilion-gachibowli',\n",
              "       'https://www.zomato.com/hyderabad/indiblaze-gachibowli',\n",
              "       'https://www.zomato.com/hyderabad/sweet-basket-gachibowli',\n",
              "       'https://www.zomato.com/hyderabad/angaara-counts-3-gachibowli',\n",
              "       'https://www.zomato.com/hyderabad/wich-please-1-gachibowli',\n",
              "       'https://www.zomato.com/hyderabad/republic-of-noodles-lemon-tree-hotel-gachibowli'],\n",
              "      dtype=object)"
            ]
          },
          "metadata": {},
          "execution_count": 11
        }
      ]
    },
    {
      "cell_type": "code",
      "source": [
        "df.drop('Links',axis='columns',inplace=True)"
      ],
      "metadata": {
        "id": "fRxMtMSZ6ICM"
      },
      "execution_count": null,
      "outputs": []
    },
    {
      "cell_type": "code",
      "source": [
        "df.Cost.unique()"
      ],
      "metadata": {
        "colab": {
          "base_uri": "https://localhost:8080/"
        },
        "id": "j26qm6Oj81YZ",
        "outputId": "d60c74ae-b427-43fd-c51f-f34d29e08983"
      },
      "execution_count": null,
      "outputs": [
        {
          "output_type": "execute_result",
          "data": {
            "text/plain": [
              "array(['800', '1,300', '1,200', '1,500', '500', '300', '1,000', '350',\n",
              "       '400', '1,600', '750', '550', '1,900', '450', '150', '1,400',\n",
              "       '1,100', '600', '200', '700', '900', '1,700', '2,500', '850',\n",
              "       '650', '1,800', '2,800', '1,750', '250'], dtype=object)"
            ]
          },
          "metadata": {},
          "execution_count": 13
        }
      ]
    },
    {
      "cell_type": "code",
      "source": [
        "df.Cost=df.Cost.str.replace(',','').astype('int')"
      ],
      "metadata": {
        "id": "WUS0oXDc8_Zm"
      },
      "execution_count": null,
      "outputs": []
    },
    {
      "cell_type": "code",
      "source": [
        "df.Cuisines.unique()"
      ],
      "metadata": {
        "colab": {
          "base_uri": "https://localhost:8080/"
        },
        "id": "kQo5frP9-fRU",
        "outputId": "2792e744-19cd-4dec-f13b-1d28403eaf5a"
      },
      "execution_count": null,
      "outputs": [
        {
          "output_type": "execute_result",
          "data": {
            "text/plain": [
              "array(['Chinese, Continental, Kebab, European, South Indian, North Indian',\n",
              "       'Biryani, North Indian, Chinese',\n",
              "       'Asian, Mediterranean, North Indian, Desserts',\n",
              "       'Biryani, North Indian, Chinese, Seafood, Beverages',\n",
              "       'Asian, Continental, North Indian, Chinese, Mediterranean',\n",
              "       'Seafood, Goan, North Indian, Continental, Asian',\n",
              "       'Healthy Food, North Indian, Continental, South Indian',\n",
              "       'Lebanese', 'American, Chinese, North Indian, Kebab, South Indian',\n",
              "       'Ice Cream, Desserts', 'Street Food, North Indian, Fast Food',\n",
              "       'Mediterranean, North Indian, Kebab, BBQ',\n",
              "       'Continental, American, Chinese',\n",
              "       'North Indian, Italian, Finger Food',\n",
              "       'European, Mediterranean, North Indian', 'Burger, Fast Food',\n",
              "       'North Indian', 'Chinese, North Indian',\n",
              "       'North Indian, Chinese, Continental',\n",
              "       'North Indian, Chinese, Biryani',\n",
              "       'North Indian, Japanese, Italian, Salad, Sushi', 'American',\n",
              "       'Continental', 'Mexican, Italian, North Indian, Chinese, Salad',\n",
              "       'North Indian, Mediterranean, European', 'Mughlai, Biryani',\n",
              "       'Fast Food', 'Bakery, North Indian, Mughlai, Juices, Chinese',\n",
              "       'Arabian, North Indian, Chinese', 'North Indian, Fast Food',\n",
              "       'Italian, North Indian, South Indian, Asian',\n",
              "       'Biryani, South Indian, North Indian, Chinese, Andhra',\n",
              "       'Andhra, Biryani, Hyderabadi, North Indian',\n",
              "       'North Indian, Continental, Italian, Asian',\n",
              "       'Cafe, Continental, Desserts',\n",
              "       'European, Italian, Continental, Spanish',\n",
              "       'Bakery, Fast Food, Desserts', 'Cafe, Desserts, Fast Food',\n",
              "       'American, Wraps, Desserts',\n",
              "       'Finger Food, North Indian, Kebab, Chinese',\n",
              "       'Chinese, Biryani, Andhra, North Indian',\n",
              "       'Andhra, North Indian, Chinese',\n",
              "       'Chinese, Thai, Indonesian, Asian',\n",
              "       'South Indian, North Indian, Chinese', 'North Indian, Continental',\n",
              "       'North Indian, Biryani, Chinese', 'Chinese, Continental, Italian',\n",
              "       'Asian', 'Cafe, Bakery',\n",
              "       'Modern Indian, Asian, Continental, Italian',\n",
              "       'North Indian, Chinese', 'Desserts, Beverages',\n",
              "       'Bakery, Desserts, Fast Food',\n",
              "       'North Indian, Continental, Chinese, Italian',\n",
              "       'Kebab, Continental, Italian, North Indian',\n",
              "       'North Indian, Chinese, Fast Food', 'Chinese, Asian, Momos',\n",
              "       'North Indian, Chinese, Japanese, Sushi',\n",
              "       'North Indian, Chinese, Mughlai, Biryani',\n",
              "       'North Indian, Hyderabadi', 'North Indian, Continental, Italian',\n",
              "       'BBQ, Asian, Modern Indian', 'Asian, Thai, Chinese, Sushi, Momos',\n",
              "       'North Indian, Mughlai, Beverages', 'Bakery, Desserts',\n",
              "       'Cafe, Fast Food, Beverages', 'Fast Food, Biryani, Desserts',\n",
              "       'North Indian, South Indian', 'Bakery',\n",
              "       'Italian, North Indian, Chinese, Salad', 'North Indian, Mughlai',\n",
              "       'North Indian, Chinese, Continental, Biryani',\n",
              "       'North Indian, Burger, Kebab',\n",
              "       'North Indian, Chinese, Seafood, Biryani, Hyderabadi',\n",
              "       'Burger, American', 'North Indian, Andhra, Biryani, Chinese',\n",
              "       'Momos', 'Cafe, Desserts', 'American, Fast Food, Salad, Burger',\n",
              "       'Fast Food, Pizza', 'Street Food, Arabian',\n",
              "       'North Indian, Italian, Continental, Asian',\n",
              "       'Continental, Italian, North Indian, Chinese, Asian',\n",
              "       'North Eastern, Momos',\n",
              "       'Desserts, Cafe, Beverages, Burger, Fast Food',\n",
              "       'Hyderabadi, Chinese, Mughlai', 'Asian, Sushi', 'Chinese, Seafood',\n",
              "       'Fast Food, Salad', 'Bakery, Mithai',\n",
              "       'Thai, Asian, Chinese, Malaysian'], dtype=object)"
            ]
          },
          "metadata": {},
          "execution_count": 15
        }
      ]
    },
    {
      "cell_type": "code",
      "source": [
        "df.Cuisines.value_counts()"
      ],
      "metadata": {
        "colab": {
          "base_uri": "https://localhost:8080/"
        },
        "id": "li5BmVK4-3-t",
        "outputId": "8d2e7cb9-285a-4f65-fa99-e8854b71afe2"
      },
      "execution_count": null,
      "outputs": [
        {
          "output_type": "execute_result",
          "data": {
            "text/plain": [
              "North Indian, Chinese                                   4\n",
              "North Indian                                            3\n",
              "North Indian, Biryani, Chinese                          2\n",
              "Fast Food                                               2\n",
              "Biryani, North Indian, Chinese                          2\n",
              "                                                       ..\n",
              "Andhra, Biryani, Hyderabadi, North Indian               1\n",
              "Biryani, South Indian, North Indian, Chinese, Andhra    1\n",
              "Italian, North Indian, South Indian, Asian              1\n",
              "North Indian, Fast Food                                 1\n",
              "Thai, Asian, Chinese, Malaysian                         1\n",
              "Name: Cuisines, Length: 91, dtype: int64"
            ]
          },
          "metadata": {},
          "execution_count": 16
        }
      ]
    },
    {
      "cell_type": "code",
      "source": [
        "cuis=df.Cuisines.str.split(', ')\n",
        "cuis"
      ],
      "metadata": {
        "colab": {
          "base_uri": "https://localhost:8080/"
        },
        "id": "eLH9sEpUGGKI",
        "outputId": "efe56678-633f-4726-801b-b0a56348afa0"
      },
      "execution_count": null,
      "outputs": [
        {
          "output_type": "execute_result",
          "data": {
            "text/plain": [
              "0      [Chinese, Continental, Kebab, European, South ...\n",
              "1                       [Biryani, North Indian, Chinese]\n",
              "2         [Asian, Mediterranean, North Indian, Desserts]\n",
              "3      [Biryani, North Indian, Chinese, Seafood, Beve...\n",
              "4      [Asian, Continental, North Indian, Chinese, Me...\n",
              "                             ...                        \n",
              "100                                   [Fast Food, Salad]\n",
              "101                                     [Bakery, Mithai]\n",
              "102                     [North Indian, Biryani, Chinese]\n",
              "103                                          [Fast Food]\n",
              "104                    [Thai, Asian, Chinese, Malaysian]\n",
              "Name: Cuisines, Length: 104, dtype: object"
            ]
          },
          "metadata": {},
          "execution_count": 17
        }
      ]
    },
    {
      "cell_type": "code",
      "source": [
        "cuis_dict={}\n",
        "for names in cuis:\n",
        "  for name in names:\n",
        "    if name in cuis_dict:\n",
        "      cuis_dict[name]+=1\n",
        "    else:\n",
        "      cuis_dict[name]=1\n",
        "print(cuis_dict)\n",
        "cuis_df=pd.DataFrame(cuis_dict.items(),columns=['cuisines','no of restaurants'])"
      ],
      "metadata": {
        "colab": {
          "base_uri": "https://localhost:8080/"
        },
        "id": "25Y-UZYuK8nu",
        "outputId": "6b9da17d-db1c-4fd4-a8cf-264e158e2a92"
      },
      "execution_count": null,
      "outputs": [
        {
          "output_type": "stream",
          "name": "stdout",
          "text": [
            "{'Chinese': 43, 'Continental': 21, 'Kebab': 6, 'European': 4, 'South Indian': 8, 'North Indian': 60, 'Biryani': 16, 'Asian': 15, 'Mediterranean': 5, 'Desserts': 13, 'Seafood': 4, 'Beverages': 5, 'Goan': 1, 'Healthy Food': 1, 'Lebanese': 1, 'American': 6, 'Ice Cream': 2, 'Street Food': 2, 'Fast Food': 15, 'BBQ': 2, 'Italian': 14, 'Finger Food': 2, 'Burger': 5, 'Japanese': 2, 'Salad': 5, 'Sushi': 4, 'Mexican': 1, 'Mughlai': 6, 'Bakery': 7, 'Juices': 1, 'Arabian': 2, 'Andhra': 5, 'Hyderabadi': 4, 'Cafe': 6, 'Spanish': 1, 'Wraps': 1, 'Thai': 3, 'Indonesian': 1, 'Modern Indian': 2, 'Momos': 4, 'Pizza': 1, 'North Eastern': 1, 'Mithai': 1, 'Malaysian': 1}\n"
          ]
        }
      ]
    },
    {
      "cell_type": "code",
      "source": [
        "cuis_df.head(27)"
      ],
      "metadata": {
        "colab": {
          "base_uri": "https://localhost:8080/",
          "height": 896
        },
        "id": "9byyYLIbLK6c",
        "outputId": "507d2162-dca9-47e9-88fd-60728c18f085"
      },
      "execution_count": null,
      "outputs": [
        {
          "output_type": "execute_result",
          "data": {
            "text/plain": [
              "         cuisines  no of restaurants\n",
              "0         Chinese                 43\n",
              "1     Continental                 21\n",
              "2           Kebab                  6\n",
              "3        European                  4\n",
              "4    South Indian                  8\n",
              "5    North Indian                 60\n",
              "6         Biryani                 16\n",
              "7           Asian                 15\n",
              "8   Mediterranean                  5\n",
              "9        Desserts                 13\n",
              "10        Seafood                  4\n",
              "11      Beverages                  5\n",
              "12           Goan                  1\n",
              "13   Healthy Food                  1\n",
              "14       Lebanese                  1\n",
              "15       American                  6\n",
              "16      Ice Cream                  2\n",
              "17    Street Food                  2\n",
              "18      Fast Food                 15\n",
              "19            BBQ                  2\n",
              "20        Italian                 14\n",
              "21    Finger Food                  2\n",
              "22         Burger                  5\n",
              "23       Japanese                  2\n",
              "24          Salad                  5\n",
              "25          Sushi                  4\n",
              "26        Mexican                  1"
            ],
            "text/html": [
              "\n",
              "  <div id=\"df-74172c63-a13a-4567-8c2c-005a5c94005b\">\n",
              "    <div class=\"colab-df-container\">\n",
              "      <div>\n",
              "<style scoped>\n",
              "    .dataframe tbody tr th:only-of-type {\n",
              "        vertical-align: middle;\n",
              "    }\n",
              "\n",
              "    .dataframe tbody tr th {\n",
              "        vertical-align: top;\n",
              "    }\n",
              "\n",
              "    .dataframe thead th {\n",
              "        text-align: right;\n",
              "    }\n",
              "</style>\n",
              "<table border=\"1\" class=\"dataframe\">\n",
              "  <thead>\n",
              "    <tr style=\"text-align: right;\">\n",
              "      <th></th>\n",
              "      <th>cuisines</th>\n",
              "      <th>no of restaurants</th>\n",
              "    </tr>\n",
              "  </thead>\n",
              "  <tbody>\n",
              "    <tr>\n",
              "      <th>0</th>\n",
              "      <td>Chinese</td>\n",
              "      <td>43</td>\n",
              "    </tr>\n",
              "    <tr>\n",
              "      <th>1</th>\n",
              "      <td>Continental</td>\n",
              "      <td>21</td>\n",
              "    </tr>\n",
              "    <tr>\n",
              "      <th>2</th>\n",
              "      <td>Kebab</td>\n",
              "      <td>6</td>\n",
              "    </tr>\n",
              "    <tr>\n",
              "      <th>3</th>\n",
              "      <td>European</td>\n",
              "      <td>4</td>\n",
              "    </tr>\n",
              "    <tr>\n",
              "      <th>4</th>\n",
              "      <td>South Indian</td>\n",
              "      <td>8</td>\n",
              "    </tr>\n",
              "    <tr>\n",
              "      <th>5</th>\n",
              "      <td>North Indian</td>\n",
              "      <td>60</td>\n",
              "    </tr>\n",
              "    <tr>\n",
              "      <th>6</th>\n",
              "      <td>Biryani</td>\n",
              "      <td>16</td>\n",
              "    </tr>\n",
              "    <tr>\n",
              "      <th>7</th>\n",
              "      <td>Asian</td>\n",
              "      <td>15</td>\n",
              "    </tr>\n",
              "    <tr>\n",
              "      <th>8</th>\n",
              "      <td>Mediterranean</td>\n",
              "      <td>5</td>\n",
              "    </tr>\n",
              "    <tr>\n",
              "      <th>9</th>\n",
              "      <td>Desserts</td>\n",
              "      <td>13</td>\n",
              "    </tr>\n",
              "    <tr>\n",
              "      <th>10</th>\n",
              "      <td>Seafood</td>\n",
              "      <td>4</td>\n",
              "    </tr>\n",
              "    <tr>\n",
              "      <th>11</th>\n",
              "      <td>Beverages</td>\n",
              "      <td>5</td>\n",
              "    </tr>\n",
              "    <tr>\n",
              "      <th>12</th>\n",
              "      <td>Goan</td>\n",
              "      <td>1</td>\n",
              "    </tr>\n",
              "    <tr>\n",
              "      <th>13</th>\n",
              "      <td>Healthy Food</td>\n",
              "      <td>1</td>\n",
              "    </tr>\n",
              "    <tr>\n",
              "      <th>14</th>\n",
              "      <td>Lebanese</td>\n",
              "      <td>1</td>\n",
              "    </tr>\n",
              "    <tr>\n",
              "      <th>15</th>\n",
              "      <td>American</td>\n",
              "      <td>6</td>\n",
              "    </tr>\n",
              "    <tr>\n",
              "      <th>16</th>\n",
              "      <td>Ice Cream</td>\n",
              "      <td>2</td>\n",
              "    </tr>\n",
              "    <tr>\n",
              "      <th>17</th>\n",
              "      <td>Street Food</td>\n",
              "      <td>2</td>\n",
              "    </tr>\n",
              "    <tr>\n",
              "      <th>18</th>\n",
              "      <td>Fast Food</td>\n",
              "      <td>15</td>\n",
              "    </tr>\n",
              "    <tr>\n",
              "      <th>19</th>\n",
              "      <td>BBQ</td>\n",
              "      <td>2</td>\n",
              "    </tr>\n",
              "    <tr>\n",
              "      <th>20</th>\n",
              "      <td>Italian</td>\n",
              "      <td>14</td>\n",
              "    </tr>\n",
              "    <tr>\n",
              "      <th>21</th>\n",
              "      <td>Finger Food</td>\n",
              "      <td>2</td>\n",
              "    </tr>\n",
              "    <tr>\n",
              "      <th>22</th>\n",
              "      <td>Burger</td>\n",
              "      <td>5</td>\n",
              "    </tr>\n",
              "    <tr>\n",
              "      <th>23</th>\n",
              "      <td>Japanese</td>\n",
              "      <td>2</td>\n",
              "    </tr>\n",
              "    <tr>\n",
              "      <th>24</th>\n",
              "      <td>Salad</td>\n",
              "      <td>5</td>\n",
              "    </tr>\n",
              "    <tr>\n",
              "      <th>25</th>\n",
              "      <td>Sushi</td>\n",
              "      <td>4</td>\n",
              "    </tr>\n",
              "    <tr>\n",
              "      <th>26</th>\n",
              "      <td>Mexican</td>\n",
              "      <td>1</td>\n",
              "    </tr>\n",
              "  </tbody>\n",
              "</table>\n",
              "</div>\n",
              "      <button class=\"colab-df-convert\" onclick=\"convertToInteractive('df-74172c63-a13a-4567-8c2c-005a5c94005b')\"\n",
              "              title=\"Convert this dataframe to an interactive table.\"\n",
              "              style=\"display:none;\">\n",
              "        \n",
              "  <svg xmlns=\"http://www.w3.org/2000/svg\" height=\"24px\"viewBox=\"0 0 24 24\"\n",
              "       width=\"24px\">\n",
              "    <path d=\"M0 0h24v24H0V0z\" fill=\"none\"/>\n",
              "    <path d=\"M18.56 5.44l.94 2.06.94-2.06 2.06-.94-2.06-.94-.94-2.06-.94 2.06-2.06.94zm-11 1L8.5 8.5l.94-2.06 2.06-.94-2.06-.94L8.5 2.5l-.94 2.06-2.06.94zm10 10l.94 2.06.94-2.06 2.06-.94-2.06-.94-.94-2.06-.94 2.06-2.06.94z\"/><path d=\"M17.41 7.96l-1.37-1.37c-.4-.4-.92-.59-1.43-.59-.52 0-1.04.2-1.43.59L10.3 9.45l-7.72 7.72c-.78.78-.78 2.05 0 2.83L4 21.41c.39.39.9.59 1.41.59.51 0 1.02-.2 1.41-.59l7.78-7.78 2.81-2.81c.8-.78.8-2.07 0-2.86zM5.41 20L4 18.59l7.72-7.72 1.47 1.35L5.41 20z\"/>\n",
              "  </svg>\n",
              "      </button>\n",
              "      \n",
              "  <style>\n",
              "    .colab-df-container {\n",
              "      display:flex;\n",
              "      flex-wrap:wrap;\n",
              "      gap: 12px;\n",
              "    }\n",
              "\n",
              "    .colab-df-convert {\n",
              "      background-color: #E8F0FE;\n",
              "      border: none;\n",
              "      border-radius: 50%;\n",
              "      cursor: pointer;\n",
              "      display: none;\n",
              "      fill: #1967D2;\n",
              "      height: 32px;\n",
              "      padding: 0 0 0 0;\n",
              "      width: 32px;\n",
              "    }\n",
              "\n",
              "    .colab-df-convert:hover {\n",
              "      background-color: #E2EBFA;\n",
              "      box-shadow: 0px 1px 2px rgba(60, 64, 67, 0.3), 0px 1px 3px 1px rgba(60, 64, 67, 0.15);\n",
              "      fill: #174EA6;\n",
              "    }\n",
              "\n",
              "    [theme=dark] .colab-df-convert {\n",
              "      background-color: #3B4455;\n",
              "      fill: #D2E3FC;\n",
              "    }\n",
              "\n",
              "    [theme=dark] .colab-df-convert:hover {\n",
              "      background-color: #434B5C;\n",
              "      box-shadow: 0px 1px 3px 1px rgba(0, 0, 0, 0.15);\n",
              "      filter: drop-shadow(0px 1px 2px rgba(0, 0, 0, 0.3));\n",
              "      fill: #FFFFFF;\n",
              "    }\n",
              "  </style>\n",
              "\n",
              "      <script>\n",
              "        const buttonEl =\n",
              "          document.querySelector('#df-74172c63-a13a-4567-8c2c-005a5c94005b button.colab-df-convert');\n",
              "        buttonEl.style.display =\n",
              "          google.colab.kernel.accessAllowed ? 'block' : 'none';\n",
              "\n",
              "        async function convertToInteractive(key) {\n",
              "          const element = document.querySelector('#df-74172c63-a13a-4567-8c2c-005a5c94005b');\n",
              "          const dataTable =\n",
              "            await google.colab.kernel.invokeFunction('convertToInteractive',\n",
              "                                                     [key], {});\n",
              "          if (!dataTable) return;\n",
              "\n",
              "          const docLinkHtml = 'Like what you see? Visit the ' +\n",
              "            '<a target=\"_blank\" href=https://colab.research.google.com/notebooks/data_table.ipynb>data table notebook</a>'\n",
              "            + ' to learn more about interactive tables.';\n",
              "          element.innerHTML = '';\n",
              "          dataTable['output_type'] = 'display_data';\n",
              "          await google.colab.output.renderOutput(dataTable, element);\n",
              "          const docLink = document.createElement('div');\n",
              "          docLink.innerHTML = docLinkHtml;\n",
              "          element.appendChild(docLink);\n",
              "        }\n",
              "      </script>\n",
              "    </div>\n",
              "  </div>\n",
              "  "
            ]
          },
          "metadata": {},
          "execution_count": 19
        }
      ]
    },
    {
      "cell_type": "code",
      "source": [
        "cuis_df.sort_values(by='no of restaurants',ascending=False,inplace=True)"
      ],
      "metadata": {
        "id": "0P0huxdhUvtF"
      },
      "execution_count": null,
      "outputs": []
    },
    {
      "cell_type": "code",
      "source": [
        "cuis_df.reset_index(drop=True)"
      ],
      "metadata": {
        "colab": {
          "base_uri": "https://localhost:8080/",
          "height": 1000
        },
        "id": "Ow-adqmH83u3",
        "outputId": "ec30e93e-8d09-4c44-c309-e84792619596"
      },
      "execution_count": null,
      "outputs": [
        {
          "output_type": "execute_result",
          "data": {
            "text/plain": [
              "         cuisines  no of restaurants\n",
              "0    North Indian                 60\n",
              "1         Chinese                 43\n",
              "2     Continental                 21\n",
              "3         Biryani                 16\n",
              "4       Fast Food                 15\n",
              "5           Asian                 15\n",
              "6         Italian                 14\n",
              "7        Desserts                 13\n",
              "8    South Indian                  8\n",
              "9          Bakery                  7\n",
              "10          Kebab                  6\n",
              "11           Cafe                  6\n",
              "12        Mughlai                  6\n",
              "13       American                  6\n",
              "14         Andhra                  5\n",
              "15          Salad                  5\n",
              "16         Burger                  5\n",
              "17  Mediterranean                  5\n",
              "18      Beverages                  5\n",
              "19        Seafood                  4\n",
              "20          Momos                  4\n",
              "21       European                  4\n",
              "22     Hyderabadi                  4\n",
              "23          Sushi                  4\n",
              "24           Thai                  3\n",
              "25    Street Food                  2\n",
              "26  Modern Indian                  2\n",
              "27      Ice Cream                  2\n",
              "28        Arabian                  2\n",
              "29       Japanese                  2\n",
              "30    Finger Food                  2\n",
              "31            BBQ                  2\n",
              "32         Juices                  1\n",
              "33        Mexican                  1\n",
              "34           Goan                  1\n",
              "35   Healthy Food                  1\n",
              "36        Spanish                  1\n",
              "37          Wraps                  1\n",
              "38     Indonesian                  1\n",
              "39       Lebanese                  1\n",
              "40          Pizza                  1\n",
              "41  North Eastern                  1\n",
              "42         Mithai                  1\n",
              "43      Malaysian                  1"
            ],
            "text/html": [
              "\n",
              "  <div id=\"df-800eba40-45ed-4a71-8ec1-336f20cfd1a5\">\n",
              "    <div class=\"colab-df-container\">\n",
              "      <div>\n",
              "<style scoped>\n",
              "    .dataframe tbody tr th:only-of-type {\n",
              "        vertical-align: middle;\n",
              "    }\n",
              "\n",
              "    .dataframe tbody tr th {\n",
              "        vertical-align: top;\n",
              "    }\n",
              "\n",
              "    .dataframe thead th {\n",
              "        text-align: right;\n",
              "    }\n",
              "</style>\n",
              "<table border=\"1\" class=\"dataframe\">\n",
              "  <thead>\n",
              "    <tr style=\"text-align: right;\">\n",
              "      <th></th>\n",
              "      <th>cuisines</th>\n",
              "      <th>no of restaurants</th>\n",
              "    </tr>\n",
              "  </thead>\n",
              "  <tbody>\n",
              "    <tr>\n",
              "      <th>0</th>\n",
              "      <td>North Indian</td>\n",
              "      <td>60</td>\n",
              "    </tr>\n",
              "    <tr>\n",
              "      <th>1</th>\n",
              "      <td>Chinese</td>\n",
              "      <td>43</td>\n",
              "    </tr>\n",
              "    <tr>\n",
              "      <th>2</th>\n",
              "      <td>Continental</td>\n",
              "      <td>21</td>\n",
              "    </tr>\n",
              "    <tr>\n",
              "      <th>3</th>\n",
              "      <td>Biryani</td>\n",
              "      <td>16</td>\n",
              "    </tr>\n",
              "    <tr>\n",
              "      <th>4</th>\n",
              "      <td>Fast Food</td>\n",
              "      <td>15</td>\n",
              "    </tr>\n",
              "    <tr>\n",
              "      <th>5</th>\n",
              "      <td>Asian</td>\n",
              "      <td>15</td>\n",
              "    </tr>\n",
              "    <tr>\n",
              "      <th>6</th>\n",
              "      <td>Italian</td>\n",
              "      <td>14</td>\n",
              "    </tr>\n",
              "    <tr>\n",
              "      <th>7</th>\n",
              "      <td>Desserts</td>\n",
              "      <td>13</td>\n",
              "    </tr>\n",
              "    <tr>\n",
              "      <th>8</th>\n",
              "      <td>South Indian</td>\n",
              "      <td>8</td>\n",
              "    </tr>\n",
              "    <tr>\n",
              "      <th>9</th>\n",
              "      <td>Bakery</td>\n",
              "      <td>7</td>\n",
              "    </tr>\n",
              "    <tr>\n",
              "      <th>10</th>\n",
              "      <td>Kebab</td>\n",
              "      <td>6</td>\n",
              "    </tr>\n",
              "    <tr>\n",
              "      <th>11</th>\n",
              "      <td>Cafe</td>\n",
              "      <td>6</td>\n",
              "    </tr>\n",
              "    <tr>\n",
              "      <th>12</th>\n",
              "      <td>Mughlai</td>\n",
              "      <td>6</td>\n",
              "    </tr>\n",
              "    <tr>\n",
              "      <th>13</th>\n",
              "      <td>American</td>\n",
              "      <td>6</td>\n",
              "    </tr>\n",
              "    <tr>\n",
              "      <th>14</th>\n",
              "      <td>Andhra</td>\n",
              "      <td>5</td>\n",
              "    </tr>\n",
              "    <tr>\n",
              "      <th>15</th>\n",
              "      <td>Salad</td>\n",
              "      <td>5</td>\n",
              "    </tr>\n",
              "    <tr>\n",
              "      <th>16</th>\n",
              "      <td>Burger</td>\n",
              "      <td>5</td>\n",
              "    </tr>\n",
              "    <tr>\n",
              "      <th>17</th>\n",
              "      <td>Mediterranean</td>\n",
              "      <td>5</td>\n",
              "    </tr>\n",
              "    <tr>\n",
              "      <th>18</th>\n",
              "      <td>Beverages</td>\n",
              "      <td>5</td>\n",
              "    </tr>\n",
              "    <tr>\n",
              "      <th>19</th>\n",
              "      <td>Seafood</td>\n",
              "      <td>4</td>\n",
              "    </tr>\n",
              "    <tr>\n",
              "      <th>20</th>\n",
              "      <td>Momos</td>\n",
              "      <td>4</td>\n",
              "    </tr>\n",
              "    <tr>\n",
              "      <th>21</th>\n",
              "      <td>European</td>\n",
              "      <td>4</td>\n",
              "    </tr>\n",
              "    <tr>\n",
              "      <th>22</th>\n",
              "      <td>Hyderabadi</td>\n",
              "      <td>4</td>\n",
              "    </tr>\n",
              "    <tr>\n",
              "      <th>23</th>\n",
              "      <td>Sushi</td>\n",
              "      <td>4</td>\n",
              "    </tr>\n",
              "    <tr>\n",
              "      <th>24</th>\n",
              "      <td>Thai</td>\n",
              "      <td>3</td>\n",
              "    </tr>\n",
              "    <tr>\n",
              "      <th>25</th>\n",
              "      <td>Street Food</td>\n",
              "      <td>2</td>\n",
              "    </tr>\n",
              "    <tr>\n",
              "      <th>26</th>\n",
              "      <td>Modern Indian</td>\n",
              "      <td>2</td>\n",
              "    </tr>\n",
              "    <tr>\n",
              "      <th>27</th>\n",
              "      <td>Ice Cream</td>\n",
              "      <td>2</td>\n",
              "    </tr>\n",
              "    <tr>\n",
              "      <th>28</th>\n",
              "      <td>Arabian</td>\n",
              "      <td>2</td>\n",
              "    </tr>\n",
              "    <tr>\n",
              "      <th>29</th>\n",
              "      <td>Japanese</td>\n",
              "      <td>2</td>\n",
              "    </tr>\n",
              "    <tr>\n",
              "      <th>30</th>\n",
              "      <td>Finger Food</td>\n",
              "      <td>2</td>\n",
              "    </tr>\n",
              "    <tr>\n",
              "      <th>31</th>\n",
              "      <td>BBQ</td>\n",
              "      <td>2</td>\n",
              "    </tr>\n",
              "    <tr>\n",
              "      <th>32</th>\n",
              "      <td>Juices</td>\n",
              "      <td>1</td>\n",
              "    </tr>\n",
              "    <tr>\n",
              "      <th>33</th>\n",
              "      <td>Mexican</td>\n",
              "      <td>1</td>\n",
              "    </tr>\n",
              "    <tr>\n",
              "      <th>34</th>\n",
              "      <td>Goan</td>\n",
              "      <td>1</td>\n",
              "    </tr>\n",
              "    <tr>\n",
              "      <th>35</th>\n",
              "      <td>Healthy Food</td>\n",
              "      <td>1</td>\n",
              "    </tr>\n",
              "    <tr>\n",
              "      <th>36</th>\n",
              "      <td>Spanish</td>\n",
              "      <td>1</td>\n",
              "    </tr>\n",
              "    <tr>\n",
              "      <th>37</th>\n",
              "      <td>Wraps</td>\n",
              "      <td>1</td>\n",
              "    </tr>\n",
              "    <tr>\n",
              "      <th>38</th>\n",
              "      <td>Indonesian</td>\n",
              "      <td>1</td>\n",
              "    </tr>\n",
              "    <tr>\n",
              "      <th>39</th>\n",
              "      <td>Lebanese</td>\n",
              "      <td>1</td>\n",
              "    </tr>\n",
              "    <tr>\n",
              "      <th>40</th>\n",
              "      <td>Pizza</td>\n",
              "      <td>1</td>\n",
              "    </tr>\n",
              "    <tr>\n",
              "      <th>41</th>\n",
              "      <td>North Eastern</td>\n",
              "      <td>1</td>\n",
              "    </tr>\n",
              "    <tr>\n",
              "      <th>42</th>\n",
              "      <td>Mithai</td>\n",
              "      <td>1</td>\n",
              "    </tr>\n",
              "    <tr>\n",
              "      <th>43</th>\n",
              "      <td>Malaysian</td>\n",
              "      <td>1</td>\n",
              "    </tr>\n",
              "  </tbody>\n",
              "</table>\n",
              "</div>\n",
              "      <button class=\"colab-df-convert\" onclick=\"convertToInteractive('df-800eba40-45ed-4a71-8ec1-336f20cfd1a5')\"\n",
              "              title=\"Convert this dataframe to an interactive table.\"\n",
              "              style=\"display:none;\">\n",
              "        \n",
              "  <svg xmlns=\"http://www.w3.org/2000/svg\" height=\"24px\"viewBox=\"0 0 24 24\"\n",
              "       width=\"24px\">\n",
              "    <path d=\"M0 0h24v24H0V0z\" fill=\"none\"/>\n",
              "    <path d=\"M18.56 5.44l.94 2.06.94-2.06 2.06-.94-2.06-.94-.94-2.06-.94 2.06-2.06.94zm-11 1L8.5 8.5l.94-2.06 2.06-.94-2.06-.94L8.5 2.5l-.94 2.06-2.06.94zm10 10l.94 2.06.94-2.06 2.06-.94-2.06-.94-.94-2.06-.94 2.06-2.06.94z\"/><path d=\"M17.41 7.96l-1.37-1.37c-.4-.4-.92-.59-1.43-.59-.52 0-1.04.2-1.43.59L10.3 9.45l-7.72 7.72c-.78.78-.78 2.05 0 2.83L4 21.41c.39.39.9.59 1.41.59.51 0 1.02-.2 1.41-.59l7.78-7.78 2.81-2.81c.8-.78.8-2.07 0-2.86zM5.41 20L4 18.59l7.72-7.72 1.47 1.35L5.41 20z\"/>\n",
              "  </svg>\n",
              "      </button>\n",
              "      \n",
              "  <style>\n",
              "    .colab-df-container {\n",
              "      display:flex;\n",
              "      flex-wrap:wrap;\n",
              "      gap: 12px;\n",
              "    }\n",
              "\n",
              "    .colab-df-convert {\n",
              "      background-color: #E8F0FE;\n",
              "      border: none;\n",
              "      border-radius: 50%;\n",
              "      cursor: pointer;\n",
              "      display: none;\n",
              "      fill: #1967D2;\n",
              "      height: 32px;\n",
              "      padding: 0 0 0 0;\n",
              "      width: 32px;\n",
              "    }\n",
              "\n",
              "    .colab-df-convert:hover {\n",
              "      background-color: #E2EBFA;\n",
              "      box-shadow: 0px 1px 2px rgba(60, 64, 67, 0.3), 0px 1px 3px 1px rgba(60, 64, 67, 0.15);\n",
              "      fill: #174EA6;\n",
              "    }\n",
              "\n",
              "    [theme=dark] .colab-df-convert {\n",
              "      background-color: #3B4455;\n",
              "      fill: #D2E3FC;\n",
              "    }\n",
              "\n",
              "    [theme=dark] .colab-df-convert:hover {\n",
              "      background-color: #434B5C;\n",
              "      box-shadow: 0px 1px 3px 1px rgba(0, 0, 0, 0.15);\n",
              "      filter: drop-shadow(0px 1px 2px rgba(0, 0, 0, 0.3));\n",
              "      fill: #FFFFFF;\n",
              "    }\n",
              "  </style>\n",
              "\n",
              "      <script>\n",
              "        const buttonEl =\n",
              "          document.querySelector('#df-800eba40-45ed-4a71-8ec1-336f20cfd1a5 button.colab-df-convert');\n",
              "        buttonEl.style.display =\n",
              "          google.colab.kernel.accessAllowed ? 'block' : 'none';\n",
              "\n",
              "        async function convertToInteractive(key) {\n",
              "          const element = document.querySelector('#df-800eba40-45ed-4a71-8ec1-336f20cfd1a5');\n",
              "          const dataTable =\n",
              "            await google.colab.kernel.invokeFunction('convertToInteractive',\n",
              "                                                     [key], {});\n",
              "          if (!dataTable) return;\n",
              "\n",
              "          const docLinkHtml = 'Like what you see? Visit the ' +\n",
              "            '<a target=\"_blank\" href=https://colab.research.google.com/notebooks/data_table.ipynb>data table notebook</a>'\n",
              "            + ' to learn more about interactive tables.';\n",
              "          element.innerHTML = '';\n",
              "          dataTable['output_type'] = 'display_data';\n",
              "          await google.colab.output.renderOutput(dataTable, element);\n",
              "          const docLink = document.createElement('div');\n",
              "          docLink.innerHTML = docLinkHtml;\n",
              "          element.appendChild(docLink);\n",
              "        }\n",
              "      </script>\n",
              "    </div>\n",
              "  </div>\n",
              "  "
            ]
          },
          "metadata": {},
          "execution_count": 21
        }
      ]
    },
    {
      "cell_type": "code",
      "source": [
        "print('Top 10 Cuisines:\\n',cuis_df[0:10])"
      ],
      "metadata": {
        "colab": {
          "base_uri": "https://localhost:8080/"
        },
        "id": "JOIotjCzdU_y",
        "outputId": "4d78f252-a22a-425f-cce3-2cca9ef3284c"
      },
      "execution_count": null,
      "outputs": [
        {
          "output_type": "stream",
          "name": "stdout",
          "text": [
            "Top 10 Cuisines:\n",
            "         cuisines  no of restaurants\n",
            "5   North Indian                 60\n",
            "0        Chinese                 43\n",
            "1    Continental                 21\n",
            "6        Biryani                 16\n",
            "18     Fast Food                 15\n",
            "7          Asian                 15\n",
            "20       Italian                 14\n",
            "9       Desserts                 13\n",
            "4   South Indian                  8\n",
            "28        Bakery                  7\n"
          ]
        }
      ]
    },
    {
      "cell_type": "code",
      "source": [
        "plt.rcParams['figure.figsize']=(10,8)\n",
        "sns.barplot(y='cuisines',x='no of restaurants',data=cuis_df)\n",
        "plt.title('Cuisines served by Restaurants')"
      ],
      "metadata": {
        "colab": {
          "base_uri": "https://localhost:8080/",
          "height": 516
        },
        "id": "nx4pVE137W3p",
        "outputId": "e9fff4e2-cc70-4967-e34b-3a8bda34f651"
      },
      "execution_count": null,
      "outputs": [
        {
          "output_type": "execute_result",
          "data": {
            "text/plain": [
              "Text(0.5, 1.0, 'Cuisines served by Restaurants')"
            ]
          },
          "metadata": {},
          "execution_count": 23
        },
        {
          "output_type": "display_data",
          "data": {
            "text/plain": [
              "<Figure size 720x576 with 1 Axes>"
            ],
            "image/png": "[encoded data removed]"
          },
          "metadata": {
            "needs_background": "light"
          }
        }
      ]
    },
    {
      "cell_type": "code",
      "source": [
        "df.columns"
      ],
      "metadata": {
        "colab": {
          "base_uri": "https://localhost:8080/"
        },
        "id": "F67UivHSGTWZ",
        "outputId": "0072b2a1-bfe3-46d1-b1f8-c67f99f0bd6a"
      },
      "execution_count": null,
      "outputs": [
        {
          "output_type": "execute_result",
          "data": {
            "text/plain": [
              "Index(['Name', 'Cost', 'Cuisines', 'Timings'], dtype='object')"
            ]
          },
          "metadata": {},
          "execution_count": 24
        }
      ]
    },
    {
      "cell_type": "code",
      "source": [
        "high_cost_rest=df[['Name','Cost']].sort_values(by='Cost',ascending=False).head(10)\n",
        "low_cost_rest=df[['Name','Cost']].sort_values(by='Cost',ascending=True).head(10)\n",
        "# df.groupby(['Name'])['Cost'].sum().sort_values(ascending=False)"
      ],
      "metadata": {
        "id": "tbMCG4HLDjZH"
      },
      "execution_count": null,
      "outputs": []
    },
    {
      "cell_type": "code",
      "source": [
        "plt.figure(figsize=(12,8))\n",
        "sns.barplot(y='Name',x='Cost',data=high_cost_rest,palette='Spectral')\n",
        "plt.title('Top 10 costly restaurants')\n",
        "plt.ylabel('Restaurant Name')"
      ],
      "metadata": {
        "colab": {
          "base_uri": "https://localhost:8080/",
          "height": 371
        },
        "id": "pArnDk7-I-Ab",
        "outputId": "836ef98d-51b4-45ba-ea10-58f55555498e"
      },
      "execution_count": null,
      "outputs": [
        {
          "output_type": "execute_result",
          "data": {
            "text/plain": [
              "Text(0, 0.5, 'Restaurant Name')"
            ]
          },
          "metadata": {},
          "execution_count": 26
        },
        {
          "output_type": "display_data",
          "data": {
            "text/plain": [
              "<Figure size 864x576 with 1 Axes>"
            ],
            "image/png": "[encoded data removed]"
          },
          "metadata": {
            "needs_background": "light"
          }
        }
      ]
    },
    {
      "cell_type": "code",
      "source": [
        "sns.barplot(y='Name',x='Cost',data=low_cost_rest,palette='rocket')\n",
        "plt.title('Top 10 cheapest restaurants')\n",
        "plt.ylabel('Restaurant Name')"
      ],
      "metadata": {
        "colab": {
          "base_uri": "https://localhost:8080/",
          "height": 472
        },
        "id": "-N3R0hUqJN68",
        "outputId": "6f979f2f-0e71-41d4-f0c2-2faab888a52d"
      },
      "execution_count": null,
      "outputs": [
        {
          "output_type": "execute_result",
          "data": {
            "text/plain": [
              "Text(0, 0.5, 'Restaurant Name')"
            ]
          },
          "metadata": {},
          "execution_count": 27
        },
        {
          "output_type": "display_data",
          "data": {
            "text/plain": [
              "<Figure size 720x576 with 1 Axes>"
            ],
            "image/png": "[encoded data removed]"
          },
          "metadata": {
            "needs_background": "light"
          }
        }
      ]
    },
    {
      "cell_type": "code",
      "source": [
        "df.Timings.unique()"
      ],
      "metadata": {
        "colab": {
          "base_uri": "https://localhost:8080/"
        },
        "id": "UKui2qVK_GRJ",
        "outputId": "a5741b2b-a7a5-4bb4-c644-627d35dd00f2"
      },
      "execution_count": null,
      "outputs": [
        {
          "output_type": "execute_result",
          "data": {
            "text/plain": [
              "array(['12noon to 3:30pm, 6:30pm to 11:30pm (Mon-Sun)', '11 AM to 11 PM',\n",
              "       '11:30 AM to 4:30 PM, 6:30 PM to 11 PM', '12 Noon to 2 AM',\n",
              "       '12noon to 11pm (Mon, Tue, Wed, Thu, Sun), 12noon to 12midnight (Fri-Sat)',\n",
              "       '12Noon to 3:30PM, 4PM to 6:30PM, 7PM to 11:30PM (Mon, Tue, Wed, Thu, Sun), 12Noon to 3:30PM, 4PM to 6:30PM, 7PM to 12Midnight (Fri-Sat)',\n",
              "       '7 AM to 10 PM', '12 Noon to 12 Midnight',\n",
              "       '10 AM to 1 AM (Mon-Thu), 10 AM to 1:30 AM (Fri-Sun)',\n",
              "       '12 Noon to 3:30 PM, 7 PM to 10:30 PM',\n",
              "       '12 Noon to 3:30 PM, 6:30 PM to 11:30 PM', '11:30 AM to 1 AM',\n",
              "       '12noon to 12midnight (Mon-Sun)',\n",
              "       '12 Noon to 4:30 PM, 6:30 PM to 11:30 PM', '12 Noon to 10:30 PM',\n",
              "       '12 Noon to 11 PM', '12:30 PM to 10 PM (Tue-Sun), Mon Closed',\n",
              "       '11:30 AM to 3 PM, 7 PM to 11 PM',\n",
              "       '11am to 11:30pm (Mon, Tue, Wed, Thu, Sun), 11am to 12midnight (Fri-Sat)',\n",
              "       '10 AM to 5 AM',\n",
              "       '12 Noon to 12 Midnight (Mon-Thu, Sun), 12 Noon to 1 AM (Fri-Sat)',\n",
              "       '12Noon to 11PM (Mon-Thu),12Noon to 11:30PM (Fri-Sun)',\n",
              "       '12 Noon to 11:30 PM (Mon-Wed), 12 Noon to 1 AM (Fri-Sat), 12 Noon to 12 Midnight (Sun), Thu Closed',\n",
              "       '12 Noon to 4 PM, 6:30 PM to 11:30 PM', '10 AM to 1 AM',\n",
              "       '4:30 PM to 5:30 AM', '11 AM to 12 Midnight',\n",
              "       '12noon to 4pm, 7pm to 12midnight (Mon-Sun)',\n",
              "       '6am to 12midnight (Mon-Sun)',\n",
              "       '12:30 PM to 3:30 PM, 7 PM to 10:40 PM',\n",
              "       '12 Noon to 4 PM, 7 PM to 11 PM', '12noon to 11pm (Mon-Sun)',\n",
              "       '10 AM to 10 PM', '7 AM to 1 AM', '12 Noon to 11:30 PM',\n",
              "       '12Noon to 11:30PM (Mon-Sun)', '6 AM to 10:30 PM',\n",
              "       '11:30 AM to 3:30 PM, 6:45 PM to 11:30 PM',\n",
              "       '11:55 AM to 4 PM, 7 PM to 11:15 PM',\n",
              "       '12noon to 4:30pm, 6:30pm to 11:30pm (Mon, Tue, Wed, Fri, Sat), Closed (Thu),12noon to 12midnight (Sun)',\n",
              "       '12noon to 12midnight (Mon, Tue, Wed, Thu, Sun), 12noon to 1am (Fri-Sat)',\n",
              "       '8 AM to 11:30 PM',\n",
              "       '6:30am to 10:30am, 12:30pm to 3pm, 7pm to 11pm (Mon),6:30am to 10:30am, 12:30pm to 3pm, 7:30pm to 11pm (Tue-Sat),6:30am to 10:30am, 12:30pm to 3:30pm, 7pm to 11pm (Sun)',\n",
              "       '12 Noon to 3 PM, 7 PM to 11:30 PM', '9 AM to 10 PM',\n",
              "       '5pm to 12midnight (Mon-Sun)', '11 AM to 11:30 PM',\n",
              "       '11:30AM to 11PM (Mon-Sun)', '1 PM to 11 PM',\n",
              "       '11:30 AM to 12 Midnight', '12 Noon to 3 PM, 7 PM to 11 PM',\n",
              "       '11 AM to 8 PM (Mon-Sat), Sun Closed', '4 AM to 12 Midnight',\n",
              "       '9 AM to 1 AM', '10:30 AM to 11 PM', '7 AM to 11 PM',\n",
              "       '7 AM to 10:30 AM, 12:30 PM to 3:30 PM, 7 PM to 11 PM',\n",
              "       '12 Noon to 3:30 PM, 7 PM to 11:30 PM',\n",
              "       '12 Noon to 3:30 PM, 7 PM to 11 PM', '11am to 11pm (Mon-Sun)',\n",
              "       '6 AM to 11:30 PM', '11:30 AM to 5 AM',\n",
              "       '12:30 PM to 3:30 PM, 7 PM to 11 PM', '6pm to 2am (Mon-Sun)',\n",
              "       '10 AM to 12 Midnight', '12 Noon to 4 AM', '1 PM to 1 AM',\n",
              "       '24 Hours', '24 Hours (Mon-Sun)',\n",
              "       '11:30 AM to 4 PM, 7 PM to 11 PM', '10 AM to 11 PM',\n",
              "       '1 PM to 2 AM (Mon, Wed-Sun), Tue Closed',\n",
              "       '12:30pm to 11:30pm (Mon-Sun)', '12Noon to 2AM (Mon-Sun)',\n",
              "       '10 AM to 10 PM (Mon-Thu), 8 AM to 10:30 PM (Fri-Sun)',\n",
              "       '8am to 12:30AM (Mon-Sun)',\n",
              "       '11:30 AM to 3 PM, 7 PM to 12 Midnight'], dtype=object)"
            ]
          },
          "metadata": {},
          "execution_count": 28
        }
      ]
    },
    {
      "cell_type": "code",
      "source": [
        "df.drop('Timings',axis='columns',inplace=True)"
      ],
      "metadata": {
        "id": "nACKLOBvFnoS"
      },
      "execution_count": null,
      "outputs": []
    },
    {
      "cell_type": "code",
      "source": [
        "df.info()"
      ],
      "metadata": {
        "colab": {
          "base_uri": "https://localhost:8080/"
        },
        "id": "iIXkaDbrF_t8",
        "outputId": "4e5fcf02-eba3-44d3-8f33-13a7745511a0"
      },
      "execution_count": null,
      "outputs": [
        {
          "output_type": "stream",
          "name": "stdout",
          "text": [
            "<class 'pandas.core.frame.DataFrame'>\n",
            "Int64Index: 104 entries, 0 to 104\n",
            "Data columns (total 3 columns):\n",
            " #   Column    Non-Null Count  Dtype \n",
            "---  ------    --------------  ----- \n",
            " 0   Name      104 non-null    object\n",
            " 1   Cost      104 non-null    int64 \n",
            " 2   Cuisines  104 non-null    object\n",
            "dtypes: int64(1), object(2)\n",
            "memory usage: 3.2+ KB\n"
          ]
        }
      ]
    },
    {
      "cell_type": "code",
      "source": [
        "no_of_cuisines=[]\n",
        "for names in cuis:\n",
        "  no_of_cuisines.append(len(names))\n",
        "print(no_of_cuisines)"
      ],
      "metadata": {
        "colab": {
          "base_uri": "https://localhost:8080/"
        },
        "id": "eDHB4tqW2EiE",
        "outputId": "02669f9e-6f18-4a28-8868-8a427f007ade"
      },
      "execution_count": null,
      "outputs": [
        {
          "output_type": "stream",
          "name": "stdout",
          "text": [
            "[6, 3, 4, 5, 5, 5, 4, 1, 5, 2, 3, 4, 3, 3, 3, 2, 1, 2, 3, 3, 1, 5, 1, 2, 3, 1, 5, 3, 2, 1, 5, 3, 2, 4, 3, 5, 4, 4, 3, 4, 3, 3, 3, 4, 4, 3, 4, 3, 3, 2, 3, 3, 3, 1, 2, 4, 2, 2, 3, 4, 4, 3, 3, 2, 4, 4, 2, 3, 3, 5, 3, 2, 3, 3, 2, 1, 4, 2, 4, 3, 2, 5, 2, 4, 1, 2, 4, 2, 2, 1, 4, 5, 2, 5, 2, 3, 2, 1, 2, 2, 2, 3, 1, 4]\n"
          ]
        }
      ]
    },
    {
      "cell_type": "code",
      "source": [
        "df.columns"
      ],
      "metadata": {
        "colab": {
          "base_uri": "https://localhost:8080/"
        },
        "id": "zaeHOkYF6aao",
        "outputId": "8264fa12-5d97-46d8-b582-edde58de447e"
      },
      "execution_count": null,
      "outputs": [
        {
          "output_type": "execute_result",
          "data": {
            "text/plain": [
              "Index(['Name', 'Cost', 'Cuisines'], dtype='object')"
            ]
          },
          "metadata": {},
          "execution_count": 32
        }
      ]
    },
    {
      "cell_type": "code",
      "source": [
        "df['no of cuisnes']=no_of_cuisines\n",
        "df.drop('Cuisines',axis='columns',inplace=True)"
      ],
      "metadata": {
        "id": "Mf7_ZMxP5eEc"
      },
      "execution_count": null,
      "outputs": []
    },
    {
      "cell_type": "code",
      "source": [
        "df.head(2)"
      ],
      "metadata": {
        "colab": {
          "base_uri": "https://localhost:8080/",
          "height": 112
        },
        "id": "KB0M9a4D6kO8",
        "outputId": "e4fa938d-b4d6-4e3e-ac2d-893f6a7276c0"
      },
      "execution_count": null,
      "outputs": [
        {
          "output_type": "execute_result",
          "data": {
            "text/plain": [
              "              Name  Cost  no of cuisnes\n",
              "0  Beyond Flavours   800              6\n",
              "1         Paradise   800              3"
            ],
            "text/html": [
              "\n",
              "  <div id=\"df-0c7ed9d8-bbe7-473c-9b59-0634a8d0de01\">\n",
              "    <div class=\"colab-df-container\">\n",
              "      <div>\n",
              "<style scoped>\n",
              "    .dataframe tbody tr th:only-of-type {\n",
              "        vertical-align: middle;\n",
              "    }\n",
              "\n",
              "    .dataframe tbody tr th {\n",
              "        vertical-align: top;\n",
              "    }\n",
              "\n",
              "    .dataframe thead th {\n",
              "        text-align: right;\n",
              "    }\n",
              "</style>\n",
              "<table border=\"1\" class=\"dataframe\">\n",
              "  <thead>\n",
              "    <tr style=\"text-align: right;\">\n",
              "      <th></th>\n",
              "      <th>Name</th>\n",
              "      <th>Cost</th>\n",
              "      <th>no of cuisnes</th>\n",
              "    </tr>\n",
              "  </thead>\n",
              "  <tbody>\n",
              "    <tr>\n",
              "      <th>0</th>\n",
              "      <td>Beyond Flavours</td>\n",
              "      <td>800</td>\n",
              "      <td>6</td>\n",
              "    </tr>\n",
              "    <tr>\n",
              "      <th>1</th>\n",
              "      <td>Paradise</td>\n",
              "      <td>800</td>\n",
              "      <td>3</td>\n",
              "    </tr>\n",
              "  </tbody>\n",
              "</table>\n",
              "</div>\n",
              "      <button class=\"colab-df-convert\" onclick=\"convertToInteractive('df-0c7ed9d8-bbe7-473c-9b59-0634a8d0de01')\"\n",
              "              title=\"Convert this dataframe to an interactive table.\"\n",
              "              style=\"display:none;\">\n",
              "        \n",
              "  <svg xmlns=\"http://www.w3.org/2000/svg\" height=\"24px\"viewBox=\"0 0 24 24\"\n",
              "       width=\"24px\">\n",
              "    <path d=\"M0 0h24v24H0V0z\" fill=\"none\"/>\n",
              "    <path d=\"M18.56 5.44l.94 2.06.94-2.06 2.06-.94-2.06-.94-.94-2.06-.94 2.06-2.06.94zm-11 1L8.5 8.5l.94-2.06 2.06-.94-2.06-.94L8.5 2.5l-.94 2.06-2.06.94zm10 10l.94 2.06.94-2.06 2.06-.94-2.06-.94-.94-2.06-.94 2.06-2.06.94z\"/><path d=\"M17.41 7.96l-1.37-1.37c-.4-.4-.92-.59-1.43-.59-.52 0-1.04.2-1.43.59L10.3 9.45l-7.72 7.72c-.78.78-.78 2.05 0 2.83L4 21.41c.39.39.9.59 1.41.59.51 0 1.02-.2 1.41-.59l7.78-7.78 2.81-2.81c.8-.78.8-2.07 0-2.86zM5.41 20L4 18.59l7.72-7.72 1.47 1.35L5.41 20z\"/>\n",
              "  </svg>\n",
              "      </button>\n",
              "      \n",
              "  <style>\n",
              "    .colab-df-container {\n",
              "      display:flex;\n",
              "      flex-wrap:wrap;\n",
              "      gap: 12px;\n",
              "    }\n",
              "\n",
              "    .colab-df-convert {\n",
              "      background-color: #E8F0FE;\n",
              "      border: none;\n",
              "      border-radius: 50%;\n",
              "      cursor: pointer;\n",
              "      display: none;\n",
              "      fill: #1967D2;\n",
              "      height: 32px;\n",
              "      padding: 0 0 0 0;\n",
              "      width: 32px;\n",
              "    }\n",
              "\n",
              "    .colab-df-convert:hover {\n",
              "      background-color: #E2EBFA;\n",
              "      box-shadow: 0px 1px 2px rgba(60, 64, 67, 0.3), 0px 1px 3px 1px rgba(60, 64, 67, 0.15);\n",
              "      fill: #174EA6;\n",
              "    }\n",
              "\n",
              "    [theme=dark] .colab-df-convert {\n",
              "      background-color: #3B4455;\n",
              "      fill: #D2E3FC;\n",
              "    }\n",
              "\n",
              "    [theme=dark] .colab-df-convert:hover {\n",
              "      background-color: #434B5C;\n",
              "      box-shadow: 0px 1px 3px 1px rgba(0, 0, 0, 0.15);\n",
              "      filter: drop-shadow(0px 1px 2px rgba(0, 0, 0, 0.3));\n",
              "      fill: #FFFFFF;\n",
              "    }\n",
              "  </style>\n",
              "\n",
              "      <script>\n",
              "        const buttonEl =\n",
              "          document.querySelector('#df-0c7ed9d8-bbe7-473c-9b59-0634a8d0de01 button.colab-df-convert');\n",
              "        buttonEl.style.display =\n",
              "          google.colab.kernel.accessAllowed ? 'block' : 'none';\n",
              "\n",
              "        async function convertToInteractive(key) {\n",
              "          const element = document.querySelector('#df-0c7ed9d8-bbe7-473c-9b59-0634a8d0de01');\n",
              "          const dataTable =\n",
              "            await google.colab.kernel.invokeFunction('convertToInteractive',\n",
              "                                                     [key], {});\n",
              "          if (!dataTable) return;\n",
              "\n",
              "          const docLinkHtml = 'Like what you see? Visit the ' +\n",
              "            '<a target=\"_blank\" href=https://colab.research.google.com/notebooks/data_table.ipynb>data table notebook</a>'\n",
              "            + ' to learn more about interactive tables.';\n",
              "          element.innerHTML = '';\n",
              "          dataTable['output_type'] = 'display_data';\n",
              "          await google.colab.output.renderOutput(dataTable, element);\n",
              "          const docLink = document.createElement('div');\n",
              "          docLink.innerHTML = docLinkHtml;\n",
              "          element.appendChild(docLink);\n",
              "        }\n",
              "      </script>\n",
              "    </div>\n",
              "  </div>\n",
              "  "
            ]
          },
          "metadata": {},
          "execution_count": 34
        }
      ]
    },
    {
      "cell_type": "code",
      "source": [
        "df1=pd.read_csv('/content/drive/MyDrive/Colab Notebooks/Capstone project4- Unsupervised/Zomato Restaurant reviews.csv')"
      ],
      "metadata": {
        "id": "1qRHLN79Ovz1"
      },
      "execution_count": null,
      "outputs": []
    },
    {
      "cell_type": "code",
      "source": [
        "df1.head(2)"
      ],
      "metadata": {
        "colab": {
          "base_uri": "https://localhost:8080/",
          "height": 260
        },
        "id": "s-_bm-M8TlzN",
        "outputId": "8d9bcfda-ce1b-44c0-873a-b70950d32e47"
      },
      "execution_count": null,
      "outputs": [
        {
          "output_type": "execute_result",
          "data": {
            "text/plain": [
              "        Restaurant              Reviewer  \\\n",
              "0  Beyond Flavours     Rusha Chakraborty   \n",
              "1  Beyond Flavours  Anusha Tirumalaneedi   \n",
              "\n",
              "                                              Review Rating  \\\n",
              "0  The ambience was good, food was quite good . h...      5   \n",
              "1  Ambience is too good for a pleasant evening. S...      5   \n",
              "\n",
              "                  Metadata             Time  Pictures  \n",
              "0   1 Review , 2 Followers  5/25/2019 15:54         0  \n",
              "1  3 Reviews , 2 Followers  5/25/2019 14:20         0  "
            ],
            "text/html": [
              "\n",
              "  <div id=\"df-4184b296-feb2-4feb-851e-36b9378e99bc\">\n",
              "    <div class=\"colab-df-container\">\n",
              "      <div>\n",
              "<style scoped>\n",
              "    .dataframe tbody tr th:only-of-type {\n",
              "        vertical-align: middle;\n",
              "    }\n",
              "\n",
              "    .dataframe tbody tr th {\n",
              "        vertical-align: top;\n",
              "    }\n",
              "\n",
              "    .dataframe thead th {\n",
              "        text-align: right;\n",
              "    }\n",
              "</style>\n",
              "<table border=\"1\" class=\"dataframe\">\n",
              "  <thead>\n",
              "    <tr style=\"text-align: right;\">\n",
              "      <th></th>\n",
              "      <th>Restaurant</th>\n",
              "      <th>Reviewer</th>\n",
              "      <th>Review</th>\n",
              "      <th>Rating</th>\n",
              "      <th>Metadata</th>\n",
              "      <th>Time</th>\n",
              "      <th>Pictures</th>\n",
              "    </tr>\n",
              "  </thead>\n",
              "  <tbody>\n",
              "    <tr>\n",
              "      <th>0</th>\n",
              "      <td>Beyond Flavours</td>\n",
              "      <td>Rusha Chakraborty</td>\n",
              "      <td>The ambience was good, food was quite good . h...</td>\n",
              "      <td>5</td>\n",
              "      <td>1 Review , 2 Followers</td>\n",
              "      <td>5/25/2019 15:54</td>\n",
              "      <td>0</td>\n",
              "    </tr>\n",
              "    <tr>\n",
              "      <th>1</th>\n",
              "      <td>Beyond Flavours</td>\n",
              "      <td>Anusha Tirumalaneedi</td>\n",
              "      <td>Ambience is too good for a pleasant evening. S...</td>\n",
              "      <td>5</td>\n",
              "      <td>3 Reviews , 2 Followers</td>\n",
              "      <td>5/25/2019 14:20</td>\n",
              "      <td>0</td>\n",
              "    </tr>\n",
              "  </tbody>\n",
              "</table>\n",
              "</div>\n",
              "      <button class=\"colab-df-convert\" onclick=\"convertToInteractive('df-4184b296-feb2-4feb-851e-36b9378e99bc')\"\n",
              "              title=\"Convert this dataframe to an interactive table.\"\n",
              "              style=\"display:none;\">\n",
              "        \n",
              "  <svg xmlns=\"http://www.w3.org/2000/svg\" height=\"24px\"viewBox=\"0 0 24 24\"\n",
              "       width=\"24px\">\n",
              "    <path d=\"M0 0h24v24H0V0z\" fill=\"none\"/>\n",
              "    <path d=\"M18.56 5.44l.94 2.06.94-2.06 2.06-.94-2.06-.94-.94-2.06-.94 2.06-2.06.94zm-11 1L8.5 8.5l.94-2.06 2.06-.94-2.06-.94L8.5 2.5l-.94 2.06-2.06.94zm10 10l.94 2.06.94-2.06 2.06-.94-2.06-.94-.94-2.06-.94 2.06-2.06.94z\"/><path d=\"M17.41 7.96l-1.37-1.37c-.4-.4-.92-.59-1.43-.59-.52 0-1.04.2-1.43.59L10.3 9.45l-7.72 7.72c-.78.78-.78 2.05 0 2.83L4 21.41c.39.39.9.59 1.41.59.51 0 1.02-.2 1.41-.59l7.78-7.78 2.81-2.81c.8-.78.8-2.07 0-2.86zM5.41 20L4 18.59l7.72-7.72 1.47 1.35L5.41 20z\"/>\n",
              "  </svg>\n",
              "      </button>\n",
              "      \n",
              "  <style>\n",
              "    .colab-df-container {\n",
              "      display:flex;\n",
              "      flex-wrap:wrap;\n",
              "      gap: 12px;\n",
              "    }\n",
              "\n",
              "    .colab-df-convert {\n",
              "      background-color: #E8F0FE;\n",
              "      border: none;\n",
              "      border-radius: 50%;\n",
              "      cursor: pointer;\n",
              "      display: none;\n",
              "      fill: #1967D2;\n",
              "      height: 32px;\n",
              "      padding: 0 0 0 0;\n",
              "      width: 32px;\n",
              "    }\n",
              "\n",
              "    .colab-df-convert:hover {\n",
              "      background-color: #E2EBFA;\n",
              "      box-shadow: 0px 1px 2px rgba(60, 64, 67, 0.3), 0px 1px 3px 1px rgba(60, 64, 67, 0.15);\n",
              "      fill: #174EA6;\n",
              "    }\n",
              "\n",
              "    [theme=dark] .colab-df-convert {\n",
              "      background-color: #3B4455;\n",
              "      fill: #D2E3FC;\n",
              "    }\n",
              "\n",
              "    [theme=dark] .colab-df-convert:hover {\n",
              "      background-color: #434B5C;\n",
              "      box-shadow: 0px 1px 3px 1px rgba(0, 0, 0, 0.15);\n",
              "      filter: drop-shadow(0px 1px 2px rgba(0, 0, 0, 0.3));\n",
              "      fill: #FFFFFF;\n",
              "    }\n",
              "  </style>\n",
              "\n",
              "      <script>\n",
              "        const buttonEl =\n",
              "          document.querySelector('#df-4184b296-feb2-4feb-851e-36b9378e99bc button.colab-df-convert');\n",
              "        buttonEl.style.display =\n",
              "          google.colab.kernel.accessAllowed ? 'block' : 'none';\n",
              "\n",
              "        async function convertToInteractive(key) {\n",
              "          const element = document.querySelector('#df-4184b296-feb2-4feb-851e-36b9378e99bc');\n",
              "          const dataTable =\n",
              "            await google.colab.kernel.invokeFunction('convertToInteractive',\n",
              "                                                     [key], {});\n",
              "          if (!dataTable) return;\n",
              "\n",
              "          const docLinkHtml = 'Like what you see? Visit the ' +\n",
              "            '<a target=\"_blank\" href=https://colab.research.google.com/notebooks/data_table.ipynb>data table notebook</a>'\n",
              "            + ' to learn more about interactive tables.';\n",
              "          element.innerHTML = '';\n",
              "          dataTable['output_type'] = 'display_data';\n",
              "          await google.colab.output.renderOutput(dataTable, element);\n",
              "          const docLink = document.createElement('div');\n",
              "          docLink.innerHTML = docLinkHtml;\n",
              "          element.appendChild(docLink);\n",
              "        }\n",
              "      </script>\n",
              "    </div>\n",
              "  </div>\n",
              "  "
            ]
          },
          "metadata": {},
          "execution_count": 36
        }
      ]
    },
    {
      "cell_type": "code",
      "source": [
        "df1.info()"
      ],
      "metadata": {
        "colab": {
          "base_uri": "https://localhost:8080/"
        },
        "id": "4FeURVHfTn0z",
        "outputId": "323e2d78-3db9-4881-e27d-6b2d6e439fe5"
      },
      "execution_count": null,
      "outputs": [
        {
          "output_type": "stream",
          "name": "stdout",
          "text": [
            "<class 'pandas.core.frame.DataFrame'>\n",
            "RangeIndex: 10000 entries, 0 to 9999\n",
            "Data columns (total 7 columns):\n",
            " #   Column      Non-Null Count  Dtype \n",
            "---  ------      --------------  ----- \n",
            " 0   Restaurant  10000 non-null  object\n",
            " 1   Reviewer    9962 non-null   object\n",
            " 2   Review      9955 non-null   object\n",
            " 3   Rating      9962 non-null   object\n",
            " 4   Metadata    9962 non-null   object\n",
            " 5   Time        9962 non-null   object\n",
            " 6   Pictures    10000 non-null  int64 \n",
            "dtypes: int64(1), object(6)\n",
            "memory usage: 547.0+ KB\n"
          ]
        }
      ]
    },
    {
      "cell_type": "code",
      "source": [
        "df1=df1.dropna()"
      ],
      "metadata": {
        "id": "AvKSerd2T0dQ"
      },
      "execution_count": null,
      "outputs": []
    },
    {
      "cell_type": "code",
      "source": [
        "df1.isnull().sum()"
      ],
      "metadata": {
        "colab": {
          "base_uri": "https://localhost:8080/"
        },
        "id": "LufQfkOB3C5b",
        "outputId": "7293e96a-bc01-40de-bdd5-5e105475a4b8"
      },
      "execution_count": null,
      "outputs": [
        {
          "output_type": "execute_result",
          "data": {
            "text/plain": [
              "Restaurant    0\n",
              "Reviewer      0\n",
              "Review        0\n",
              "Rating        0\n",
              "Metadata      0\n",
              "Time          0\n",
              "Pictures      0\n",
              "dtype: int64"
            ]
          },
          "metadata": {},
          "execution_count": 39
        }
      ]
    },
    {
      "cell_type": "code",
      "source": [
        "df1.info()"
      ],
      "metadata": {
        "colab": {
          "base_uri": "https://localhost:8080/"
        },
        "id": "V7PJVF403IbC",
        "outputId": "1b12b568-0288-4ad0-e787-2b0ab7f1e38b"
      },
      "execution_count": null,
      "outputs": [
        {
          "output_type": "stream",
          "name": "stdout",
          "text": [
            "<class 'pandas.core.frame.DataFrame'>\n",
            "Int64Index: 9955 entries, 0 to 9999\n",
            "Data columns (total 7 columns):\n",
            " #   Column      Non-Null Count  Dtype \n",
            "---  ------      --------------  ----- \n",
            " 0   Restaurant  9955 non-null   object\n",
            " 1   Reviewer    9955 non-null   object\n",
            " 2   Review      9955 non-null   object\n",
            " 3   Rating      9955 non-null   object\n",
            " 4   Metadata    9955 non-null   object\n",
            " 5   Time        9955 non-null   object\n",
            " 6   Pictures    9955 non-null   int64 \n",
            "dtypes: int64(1), object(6)\n",
            "memory usage: 622.2+ KB\n"
          ]
        }
      ]
    },
    {
      "cell_type": "code",
      "source": [
        "df1.Restaurant.unique()"
      ],
      "metadata": {
        "colab": {
          "base_uri": "https://localhost:8080/"
        },
        "id": "jVlIIr_-3Ot_",
        "outputId": "be1f5583-f237-4f2d-8a21-c689dc2ce0ef"
      },
      "execution_count": null,
      "outputs": [
        {
          "output_type": "execute_result",
          "data": {
            "text/plain": [
              "array(['Beyond Flavours', 'Paradise', 'Flechazo',\n",
              "       'Shah Ghouse Hotel & Restaurant', 'Over The Moon Brew Company',\n",
              "       \"The Fisherman's Wharf\", 'eat.fit', 'Shah Ghouse Spl Shawarma',\n",
              "       'Hyper Local', 'Cream Stone', \"Sardarji's Chaats & More\",\n",
              "       'Barbeque Nation', 'Absolute Sizzlers',\n",
              "       'The Lal Street - Bar Exchange', \"AB's - Absolute Barbecues\",\n",
              "       'KFC', 'NorFest - The Dhaba', 'Hotel Zara Hi-Fi',\n",
              "       '10 Downing Street', 'Pakwaan Grand', '13 Dhaba',\n",
              "       \"Jonathan's Kitchen - Holiday Inn Express & Suites\", 'B-Dubs',\n",
              "       'Amul', 'SKYHY', 'Tiki Shack', 'Mustang Terrace Lounge',\n",
              "       \"3B's - Buddies, Bar & Barbecue\", 'Behrouz Biryani',\n",
              "       'Hunger Maggi Point', 'Pot Pourri', 'Pista House',\n",
              "       'Marsala Food Company', 'Club Rogue',\n",
              "       'Mazzo - Marriott Executive Apartments',\n",
              "       'Green Bawarchi Restaurant', 'Banana Leaf Multicuisine Restaurant',\n",
              "       'Kritunga Restaurant', 'The Glass Onion', 'Deli 9 Bistro',\n",
              "       'Frio Bistro', 'Karachi Bakery', 'Karachi Cafe',\n",
              "       'The Foodie Monster Kitchen', 'La La Land - Bar & Kitchen',\n",
              "       'Owm Nom Nom', 'Ulavacharu', 'Shanghai Chef 2', \"Udipi's Upahar\",\n",
              "       'Mathura Vilas', 'Gal Punjab Di', 'Hitech Bawarchi Food Zone',\n",
              "       'Biryanis And More', 'Diners Pavilion', 'Asian Meal Box',\n",
              "       'Cafe Eclat', 'Feast - Sheraton Hyderabad Hotel', 'Being Hungry',\n",
              "       'Tempteys', 'KS Bakers', 'PourHouse7', 'Prism Club & Kitchen',\n",
              "       'Shree Santosh Dhaba Family Restaurant', 'Dine O China',\n",
              "       'Hyderabad Chefs', 'Komatose - Holiday Inn Express & Suites',\n",
              "       'Aromas@11SIX', 'Yum Yum Tree - The Arabian Food Court',\n",
              "       'The Tilt Bar Republic', 'The Indi Grill',\n",
              "       'Urban Asia - Kitchen & Bar', 'Eat India Company', 'Labonel',\n",
              "       'Driven Cafe', 'Faasos', 'Royal Spicy Restaurant',\n",
              "       'The Old Madras Baking Company', 'Squeeze @ The Lime',\n",
              "       'Khaan Saab', 'Olive Garden', 'Tandoori Food Works', 'Delhi-39',\n",
              "       'Al Saba Restaurant', \"GD's\", 'T Grill', 'Momos Delight',\n",
              "       'The Chocolate Room', 'American Wild Wings', \"Domino's Pizza\",\n",
              "       'Mohammedia Shawarma', 'Arena Eleven',\n",
              "       'Cascade - Radisson Hyderabad Hitec City',\n",
              "       'Collage - Hyatt Hyderabad Gachibowli', \"Zing's Northeast Kitchen\",\n",
              "       \"Dunkin' Donuts\", 'Desi Bytes', 'Hyderabadi Daawat',\n",
              "       'Zega - Sheraton Hyderabad Hotel', 'Triptify', 'Chinese Pavilion'],\n",
              "      dtype=object)"
            ]
          },
          "metadata": {},
          "execution_count": 41
        }
      ]
    },
    {
      "cell_type": "code",
      "source": [
        "df1.columns"
      ],
      "metadata": {
        "colab": {
          "base_uri": "https://localhost:8080/"
        },
        "id": "nLvt8XrSQJKy",
        "outputId": "9c54fca8-f594-4631-f103-32bddaec328c"
      },
      "execution_count": null,
      "outputs": [
        {
          "output_type": "execute_result",
          "data": {
            "text/plain": [
              "Index(['Restaurant', 'Reviewer', 'Review', 'Rating', 'Metadata', 'Time',\n",
              "       'Pictures'],\n",
              "      dtype='object')"
            ]
          },
          "metadata": {},
          "execution_count": 42
        }
      ]
    },
    {
      "cell_type": "code",
      "source": [
        "df1.Reviewer.unique()"
      ],
      "metadata": {
        "colab": {
          "base_uri": "https://localhost:8080/"
        },
        "id": "wl-lak4Cq-p1",
        "outputId": "a6556e65-f134-403d-dbb2-df6773cdf3a1"
      },
      "execution_count": null,
      "outputs": [
        {
          "output_type": "execute_result",
          "data": {
            "text/plain": [
              "array(['Rusha Chakraborty', 'Anusha Tirumalaneedi', 'Ashok Shekhawat',\n",
              "       ..., 'Ramandeep', 'Nayana Shanbhag', 'Bhargava Krishna'],\n",
              "      dtype=object)"
            ]
          },
          "metadata": {},
          "execution_count": 43
        }
      ]
    },
    {
      "cell_type": "code",
      "source": [
        "df1.Review.unique()"
      ],
      "metadata": {
        "colab": {
          "base_uri": "https://localhost:8080/"
        },
        "id": "jObIWhNrBX-6",
        "outputId": "707f2993-66e7-4d70-8e29-1bf2b0358991"
      },
      "execution_count": null,
      "outputs": [
        {
          "output_type": "execute_result",
          "data": {
            "text/plain": [
              "array(['The ambience was good, food was quite good . had Saturday lunch , which was cost effective .\\nGood place for a sate brunch. One can also chill with friends and or parents.\\nWaiter Soumen Das was really courteous and helpful.',\n",
              "       'Ambience is too good for a pleasant evening. Service is very prompt. Food is good. Over all a good experience. Soumen Das - kudos to the service',\n",
              "       'A must try.. great food great ambience. Thnx for the service by Pradeep and Subroto. My personal recommendation is Penne Alfredo Pasta:) ....... Also the music in the background is amazing.',\n",
              "       ...,\n",
              "       'Bad rating is mainly because of \"Chicken Bone found in Veg food\" and is not acceptable for a Vegetarian.\\n\\nTo satiate Cravings for chinese food we headed to Chinese Pavilion and there was also a voucher available in Little app for Luncheon tray for Rs 310 (Veg) [well do not bother for the voucher as the price for Veg Luncheon tray is Rs 275/- + taxes in the restaurant itself).\\n\\nThe ambiance is decent and since it was noon, not many tables occupied so it was pretty quite.\\n\\nIt was Thrusday special (Veg):\\nHot and Sour soup: was just OK - well it had sprouts which were crunchy in your mouth: something different.\\nKimchi - salad (personally i\\'m never fond of it)\\nPotato in plum sauce - this was very good and well made\\nBrocolli, Baby corn, Mushroom in spicy sauce - this dish lived to its name \\'too spicy\\'; but was fine with fried rice\\nVeg hakka noodles - was good\\nVeg fried rice\\n\\nOverall the food tasted good until a piece of chicken BONE came into my friend\\'s (he is pure vegetarian) mouth while eating noodles. It was such a disappointment and complete experience was ruined.\\nWell Management did apologise but surely they cannot put things correct and were offering of not using coupon but we surely don\\'t want to visit the place again. I requested to see their kitchen if they really segregate pans for Veg/Non-veg cooking which Manager declined which makes me believe they don\\'t.\\n\\nStaff and service are fine but they really need to improve the segregation of Veg and Non-veg as in Indian Culture it means a lot.\\n\\nUploaded photos with the bone found.',\n",
              "       'I personally love and prefer Chinese Food. Had been here couple of times with my husband.\\n\\nThe ambiance of the place is very good. The entrance has some carvings and the walls were very nicely decorated. The server was very polite\\n\\nWhen it comes to food this place does not disappoint.This is a small/comfy restaurant that is surprisingly not very crowded even on weekends. \\n\\nWe went there for our anniversary celebrations and it was just perfect. No crowd, we got the attention and service we were looking for.',\n",
              "       \"Checked in here to try some delicious chinese food here, seen non-veg luncheon tray menu ans tried the same which they are charging 300+ taxes..\\nStarted with manchow soup and liked it instantly.. Thereafter luncheon tray had came with pepper chicken starter, kimchi (salad), wolly chicken, egg fried rice and egg hakka noodles.. Taste is fine and didn't liked eating egg hakka noodles and egg fried rice at a time.. Badly missed dessert along with tray! (Dnt mind for extra price..)\\nValue for money and fine ambience.\"],\n",
              "      dtype=object)"
            ]
          },
          "metadata": {},
          "execution_count": 44
        }
      ]
    },
    {
      "cell_type": "code",
      "source": [
        "df1.Rating.unique()\n",
        "df1.Rating.value_counts()"
      ],
      "metadata": {
        "colab": {
          "base_uri": "https://localhost:8080/"
        },
        "id": "hJoQot9_QPst",
        "outputId": "a6f358d9-668b-46e2-d4f5-d36f250f0b06"
      },
      "execution_count": null,
      "outputs": [
        {
          "output_type": "execute_result",
          "data": {
            "text/plain": [
              "5       3826\n",
              "4       2373\n",
              "1       1735\n",
              "3       1192\n",
              "2        684\n",
              "4.5       69\n",
              "3.5       47\n",
              "2.5       19\n",
              "1.5        9\n",
              "Like       1\n",
              "Name: Rating, dtype: int64"
            ]
          },
          "metadata": {},
          "execution_count": 45
        }
      ]
    },
    {
      "cell_type": "code",
      "source": [
        "df1=df1.drop(df1.loc[df1.Rating=='Like'].index)"
      ],
      "metadata": {
        "id": "4e6ayVQiQbk4"
      },
      "execution_count": null,
      "outputs": []
    },
    {
      "cell_type": "code",
      "source": [
        "df1['Rating']=df1.Rating.astype('float')"
      ],
      "metadata": {
        "id": "T7FEeYZ5Rl5n"
      },
      "execution_count": null,
      "outputs": []
    },
    {
      "cell_type": "code",
      "source": [
        "Rating=df1.groupby(['Restaurant'])['Rating'].mean().sort_values(ascending=False)"
      ],
      "metadata": {
        "id": "eugCN2XSTIPO"
      },
      "execution_count": null,
      "outputs": []
    },
    {
      "cell_type": "code",
      "source": [
        "top_10=Rating.iloc[:10]\n",
        "x=top_10.index.to_list()\n",
        "y=top_10.to_list()\n",
        "plt.bar(x,y,color='rgbkymc')\n",
        "plt.xticks(rotation=90)\n",
        "plt.xlabel('Restaurants')\n",
        "plt.ylabel('Ratings')\n",
        "plt.title('Top rating hotels')"
      ],
      "metadata": {
        "colab": {
          "base_uri": "https://localhost:8080/",
          "height": 782
        },
        "id": "cqDbzx0S2cat",
        "outputId": "6396ac72-75a1-4e0d-f07e-e95b23a66a8a"
      },
      "execution_count": null,
      "outputs": [
        {
          "output_type": "stream",
          "name": "stderr",
          "text": [
            "/usr/local/lib/python3.7/dist-packages/ipykernel_launcher.py:4: MatplotlibDeprecationWarning: Using a string of single character colors as a color sequence is deprecated. Use an explicit list instead.\n",
            "  after removing the cwd from sys.path.\n"
          ]
        },
        {
          "output_type": "execute_result",
          "data": {
            "text/plain": [
              "Text(0.5, 1.0, 'Top rating hotels')"
            ]
          },
          "metadata": {},
          "execution_count": 49
        },
        {
          "output_type": "display_data",
          "data": {
            "text/plain": [
              "<Figure size 720x576 with 1 Axes>"
            ],
            "image/png": "[encoded data removed]"
          },
          "metadata": {
            "needs_background": "light"
          }
        }
      ]
    },
    {
      "cell_type": "code",
      "source": [
        "top_10"
      ],
      "metadata": {
        "colab": {
          "base_uri": "https://localhost:8080/"
        },
        "id": "EAsmIgBT3hN3",
        "outputId": "b607dd1d-f60e-4bf8-98ee-28e0ffbb2d76"
      },
      "execution_count": null,
      "outputs": [
        {
          "output_type": "execute_result",
          "data": {
            "text/plain": [
              "Restaurant\n",
              "AB's - Absolute Barbecues                  4.88\n",
              "B-Dubs                                     4.81\n",
              "3B's - Buddies, Bar & Barbecue             4.76\n",
              "Paradise                                   4.70\n",
              "Flechazo                                   4.66\n",
              "The Indi Grill                             4.60\n",
              "Zega - Sheraton Hyderabad Hotel            4.45\n",
              "Over The Moon Brew Company                 4.34\n",
              "Beyond Flavours                            4.28\n",
              "Cascade - Radisson Hyderabad Hitec City    4.26\n",
              "Name: Rating, dtype: float64"
            ]
          },
          "metadata": {},
          "execution_count": 50
        }
      ]
    },
    {
      "cell_type": "code",
      "source": [
        "bottom_10=Rating.iloc[:-10:-1]\n",
        "x=bottom_10.index.to_list()\n",
        "y=bottom_10.to_list()\n",
        "plt.bar(x,y,color='rgbkymc')\n",
        "plt.xticks(rotation=90)\n",
        "plt.xlabel('Restaurants')\n",
        "plt.ylabel('Ratings')\n",
        "plt.title('Lowest rating hotels')"
      ],
      "metadata": {
        "colab": {
          "base_uri": "https://localhost:8080/",
          "height": 776
        },
        "id": "ZSL1_nK16-Ak",
        "outputId": "2db04c0e-0d96-459a-8005-44c4f785044f"
      },
      "execution_count": null,
      "outputs": [
        {
          "output_type": "stream",
          "name": "stderr",
          "text": [
            "/usr/local/lib/python3.7/dist-packages/ipykernel_launcher.py:4: MatplotlibDeprecationWarning: Using a string of single character colors as a color sequence is deprecated. Use an explicit list instead.\n",
            "  after removing the cwd from sys.path.\n"
          ]
        },
        {
          "output_type": "execute_result",
          "data": {
            "text/plain": [
              "Text(0.5, 1.0, 'Lowest rating hotels')"
            ]
          },
          "metadata": {},
          "execution_count": 51
        },
        {
          "output_type": "display_data",
          "data": {
            "text/plain": [
              "<Figure size 720x576 with 1 Axes>"
            ],
            "image/png": "[encoded data removed]"
          },
          "metadata": {
            "needs_background": "light"
          }
        }
      ]
    },
    {
      "cell_type": "code",
      "source": [
        "df1.info()"
      ],
      "metadata": {
        "colab": {
          "base_uri": "https://localhost:8080/"
        },
        "id": "0myjN_3FScSe",
        "outputId": "d9059bd4-e85e-4be0-943d-46dd1ddcc6bb"
      },
      "execution_count": null,
      "outputs": [
        {
          "output_type": "stream",
          "name": "stdout",
          "text": [
            "<class 'pandas.core.frame.DataFrame'>\n",
            "Int64Index: 9954 entries, 0 to 9999\n",
            "Data columns (total 7 columns):\n",
            " #   Column      Non-Null Count  Dtype  \n",
            "---  ------      --------------  -----  \n",
            " 0   Restaurant  9954 non-null   object \n",
            " 1   Reviewer    9954 non-null   object \n",
            " 2   Review      9954 non-null   object \n",
            " 3   Rating      9954 non-null   float64\n",
            " 4   Metadata    9954 non-null   object \n",
            " 5   Time        9954 non-null   object \n",
            " 6   Pictures    9954 non-null   int64  \n",
            "dtypes: float64(1), int64(1), object(5)\n",
            "memory usage: 622.1+ KB\n"
          ]
        }
      ]
    },
    {
      "cell_type": "code",
      "source": [
        "df1.Metadata.unique()"
      ],
      "metadata": {
        "id": "SOke6VZDTCY-",
        "colab": {
          "base_uri": "https://localhost:8080/"
        },
        "outputId": "8b470e93-9519-4448-badd-e1fba0f425b0"
      },
      "execution_count": null,
      "outputs": [
        {
          "output_type": "execute_result",
          "data": {
            "text/plain": [
              "array(['1 Review , 2 Followers', '3 Reviews , 2 Followers',\n",
              "       '2 Reviews , 3 Followers', ..., '65 Reviews , 423 Followers',\n",
              "       '13 Reviews , 144 Followers', '472 Reviews , 1302 Followers'],\n",
              "      dtype=object)"
            ]
          },
          "metadata": {},
          "execution_count": 53
        }
      ]
    },
    {
      "cell_type": "code",
      "source": [
        "meta=df1.Metadata.str.split(expand=True)\n",
        "meta_df=meta[[0,3]]\n",
        "meta_df.columns=['Reviews','Followers']\n",
        "meta_df"
      ],
      "metadata": {
        "colab": {
          "base_uri": "https://localhost:8080/",
          "height": 424
        },
        "id": "LX2OF-1XZqpp",
        "outputId": "2083a1de-ec42-4074-b705-963ed92e593d"
      },
      "execution_count": null,
      "outputs": [
        {
          "output_type": "execute_result",
          "data": {
            "text/plain": [
              "     Reviews Followers\n",
              "0          1         2\n",
              "1          3         2\n",
              "2          2         3\n",
              "3          1         1\n",
              "4          3         2\n",
              "...      ...       ...\n",
              "9995      53        54\n",
              "9996       2        53\n",
              "9997      65       423\n",
              "9998      13       144\n",
              "9999     472      1302\n",
              "\n",
              "[9954 rows x 2 columns]"
            ],
            "text/html": [
              "\n",
              "  <div id=\"df-58832701-5229-40b7-96c2-51a99c5c7f86\">\n",
              "    <div class=\"colab-df-container\">\n",
              "      <div>\n",
              "<style scoped>\n",
              "    .dataframe tbody tr th:only-of-type {\n",
              "        vertical-align: middle;\n",
              "    }\n",
              "\n",
              "    .dataframe tbody tr th {\n",
              "        vertical-align: top;\n",
              "    }\n",
              "\n",
              "    .dataframe thead th {\n",
              "        text-align: right;\n",
              "    }\n",
              "</style>\n",
              "<table border=\"1\" class=\"dataframe\">\n",
              "  <thead>\n",
              "    <tr style=\"text-align: right;\">\n",
              "      <th></th>\n",
              "      <th>Reviews</th>\n",
              "      <th>Followers</th>\n",
              "    </tr>\n",
              "  </thead>\n",
              "  <tbody>\n",
              "    <tr>\n",
              "      <th>0</th>\n",
              "      <td>1</td>\n",
              "      <td>2</td>\n",
              "    </tr>\n",
              "    <tr>\n",
              "      <th>1</th>\n",
              "      <td>3</td>\n",
              "      <td>2</td>\n",
              "    </tr>\n",
              "    <tr>\n",
              "      <th>2</th>\n",
              "      <td>2</td>\n",
              "      <td>3</td>\n",
              "    </tr>\n",
              "    <tr>\n",
              "      <th>3</th>\n",
              "      <td>1</td>\n",
              "      <td>1</td>\n",
              "    </tr>\n",
              "    <tr>\n",
              "      <th>4</th>\n",
              "      <td>3</td>\n",
              "      <td>2</td>\n",
              "    </tr>\n",
              "    <tr>\n",
              "      <th>...</th>\n",
              "      <td>...</td>\n",
              "      <td>...</td>\n",
              "    </tr>\n",
              "    <tr>\n",
              "      <th>9995</th>\n",
              "      <td>53</td>\n",
              "      <td>54</td>\n",
              "    </tr>\n",
              "    <tr>\n",
              "      <th>9996</th>\n",
              "      <td>2</td>\n",
              "      <td>53</td>\n",
              "    </tr>\n",
              "    <tr>\n",
              "      <th>9997</th>\n",
              "      <td>65</td>\n",
              "      <td>423</td>\n",
              "    </tr>\n",
              "    <tr>\n",
              "      <th>9998</th>\n",
              "      <td>13</td>\n",
              "      <td>144</td>\n",
              "    </tr>\n",
              "    <tr>\n",
              "      <th>9999</th>\n",
              "      <td>472</td>\n",
              "      <td>1302</td>\n",
              "    </tr>\n",
              "  </tbody>\n",
              "</table>\n",
              "<p>9954 rows × 2 columns</p>\n",
              "</div>\n",
              "      <button class=\"colab-df-convert\" onclick=\"convertToInteractive('df-58832701-5229-40b7-96c2-51a99c5c7f86')\"\n",
              "              title=\"Convert this dataframe to an interactive table.\"\n",
              "              style=\"display:none;\">\n",
              "        \n",
              "  <svg xmlns=\"http://www.w3.org/2000/svg\" height=\"24px\"viewBox=\"0 0 24 24\"\n",
              "       width=\"24px\">\n",
              "    <path d=\"M0 0h24v24H0V0z\" fill=\"none\"/>\n",
              "    <path d=\"M18.56 5.44l.94 2.06.94-2.06 2.06-.94-2.06-.94-.94-2.06-.94 2.06-2.06.94zm-11 1L8.5 8.5l.94-2.06 2.06-.94-2.06-.94L8.5 2.5l-.94 2.06-2.06.94zm10 10l.94 2.06.94-2.06 2.06-.94-2.06-.94-.94-2.06-.94 2.06-2.06.94z\"/><path d=\"M17.41 7.96l-1.37-1.37c-.4-.4-.92-.59-1.43-.59-.52 0-1.04.2-1.43.59L10.3 9.45l-7.72 7.72c-.78.78-.78 2.05 0 2.83L4 21.41c.39.39.9.59 1.41.59.51 0 1.02-.2 1.41-.59l7.78-7.78 2.81-2.81c.8-.78.8-2.07 0-2.86zM5.41 20L4 18.59l7.72-7.72 1.47 1.35L5.41 20z\"/>\n",
              "  </svg>\n",
              "      </button>\n",
              "      \n",
              "  <style>\n",
              "    .colab-df-container {\n",
              "      display:flex;\n",
              "      flex-wrap:wrap;\n",
              "      gap: 12px;\n",
              "    }\n",
              "\n",
              "    .colab-df-convert {\n",
              "      background-color: #E8F0FE;\n",
              "      border: none;\n",
              "      border-radius: 50%;\n",
              "      cursor: pointer;\n",
              "      display: none;\n",
              "      fill: #1967D2;\n",
              "      height: 32px;\n",
              "      padding: 0 0 0 0;\n",
              "      width: 32px;\n",
              "    }\n",
              "\n",
              "    .colab-df-convert:hover {\n",
              "      background-color: #E2EBFA;\n",
              "      box-shadow: 0px 1px 2px rgba(60, 64, 67, 0.3), 0px 1px 3px 1px rgba(60, 64, 67, 0.15);\n",
              "      fill: #174EA6;\n",
              "    }\n",
              "\n",
              "    [theme=dark] .colab-df-convert {\n",
              "      background-color: #3B4455;\n",
              "      fill: #D2E3FC;\n",
              "    }\n",
              "\n",
              "    [theme=dark] .colab-df-convert:hover {\n",
              "      background-color: #434B5C;\n",
              "      box-shadow: 0px 1px 3px 1px rgba(0, 0, 0, 0.15);\n",
              "      filter: drop-shadow(0px 1px 2px rgba(0, 0, 0, 0.3));\n",
              "      fill: #FFFFFF;\n",
              "    }\n",
              "  </style>\n",
              "\n",
              "      <script>\n",
              "        const buttonEl =\n",
              "          document.querySelector('#df-58832701-5229-40b7-96c2-51a99c5c7f86 button.colab-df-convert');\n",
              "        buttonEl.style.display =\n",
              "          google.colab.kernel.accessAllowed ? 'block' : 'none';\n",
              "\n",
              "        async function convertToInteractive(key) {\n",
              "          const element = document.querySelector('#df-58832701-5229-40b7-96c2-51a99c5c7f86');\n",
              "          const dataTable =\n",
              "            await google.colab.kernel.invokeFunction('convertToInteractive',\n",
              "                                                     [key], {});\n",
              "          if (!dataTable) return;\n",
              "\n",
              "          const docLinkHtml = 'Like what you see? Visit the ' +\n",
              "            '<a target=\"_blank\" href=https://colab.research.google.com/notebooks/data_table.ipynb>data table notebook</a>'\n",
              "            + ' to learn more about interactive tables.';\n",
              "          element.innerHTML = '';\n",
              "          dataTable['output_type'] = 'display_data';\n",
              "          await google.colab.output.renderOutput(dataTable, element);\n",
              "          const docLink = document.createElement('div');\n",
              "          docLink.innerHTML = docLinkHtml;\n",
              "          element.appendChild(docLink);\n",
              "        }\n",
              "      </script>\n",
              "    </div>\n",
              "  </div>\n",
              "  "
            ]
          },
          "metadata": {},
          "execution_count": 54
        }
      ]
    },
    {
      "cell_type": "code",
      "source": [
        "df1=pd.concat([df1,meta_df],axis=1)\n",
        "df1.drop('Metadata',axis=1,inplace=True)\n",
        "df1.head()"
      ],
      "metadata": {
        "colab": {
          "base_uri": "https://localhost:8080/",
          "height": 687
        },
        "id": "jK0ihl_z6BXb",
        "outputId": "95242054-08ef-45f6-d317-fdf918597ca1"
      },
      "execution_count": null,
      "outputs": [
        {
          "output_type": "execute_result",
          "data": {
            "text/plain": [
              "        Restaurant              Reviewer  \\\n",
              "0  Beyond Flavours     Rusha Chakraborty   \n",
              "1  Beyond Flavours  Anusha Tirumalaneedi   \n",
              "2  Beyond Flavours       Ashok Shekhawat   \n",
              "3  Beyond Flavours        Swapnil Sarkar   \n",
              "4  Beyond Flavours                Dileep   \n",
              "\n",
              "                                              Review  Rating             Time  \\\n",
              "0  The ambience was good, food was quite good . h...     5.0  5/25/2019 15:54   \n",
              "1  Ambience is too good for a pleasant evening. S...     5.0  5/25/2019 14:20   \n",
              "2  A must try.. great food great ambience. Thnx f...     5.0  5/24/2019 22:54   \n",
              "3  Soumen das and Arun was a great guy. Only beca...     5.0  5/24/2019 22:11   \n",
              "4  Food is good.we ordered Kodi drumsticks and ba...     5.0  5/24/2019 21:37   \n",
              "\n",
              "   Pictures Reviews Followers  \n",
              "0         0       1         2  \n",
              "1         0       3         2  \n",
              "2         0       2         3  \n",
              "3         0       1         1  \n",
              "4         0       3         2  "
            ],
            "text/html": [
              "\n",
              "  <div id=\"df-7434e808-8113-4f88-80d7-ba5586486937\">\n",
              "    <div class=\"colab-df-container\">\n",
              "      <div>\n",
              "<style scoped>\n",
              "    .dataframe tbody tr th:only-of-type {\n",
              "        vertical-align: middle;\n",
              "    }\n",
              "\n",
              "    .dataframe tbody tr th {\n",
              "        vertical-align: top;\n",
              "    }\n",
              "\n",
              "    .dataframe thead th {\n",
              "        text-align: right;\n",
              "    }\n",
              "</style>\n",
              "<table border=\"1\" class=\"dataframe\">\n",
              "  <thead>\n",
              "    <tr style=\"text-align: right;\">\n",
              "      <th></th>\n",
              "      <th>Restaurant</th>\n",
              "      <th>Reviewer</th>\n",
              "      <th>Review</th>\n",
              "      <th>Rating</th>\n",
              "      <th>Time</th>\n",
              "      <th>Pictures</th>\n",
              "      <th>Reviews</th>\n",
              "      <th>Followers</th>\n",
              "    </tr>\n",
              "  </thead>\n",
              "  <tbody>\n",
              "    <tr>\n",
              "      <th>0</th>\n",
              "      <td>Beyond Flavours</td>\n",
              "      <td>Rusha Chakraborty</td>\n",
              "      <td>The ambience was good, food was quite good . h...</td>\n",
              "      <td>5.0</td>\n",
              "      <td>5/25/2019 15:54</td>\n",
              "      <td>0</td>\n",
              "      <td>1</td>\n",
              "      <td>2</td>\n",
              "    </tr>\n",
              "    <tr>\n",
              "      <th>1</th>\n",
              "      <td>Beyond Flavours</td>\n",
              "      <td>Anusha Tirumalaneedi</td>\n",
              "      <td>Ambience is too good for a pleasant evening. S...</td>\n",
              "      <td>5.0</td>\n",
              "      <td>5/25/2019 14:20</td>\n",
              "      <td>0</td>\n",
              "      <td>3</td>\n",
              "      <td>2</td>\n",
              "    </tr>\n",
              "    <tr>\n",
              "      <th>2</th>\n",
              "      <td>Beyond Flavours</td>\n",
              "      <td>Ashok Shekhawat</td>\n",
              "      <td>A must try.. great food great ambience. Thnx f...</td>\n",
              "      <td>5.0</td>\n",
              "      <td>5/24/2019 22:54</td>\n",
              "      <td>0</td>\n",
              "      <td>2</td>\n",
              "      <td>3</td>\n",
              "    </tr>\n",
              "    <tr>\n",
              "      <th>3</th>\n",
              "      <td>Beyond Flavours</td>\n",
              "      <td>Swapnil Sarkar</td>\n",
              "      <td>Soumen das and Arun was a great guy. Only beca...</td>\n",
              "      <td>5.0</td>\n",
              "      <td>5/24/2019 22:11</td>\n",
              "      <td>0</td>\n",
              "      <td>1</td>\n",
              "      <td>1</td>\n",
              "    </tr>\n",
              "    <tr>\n",
              "      <th>4</th>\n",
              "      <td>Beyond Flavours</td>\n",
              "      <td>Dileep</td>\n",
              "      <td>Food is good.we ordered Kodi drumsticks and ba...</td>\n",
              "      <td>5.0</td>\n",
              "      <td>5/24/2019 21:37</td>\n",
              "      <td>0</td>\n",
              "      <td>3</td>\n",
              "      <td>2</td>\n",
              "    </tr>\n",
              "  </tbody>\n",
              "</table>\n",
              "</div>\n",
              "      <button class=\"colab-df-convert\" onclick=\"convertToInteractive('df-7434e808-8113-4f88-80d7-ba5586486937')\"\n",
              "              title=\"Convert this dataframe to an interactive table.\"\n",
              "              style=\"display:none;\">\n",
              "        \n",
              "  <svg xmlns=\"http://www.w3.org/2000/svg\" height=\"24px\"viewBox=\"0 0 24 24\"\n",
              "       width=\"24px\">\n",
              "    <path d=\"M0 0h24v24H0V0z\" fill=\"none\"/>\n",
              "    <path d=\"M18.56 5.44l.94 2.06.94-2.06 2.06-.94-2.06-.94-.94-2.06-.94 2.06-2.06.94zm-11 1L8.5 8.5l.94-2.06 2.06-.94-2.06-.94L8.5 2.5l-.94 2.06-2.06.94zm10 10l.94 2.06.94-2.06 2.06-.94-2.06-.94-.94-2.06-.94 2.06-2.06.94z\"/><path d=\"M17.41 7.96l-1.37-1.37c-.4-.4-.92-.59-1.43-.59-.52 0-1.04.2-1.43.59L10.3 9.45l-7.72 7.72c-.78.78-.78 2.05 0 2.83L4 21.41c.39.39.9.59 1.41.59.51 0 1.02-.2 1.41-.59l7.78-7.78 2.81-2.81c.8-.78.8-2.07 0-2.86zM5.41 20L4 18.59l7.72-7.72 1.47 1.35L5.41 20z\"/>\n",
              "  </svg>\n",
              "      </button>\n",
              "      \n",
              "  <style>\n",
              "    .colab-df-container {\n",
              "      display:flex;\n",
              "      flex-wrap:wrap;\n",
              "      gap: 12px;\n",
              "    }\n",
              "\n",
              "    .colab-df-convert {\n",
              "      background-color: #E8F0FE;\n",
              "      border: none;\n",
              "      border-radius: 50%;\n",
              "      cursor: pointer;\n",
              "      display: none;\n",
              "      fill: #1967D2;\n",
              "      height: 32px;\n",
              "      padding: 0 0 0 0;\n",
              "      width: 32px;\n",
              "    }\n",
              "\n",
              "    .colab-df-convert:hover {\n",
              "      background-color: #E2EBFA;\n",
              "      box-shadow: 0px 1px 2px rgba(60, 64, 67, 0.3), 0px 1px 3px 1px rgba(60, 64, 67, 0.15);\n",
              "      fill: #174EA6;\n",
              "    }\n",
              "\n",
              "    [theme=dark] .colab-df-convert {\n",
              "      background-color: #3B4455;\n",
              "      fill: #D2E3FC;\n",
              "    }\n",
              "\n",
              "    [theme=dark] .colab-df-convert:hover {\n",
              "      background-color: #434B5C;\n",
              "      box-shadow: 0px 1px 3px 1px rgba(0, 0, 0, 0.15);\n",
              "      filter: drop-shadow(0px 1px 2px rgba(0, 0, 0, 0.3));\n",
              "      fill: #FFFFFF;\n",
              "    }\n",
              "  </style>\n",
              "\n",
              "      <script>\n",
              "        const buttonEl =\n",
              "          document.querySelector('#df-7434e808-8113-4f88-80d7-ba5586486937 button.colab-df-convert');\n",
              "        buttonEl.style.display =\n",
              "          google.colab.kernel.accessAllowed ? 'block' : 'none';\n",
              "\n",
              "        async function convertToInteractive(key) {\n",
              "          const element = document.querySelector('#df-7434e808-8113-4f88-80d7-ba5586486937');\n",
              "          const dataTable =\n",
              "            await google.colab.kernel.invokeFunction('convertToInteractive',\n",
              "                                                     [key], {});\n",
              "          if (!dataTable) return;\n",
              "\n",
              "          const docLinkHtml = 'Like what you see? Visit the ' +\n",
              "            '<a target=\"_blank\" href=https://colab.research.google.com/notebooks/data_table.ipynb>data table notebook</a>'\n",
              "            + ' to learn more about interactive tables.';\n",
              "          element.innerHTML = '';\n",
              "          dataTable['output_type'] = 'display_data';\n",
              "          await google.colab.output.renderOutput(dataTable, element);\n",
              "          const docLink = document.createElement('div');\n",
              "          docLink.innerHTML = docLinkHtml;\n",
              "          element.appendChild(docLink);\n",
              "        }\n",
              "      </script>\n",
              "    </div>\n",
              "  </div>\n",
              "  "
            ]
          },
          "metadata": {},
          "execution_count": 55
        }
      ]
    },
    {
      "cell_type": "code",
      "source": [
        "df1.info()"
      ],
      "metadata": {
        "colab": {
          "base_uri": "https://localhost:8080/"
        },
        "id": "iWhXIE-oFxoA",
        "outputId": "0fb5b429-af42-4827-8147-8687c677b2ee"
      },
      "execution_count": null,
      "outputs": [
        {
          "output_type": "stream",
          "name": "stdout",
          "text": [
            "<class 'pandas.core.frame.DataFrame'>\n",
            "Int64Index: 9954 entries, 0 to 9999\n",
            "Data columns (total 8 columns):\n",
            " #   Column      Non-Null Count  Dtype  \n",
            "---  ------      --------------  -----  \n",
            " 0   Restaurant  9954 non-null   object \n",
            " 1   Reviewer    9954 non-null   object \n",
            " 2   Review      9954 non-null   object \n",
            " 3   Rating      9954 non-null   float64\n",
            " 4   Time        9954 non-null   object \n",
            " 5   Pictures    9954 non-null   int64  \n",
            " 6   Reviews     9954 non-null   object \n",
            " 7   Followers   8380 non-null   object \n",
            "dtypes: float64(1), int64(1), object(6)\n",
            "memory usage: 699.9+ KB\n"
          ]
        }
      ]
    },
    {
      "cell_type": "code",
      "source": [
        "df1=df1.fillna(0)"
      ],
      "metadata": {
        "id": "jhWuXMO-F6ga"
      },
      "execution_count": null,
      "outputs": []
    },
    {
      "cell_type": "code",
      "source": [
        "df1.info()"
      ],
      "metadata": {
        "colab": {
          "base_uri": "https://localhost:8080/"
        },
        "id": "MdnwjSMhGAD4",
        "outputId": "90515002-33a5-47f3-854b-26f7bddd807b"
      },
      "execution_count": null,
      "outputs": [
        {
          "output_type": "stream",
          "name": "stdout",
          "text": [
            "<class 'pandas.core.frame.DataFrame'>\n",
            "Int64Index: 9954 entries, 0 to 9999\n",
            "Data columns (total 8 columns):\n",
            " #   Column      Non-Null Count  Dtype  \n",
            "---  ------      --------------  -----  \n",
            " 0   Restaurant  9954 non-null   object \n",
            " 1   Reviewer    9954 non-null   object \n",
            " 2   Review      9954 non-null   object \n",
            " 3   Rating      9954 non-null   float64\n",
            " 4   Time        9954 non-null   object \n",
            " 5   Pictures    9954 non-null   int64  \n",
            " 6   Reviews     9954 non-null   object \n",
            " 7   Followers   9954 non-null   object \n",
            "dtypes: float64(1), int64(1), object(6)\n",
            "memory usage: 699.9+ KB\n"
          ]
        }
      ]
    },
    {
      "cell_type": "code",
      "source": [
        "df1['Reviews']=df1.Reviews.astype('int')\n",
        "df1.Followers=df1.Followers.astype('int')"
      ],
      "metadata": {
        "id": "eA9ag6lR7rY8"
      },
      "execution_count": null,
      "outputs": []
    },
    {
      "cell_type": "code",
      "source": [
        "df1.info()"
      ],
      "metadata": {
        "colab": {
          "base_uri": "https://localhost:8080/"
        },
        "id": "kKC7n5ZoGKii",
        "outputId": "92988dba-304d-4afc-e715-ad366544e9ee"
      },
      "execution_count": null,
      "outputs": [
        {
          "output_type": "stream",
          "name": "stdout",
          "text": [
            "<class 'pandas.core.frame.DataFrame'>\n",
            "Int64Index: 9954 entries, 0 to 9999\n",
            "Data columns (total 8 columns):\n",
            " #   Column      Non-Null Count  Dtype  \n",
            "---  ------      --------------  -----  \n",
            " 0   Restaurant  9954 non-null   object \n",
            " 1   Reviewer    9954 non-null   object \n",
            " 2   Review      9954 non-null   object \n",
            " 3   Rating      9954 non-null   float64\n",
            " 4   Time        9954 non-null   object \n",
            " 5   Pictures    9954 non-null   int64  \n",
            " 6   Reviews     9954 non-null   int64  \n",
            " 7   Followers   9954 non-null   int64  \n",
            "dtypes: float64(1), int64(3), object(4)\n",
            "memory usage: 699.9+ KB\n"
          ]
        }
      ]
    },
    {
      "cell_type": "code",
      "source": [
        "df1.drop('Time',axis=1,inplace=True)"
      ],
      "metadata": {
        "id": "a6-CzOXxZ7kr"
      },
      "execution_count": null,
      "outputs": []
    },
    {
      "cell_type": "code",
      "source": [
        "df1.info()"
      ],
      "metadata": {
        "colab": {
          "base_uri": "https://localhost:8080/"
        },
        "id": "9DHQYfZFbPg8",
        "outputId": "56fd39a8-d8a2-4199-8f9d-f88bdf260c4e"
      },
      "execution_count": null,
      "outputs": [
        {
          "output_type": "stream",
          "name": "stdout",
          "text": [
            "<class 'pandas.core.frame.DataFrame'>\n",
            "Int64Index: 9954 entries, 0 to 9999\n",
            "Data columns (total 7 columns):\n",
            " #   Column      Non-Null Count  Dtype  \n",
            "---  ------      --------------  -----  \n",
            " 0   Restaurant  9954 non-null   object \n",
            " 1   Reviewer    9954 non-null   object \n",
            " 2   Review      9954 non-null   object \n",
            " 3   Rating      9954 non-null   float64\n",
            " 4   Pictures    9954 non-null   int64  \n",
            " 5   Reviews     9954 non-null   int64  \n",
            " 6   Followers   9954 non-null   int64  \n",
            "dtypes: float64(1), int64(3), object(3)\n",
            "memory usage: 622.1+ KB\n"
          ]
        }
      ]
    },
    {
      "cell_type": "code",
      "source": [
        "df.info()"
      ],
      "metadata": {
        "id": "iyB9rn9YHM6l",
        "colab": {
          "base_uri": "https://localhost:8080/"
        },
        "outputId": "946a86bf-ae67-4949-b2b4-512e9bb1fa53"
      },
      "execution_count": null,
      "outputs": [
        {
          "output_type": "stream",
          "name": "stdout",
          "text": [
            "<class 'pandas.core.frame.DataFrame'>\n",
            "Int64Index: 104 entries, 0 to 104\n",
            "Data columns (total 3 columns):\n",
            " #   Column         Non-Null Count  Dtype \n",
            "---  ------         --------------  ----- \n",
            " 0   Name           104 non-null    object\n",
            " 1   Cost           104 non-null    int64 \n",
            " 2   no of cuisnes  104 non-null    int64 \n",
            "dtypes: int64(2), object(1)\n",
            "memory usage: 3.2+ KB\n"
          ]
        }
      ]
    },
    {
      "cell_type": "code",
      "source": [
        "avg_rating=df1.groupby(['Restaurant'])['Rating'].mean().reset_index()\n",
        "avg_rating.rename(columns={'Restaurant':'Name'},inplace=True)\n",
        "avg_rating.sort_values(by='Rating',ascending = False).head()"
      ],
      "metadata": {
        "colab": {
          "base_uri": "https://localhost:8080/",
          "height": 206
        },
        "id": "PSIxcE22b5M_",
        "outputId": "5072d8e3-5320-47ac-afc1-eab3c270f1ca"
      },
      "execution_count": null,
      "outputs": [
        {
          "output_type": "execute_result",
          "data": {
            "text/plain": [
              "                              Name  Rating\n",
              "3        AB's - Absolute Barbecues    4.88\n",
              "11                          B-Dubs    4.81\n",
              "2   3B's - Buddies, Bar & Barbecue    4.76\n",
              "67                        Paradise    4.70\n",
              "35                        Flechazo    4.66"
            ],
            "text/html": [
              "\n",
              "  <div id=\"df-d1ca5466-4c82-47a8-a8d7-f5fafb70c074\">\n",
              "    <div class=\"colab-df-container\">\n",
              "      <div>\n",
              "<style scoped>\n",
              "    .dataframe tbody tr th:only-of-type {\n",
              "        vertical-align: middle;\n",
              "    }\n",
              "\n",
              "    .dataframe tbody tr th {\n",
              "        vertical-align: top;\n",
              "    }\n",
              "\n",
              "    .dataframe thead th {\n",
              "        text-align: right;\n",
              "    }\n",
              "</style>\n",
              "<table border=\"1\" class=\"dataframe\">\n",
              "  <thead>\n",
              "    <tr style=\"text-align: right;\">\n",
              "      <th></th>\n",
              "      <th>Name</th>\n",
              "      <th>Rating</th>\n",
              "    </tr>\n",
              "  </thead>\n",
              "  <tbody>\n",
              "    <tr>\n",
              "      <th>3</th>\n",
              "      <td>AB's - Absolute Barbecues</td>\n",
              "      <td>4.88</td>\n",
              "    </tr>\n",
              "    <tr>\n",
              "      <th>11</th>\n",
              "      <td>B-Dubs</td>\n",
              "      <td>4.81</td>\n",
              "    </tr>\n",
              "    <tr>\n",
              "      <th>2</th>\n",
              "      <td>3B's - Buddies, Bar &amp; Barbecue</td>\n",
              "      <td>4.76</td>\n",
              "    </tr>\n",
              "    <tr>\n",
              "      <th>67</th>\n",
              "      <td>Paradise</td>\n",
              "      <td>4.70</td>\n",
              "    </tr>\n",
              "    <tr>\n",
              "      <th>35</th>\n",
              "      <td>Flechazo</td>\n",
              "      <td>4.66</td>\n",
              "    </tr>\n",
              "  </tbody>\n",
              "</table>\n",
              "</div>\n",
              "      <button class=\"colab-df-convert\" onclick=\"convertToInteractive('df-d1ca5466-4c82-47a8-a8d7-f5fafb70c074')\"\n",
              "              title=\"Convert this dataframe to an interactive table.\"\n",
              "              style=\"display:none;\">\n",
              "        \n",
              "  <svg xmlns=\"http://www.w3.org/2000/svg\" height=\"24px\"viewBox=\"0 0 24 24\"\n",
              "       width=\"24px\">\n",
              "    <path d=\"M0 0h24v24H0V0z\" fill=\"none\"/>\n",
              "    <path d=\"M18.56 5.44l.94 2.06.94-2.06 2.06-.94-2.06-.94-.94-2.06-.94 2.06-2.06.94zm-11 1L8.5 8.5l.94-2.06 2.06-.94-2.06-.94L8.5 2.5l-.94 2.06-2.06.94zm10 10l.94 2.06.94-2.06 2.06-.94-2.06-.94-.94-2.06-.94 2.06-2.06.94z\"/><path d=\"M17.41 7.96l-1.37-1.37c-.4-.4-.92-.59-1.43-.59-.52 0-1.04.2-1.43.59L10.3 9.45l-7.72 7.72c-.78.78-.78 2.05 0 2.83L4 21.41c.39.39.9.59 1.41.59.51 0 1.02-.2 1.41-.59l7.78-7.78 2.81-2.81c.8-.78.8-2.07 0-2.86zM5.41 20L4 18.59l7.72-7.72 1.47 1.35L5.41 20z\"/>\n",
              "  </svg>\n",
              "      </button>\n",
              "      \n",
              "  <style>\n",
              "    .colab-df-container {\n",
              "      display:flex;\n",
              "      flex-wrap:wrap;\n",
              "      gap: 12px;\n",
              "    }\n",
              "\n",
              "    .colab-df-convert {\n",
              "      background-color: #E8F0FE;\n",
              "      border: none;\n",
              "      border-radius: 50%;\n",
              "      cursor: pointer;\n",
              "      display: none;\n",
              "      fill: #1967D2;\n",
              "      height: 32px;\n",
              "      padding: 0 0 0 0;\n",
              "      width: 32px;\n",
              "    }\n",
              "\n",
              "    .colab-df-convert:hover {\n",
              "      background-color: #E2EBFA;\n",
              "      box-shadow: 0px 1px 2px rgba(60, 64, 67, 0.3), 0px 1px 3px 1px rgba(60, 64, 67, 0.15);\n",
              "      fill: #174EA6;\n",
              "    }\n",
              "\n",
              "    [theme=dark] .colab-df-convert {\n",
              "      background-color: #3B4455;\n",
              "      fill: #D2E3FC;\n",
              "    }\n",
              "\n",
              "    [theme=dark] .colab-df-convert:hover {\n",
              "      background-color: #434B5C;\n",
              "      box-shadow: 0px 1px 3px 1px rgba(0, 0, 0, 0.15);\n",
              "      filter: drop-shadow(0px 1px 2px rgba(0, 0, 0, 0.3));\n",
              "      fill: #FFFFFF;\n",
              "    }\n",
              "  </style>\n",
              "\n",
              "      <script>\n",
              "        const buttonEl =\n",
              "          document.querySelector('#df-d1ca5466-4c82-47a8-a8d7-f5fafb70c074 button.colab-df-convert');\n",
              "        buttonEl.style.display =\n",
              "          google.colab.kernel.accessAllowed ? 'block' : 'none';\n",
              "\n",
              "        async function convertToInteractive(key) {\n",
              "          const element = document.querySelector('#df-d1ca5466-4c82-47a8-a8d7-f5fafb70c074');\n",
              "          const dataTable =\n",
              "            await google.colab.kernel.invokeFunction('convertToInteractive',\n",
              "                                                     [key], {});\n",
              "          if (!dataTable) return;\n",
              "\n",
              "          const docLinkHtml = 'Like what you see? Visit the ' +\n",
              "            '<a target=\"_blank\" href=https://colab.research.google.com/notebooks/data_table.ipynb>data table notebook</a>'\n",
              "            + ' to learn more about interactive tables.';\n",
              "          element.innerHTML = '';\n",
              "          dataTable['output_type'] = 'display_data';\n",
              "          await google.colab.output.renderOutput(dataTable, element);\n",
              "          const docLink = document.createElement('div');\n",
              "          docLink.innerHTML = docLinkHtml;\n",
              "          element.appendChild(docLink);\n",
              "        }\n",
              "      </script>\n",
              "    </div>\n",
              "  </div>\n",
              "  "
            ]
          },
          "metadata": {},
          "execution_count": 81
        }
      ]
    },
    {
      "cell_type": "code",
      "source": [
        "avg_rating"
      ],
      "metadata": {
        "colab": {
          "base_uri": "https://localhost:8080/",
          "height": 424
        },
        "id": "Eu7eD3wbdKIS",
        "outputId": "6bac2d38-39cd-4f20-f045-24a46118fa64"
      },
      "execution_count": null,
      "outputs": [
        {
          "output_type": "execute_result",
          "data": {
            "text/plain": [
              "                                     Name  Rating\n",
              "0                       10 Downing Street    3.80\n",
              "1                                13 Dhaba    3.48\n",
              "2          3B's - Buddies, Bar & Barbecue    4.76\n",
              "3               AB's - Absolute Barbecues    4.88\n",
              "4                       Absolute Sizzlers    3.62\n",
              "..                                    ...     ...\n",
              "95             Urban Asia - Kitchen & Bar    3.65\n",
              "96  Yum Yum Tree - The Arabian Food Court    3.56\n",
              "97        Zega - Sheraton Hyderabad Hotel    4.45\n",
              "98               Zing's Northeast Kitchen    3.65\n",
              "99                                eat.fit    3.20\n",
              "\n",
              "[100 rows x 2 columns]"
            ],
            "text/html": [
              "\n",
              "  <div id=\"df-7cd6e907-be88-4353-8bda-91091bfb138c\">\n",
              "    <div class=\"colab-df-container\">\n",
              "      <div>\n",
              "<style scoped>\n",
              "    .dataframe tbody tr th:only-of-type {\n",
              "        vertical-align: middle;\n",
              "    }\n",
              "\n",
              "    .dataframe tbody tr th {\n",
              "        vertical-align: top;\n",
              "    }\n",
              "\n",
              "    .dataframe thead th {\n",
              "        text-align: right;\n",
              "    }\n",
              "</style>\n",
              "<table border=\"1\" class=\"dataframe\">\n",
              "  <thead>\n",
              "    <tr style=\"text-align: right;\">\n",
              "      <th></th>\n",
              "      <th>Name</th>\n",
              "      <th>Rating</th>\n",
              "    </tr>\n",
              "  </thead>\n",
              "  <tbody>\n",
              "    <tr>\n",
              "      <th>0</th>\n",
              "      <td>10 Downing Street</td>\n",
              "      <td>3.80</td>\n",
              "    </tr>\n",
              "    <tr>\n",
              "      <th>1</th>\n",
              "      <td>13 Dhaba</td>\n",
              "      <td>3.48</td>\n",
              "    </tr>\n",
              "    <tr>\n",
              "      <th>2</th>\n",
              "      <td>3B's - Buddies, Bar &amp; Barbecue</td>\n",
              "      <td>4.76</td>\n",
              "    </tr>\n",
              "    <tr>\n",
              "      <th>3</th>\n",
              "      <td>AB's - Absolute Barbecues</td>\n",
              "      <td>4.88</td>\n",
              "    </tr>\n",
              "    <tr>\n",
              "      <th>4</th>\n",
              "      <td>Absolute Sizzlers</td>\n",
              "      <td>3.62</td>\n",
              "    </tr>\n",
              "    <tr>\n",
              "      <th>...</th>\n",
              "      <td>...</td>\n",
              "      <td>...</td>\n",
              "    </tr>\n",
              "    <tr>\n",
              "      <th>95</th>\n",
              "      <td>Urban Asia - Kitchen &amp; Bar</td>\n",
              "      <td>3.65</td>\n",
              "    </tr>\n",
              "    <tr>\n",
              "      <th>96</th>\n",
              "      <td>Yum Yum Tree - The Arabian Food Court</td>\n",
              "      <td>3.56</td>\n",
              "    </tr>\n",
              "    <tr>\n",
              "      <th>97</th>\n",
              "      <td>Zega - Sheraton Hyderabad Hotel</td>\n",
              "      <td>4.45</td>\n",
              "    </tr>\n",
              "    <tr>\n",
              "      <th>98</th>\n",
              "      <td>Zing's Northeast Kitchen</td>\n",
              "      <td>3.65</td>\n",
              "    </tr>\n",
              "    <tr>\n",
              "      <th>99</th>\n",
              "      <td>eat.fit</td>\n",
              "      <td>3.20</td>\n",
              "    </tr>\n",
              "  </tbody>\n",
              "</table>\n",
              "<p>100 rows × 2 columns</p>\n",
              "</div>\n",
              "      <button class=\"colab-df-convert\" onclick=\"convertToInteractive('df-7cd6e907-be88-4353-8bda-91091bfb138c')\"\n",
              "              title=\"Convert this dataframe to an interactive table.\"\n",
              "              style=\"display:none;\">\n",
              "        \n",
              "  <svg xmlns=\"http://www.w3.org/2000/svg\" height=\"24px\"viewBox=\"0 0 24 24\"\n",
              "       width=\"24px\">\n",
              "    <path d=\"M0 0h24v24H0V0z\" fill=\"none\"/>\n",
              "    <path d=\"M18.56 5.44l.94 2.06.94-2.06 2.06-.94-2.06-.94-.94-2.06-.94 2.06-2.06.94zm-11 1L8.5 8.5l.94-2.06 2.06-.94-2.06-.94L8.5 2.5l-.94 2.06-2.06.94zm10 10l.94 2.06.94-2.06 2.06-.94-2.06-.94-.94-2.06-.94 2.06-2.06.94z\"/><path d=\"M17.41 7.96l-1.37-1.37c-.4-.4-.92-.59-1.43-.59-.52 0-1.04.2-1.43.59L10.3 9.45l-7.72 7.72c-.78.78-.78 2.05 0 2.83L4 21.41c.39.39.9.59 1.41.59.51 0 1.02-.2 1.41-.59l7.78-7.78 2.81-2.81c.8-.78.8-2.07 0-2.86zM5.41 20L4 18.59l7.72-7.72 1.47 1.35L5.41 20z\"/>\n",
              "  </svg>\n",
              "      </button>\n",
              "      \n",
              "  <style>\n",
              "    .colab-df-container {\n",
              "      display:flex;\n",
              "      flex-wrap:wrap;\n",
              "      gap: 12px;\n",
              "    }\n",
              "\n",
              "    .colab-df-convert {\n",
              "      background-color: #E8F0FE;\n",
              "      border: none;\n",
              "      border-radius: 50%;\n",
              "      cursor: pointer;\n",
              "      display: none;\n",
              "      fill: #1967D2;\n",
              "      height: 32px;\n",
              "      padding: 0 0 0 0;\n",
              "      width: 32px;\n",
              "    }\n",
              "\n",
              "    .colab-df-convert:hover {\n",
              "      background-color: #E2EBFA;\n",
              "      box-shadow: 0px 1px 2px rgba(60, 64, 67, 0.3), 0px 1px 3px 1px rgba(60, 64, 67, 0.15);\n",
              "      fill: #174EA6;\n",
              "    }\n",
              "\n",
              "    [theme=dark] .colab-df-convert {\n",
              "      background-color: #3B4455;\n",
              "      fill: #D2E3FC;\n",
              "    }\n",
              "\n",
              "    [theme=dark] .colab-df-convert:hover {\n",
              "      background-color: #434B5C;\n",
              "      box-shadow: 0px 1px 3px 1px rgba(0, 0, 0, 0.15);\n",
              "      filter: drop-shadow(0px 1px 2px rgba(0, 0, 0, 0.3));\n",
              "      fill: #FFFFFF;\n",
              "    }\n",
              "  </style>\n",
              "\n",
              "      <script>\n",
              "        const buttonEl =\n",
              "          document.querySelector('#df-7cd6e907-be88-4353-8bda-91091bfb138c button.colab-df-convert');\n",
              "        buttonEl.style.display =\n",
              "          google.colab.kernel.accessAllowed ? 'block' : 'none';\n",
              "\n",
              "        async function convertToInteractive(key) {\n",
              "          const element = document.querySelector('#df-7cd6e907-be88-4353-8bda-91091bfb138c');\n",
              "          const dataTable =\n",
              "            await google.colab.kernel.invokeFunction('convertToInteractive',\n",
              "                                                     [key], {});\n",
              "          if (!dataTable) return;\n",
              "\n",
              "          const docLinkHtml = 'Like what you see? Visit the ' +\n",
              "            '<a target=\"_blank\" href=https://colab.research.google.com/notebooks/data_table.ipynb>data table notebook</a>'\n",
              "            + ' to learn more about interactive tables.';\n",
              "          element.innerHTML = '';\n",
              "          dataTable['output_type'] = 'display_data';\n",
              "          await google.colab.output.renderOutput(dataTable, element);\n",
              "          const docLink = document.createElement('div');\n",
              "          docLink.innerHTML = docLinkHtml;\n",
              "          element.appendChild(docLink);\n",
              "        }\n",
              "      </script>\n",
              "    </div>\n",
              "  </div>\n",
              "  "
            ]
          },
          "metadata": {},
          "execution_count": 82
        }
      ]
    },
    {
      "cell_type": "code",
      "source": [
        "rest_rating=df.merge(avg_rating,on=\"Name\",how='left')"
      ],
      "metadata": {
        "id": "1_XF6ftvdLna"
      },
      "execution_count": null,
      "outputs": []
    },
    {
      "cell_type": "code",
      "source": [
        "rest_rating.info()"
      ],
      "metadata": {
        "colab": {
          "base_uri": "https://localhost:8080/"
        },
        "id": "RMqD_z3oiP55",
        "outputId": "579c1dd9-9bb7-4dfc-ecd8-aded92b6227d"
      },
      "execution_count": null,
      "outputs": [
        {
          "output_type": "stream",
          "name": "stdout",
          "text": [
            "<class 'pandas.core.frame.DataFrame'>\n",
            "Int64Index: 104 entries, 0 to 103\n",
            "Data columns (total 4 columns):\n",
            " #   Column         Non-Null Count  Dtype  \n",
            "---  ------         --------------  -----  \n",
            " 0   Name           104 non-null    object \n",
            " 1   Cost           104 non-null    int64  \n",
            " 2   no of cuisnes  104 non-null    int64  \n",
            " 3   Rating         99 non-null     float64\n",
            "dtypes: float64(1), int64(2), object(1)\n",
            "memory usage: 4.1+ KB\n"
          ]
        }
      ]
    },
    {
      "cell_type": "code",
      "source": [
        "rest_rating=rest_rating.fillna(0)"
      ],
      "metadata": {
        "id": "asbvsTKNmk2r"
      },
      "execution_count": null,
      "outputs": []
    },
    {
      "cell_type": "code",
      "source": [
        "rest_rating.columns"
      ],
      "metadata": {
        "colab": {
          "base_uri": "https://localhost:8080/"
        },
        "id": "YicgbUMTohsO",
        "outputId": "9d86bba5-d64b-4ee2-a7d9-af16cb3699f0"
      },
      "execution_count": null,
      "outputs": [
        {
          "output_type": "execute_result",
          "data": {
            "text/plain": [
              "Index(['Name', 'Cost', 'no of cuisnes', 'Rating'], dtype='object')"
            ]
          },
          "metadata": {},
          "execution_count": 90
        }
      ]
    },
    {
      "cell_type": "code",
      "source": [
        "#importing minmax scaler\n",
        "from sklearn.preprocessing import MinMaxScaler"
      ],
      "metadata": {
        "id": "xe2JWRmbmr3s"
      },
      "execution_count": null,
      "outputs": []
    },
    {
      "cell_type": "code",
      "source": [
        "col=['Cost', 'no of cuisnes', 'Rating']\n",
        "scaler=MinMaxScaler()\n",
        "scaled_df=scaler.fit_transform(rest_rating[col])\n",
        "scaled_df=pd.DataFrame(scaled_df,columns=col)"
      ],
      "metadata": {
        "id": "rqjSGaBnoF5Y"
      },
      "execution_count": null,
      "outputs": []
    },
    {
      "cell_type": "code",
      "source": [
        "scaled_df"
      ],
      "metadata": {
        "colab": {
          "base_uri": "https://localhost:8080/",
          "height": 424
        },
        "id": "uDFdAZJNqTkx",
        "outputId": "a22330d7-31b7-4944-9f86-8ddc094aa5ba"
      },
      "execution_count": null,
      "outputs": [
        {
          "output_type": "execute_result",
          "data": {
            "text/plain": [
              "         Cost  no of cuisnes    Rating\n",
              "0    0.245283            1.0  0.877049\n",
              "1    0.245283            0.4  0.963115\n",
              "2    0.433962            0.6  0.954918\n",
              "3    0.245283            0.8  0.657787\n",
              "4    0.396226            0.8  0.889344\n",
              "..        ...            ...       ...\n",
              "99   0.169811            0.2  0.000000\n",
              "100  0.018868            0.2  0.000000\n",
              "101  0.132075            0.4  0.000000\n",
              "102  0.037736            0.0  0.000000\n",
              "103  0.584906            0.6  0.000000\n",
              "\n",
              "[104 rows x 3 columns]"
            ],
            "text/html": [
              "\n",
              "  <div id=\"df-3fece306-836c-422c-b4e0-5d279152d21c\">\n",
              "    <div class=\"colab-df-container\">\n",
              "      <div>\n",
              "<style scoped>\n",
              "    .dataframe tbody tr th:only-of-type {\n",
              "        vertical-align: middle;\n",
              "    }\n",
              "\n",
              "    .dataframe tbody tr th {\n",
              "        vertical-align: top;\n",
              "    }\n",
              "\n",
              "    .dataframe thead th {\n",
              "        text-align: right;\n",
              "    }\n",
              "</style>\n",
              "<table border=\"1\" class=\"dataframe\">\n",
              "  <thead>\n",
              "    <tr style=\"text-align: right;\">\n",
              "      <th></th>\n",
              "      <th>Cost</th>\n",
              "      <th>no of cuisnes</th>\n",
              "      <th>Rating</th>\n",
              "    </tr>\n",
              "  </thead>\n",
              "  <tbody>\n",
              "    <tr>\n",
              "      <th>0</th>\n",
              "      <td>0.245283</td>\n",
              "      <td>1.0</td>\n",
              "      <td>0.877049</td>\n",
              "    </tr>\n",
              "    <tr>\n",
              "      <th>1</th>\n",
              "      <td>0.245283</td>\n",
              "      <td>0.4</td>\n",
              "      <td>0.963115</td>\n",
              "    </tr>\n",
              "    <tr>\n",
              "      <th>2</th>\n",
              "      <td>0.433962</td>\n",
              "      <td>0.6</td>\n",
              "      <td>0.954918</td>\n",
              "    </tr>\n",
              "    <tr>\n",
              "      <th>3</th>\n",
              "      <td>0.245283</td>\n",
              "      <td>0.8</td>\n",
              "      <td>0.657787</td>\n",
              "    </tr>\n",
              "    <tr>\n",
              "      <th>4</th>\n",
              "      <td>0.396226</td>\n",
              "      <td>0.8</td>\n",
              "      <td>0.889344</td>\n",
              "    </tr>\n",
              "    <tr>\n",
              "      <th>...</th>\n",
              "      <td>...</td>\n",
              "      <td>...</td>\n",
              "      <td>...</td>\n",
              "    </tr>\n",
              "    <tr>\n",
              "      <th>99</th>\n",
              "      <td>0.169811</td>\n",
              "      <td>0.2</td>\n",
              "      <td>0.000000</td>\n",
              "    </tr>\n",
              "    <tr>\n",
              "      <th>100</th>\n",
              "      <td>0.018868</td>\n",
              "      <td>0.2</td>\n",
              "      <td>0.000000</td>\n",
              "    </tr>\n",
              "    <tr>\n",
              "      <th>101</th>\n",
              "      <td>0.132075</td>\n",
              "      <td>0.4</td>\n",
              "      <td>0.000000</td>\n",
              "    </tr>\n",
              "    <tr>\n",
              "      <th>102</th>\n",
              "      <td>0.037736</td>\n",
              "      <td>0.0</td>\n",
              "      <td>0.000000</td>\n",
              "    </tr>\n",
              "    <tr>\n",
              "      <th>103</th>\n",
              "      <td>0.584906</td>\n",
              "      <td>0.6</td>\n",
              "      <td>0.000000</td>\n",
              "    </tr>\n",
              "  </tbody>\n",
              "</table>\n",
              "<p>104 rows × 3 columns</p>\n",
              "</div>\n",
              "      <button class=\"colab-df-convert\" onclick=\"convertToInteractive('df-3fece306-836c-422c-b4e0-5d279152d21c')\"\n",
              "              title=\"Convert this dataframe to an interactive table.\"\n",
              "              style=\"display:none;\">\n",
              "        \n",
              "  <svg xmlns=\"http://www.w3.org/2000/svg\" height=\"24px\"viewBox=\"0 0 24 24\"\n",
              "       width=\"24px\">\n",
              "    <path d=\"M0 0h24v24H0V0z\" fill=\"none\"/>\n",
              "    <path d=\"M18.56 5.44l.94 2.06.94-2.06 2.06-.94-2.06-.94-.94-2.06-.94 2.06-2.06.94zm-11 1L8.5 8.5l.94-2.06 2.06-.94-2.06-.94L8.5 2.5l-.94 2.06-2.06.94zm10 10l.94 2.06.94-2.06 2.06-.94-2.06-.94-.94-2.06-.94 2.06-2.06.94z\"/><path d=\"M17.41 7.96l-1.37-1.37c-.4-.4-.92-.59-1.43-.59-.52 0-1.04.2-1.43.59L10.3 9.45l-7.72 7.72c-.78.78-.78 2.05 0 2.83L4 21.41c.39.39.9.59 1.41.59.51 0 1.02-.2 1.41-.59l7.78-7.78 2.81-2.81c.8-.78.8-2.07 0-2.86zM5.41 20L4 18.59l7.72-7.72 1.47 1.35L5.41 20z\"/>\n",
              "  </svg>\n",
              "      </button>\n",
              "      \n",
              "  <style>\n",
              "    .colab-df-container {\n",
              "      display:flex;\n",
              "      flex-wrap:wrap;\n",
              "      gap: 12px;\n",
              "    }\n",
              "\n",
              "    .colab-df-convert {\n",
              "      background-color: #E8F0FE;\n",
              "      border: none;\n",
              "      border-radius: 50%;\n",
              "      cursor: pointer;\n",
              "      display: none;\n",
              "      fill: #1967D2;\n",
              "      height: 32px;\n",
              "      padding: 0 0 0 0;\n",
              "      width: 32px;\n",
              "    }\n",
              "\n",
              "    .colab-df-convert:hover {\n",
              "      background-color: #E2EBFA;\n",
              "      box-shadow: 0px 1px 2px rgba(60, 64, 67, 0.3), 0px 1px 3px 1px rgba(60, 64, 67, 0.15);\n",
              "      fill: #174EA6;\n",
              "    }\n",
              "\n",
              "    [theme=dark] .colab-df-convert {\n",
              "      background-color: #3B4455;\n",
              "      fill: #D2E3FC;\n",
              "    }\n",
              "\n",
              "    [theme=dark] .colab-df-convert:hover {\n",
              "      background-color: #434B5C;\n",
              "      box-shadow: 0px 1px 3px 1px rgba(0, 0, 0, 0.15);\n",
              "      filter: drop-shadow(0px 1px 2px rgba(0, 0, 0, 0.3));\n",
              "      fill: #FFFFFF;\n",
              "    }\n",
              "  </style>\n",
              "\n",
              "      <script>\n",
              "        const buttonEl =\n",
              "          document.querySelector('#df-3fece306-836c-422c-b4e0-5d279152d21c button.colab-df-convert');\n",
              "        buttonEl.style.display =\n",
              "          google.colab.kernel.accessAllowed ? 'block' : 'none';\n",
              "\n",
              "        async function convertToInteractive(key) {\n",
              "          const element = document.querySelector('#df-3fece306-836c-422c-b4e0-5d279152d21c');\n",
              "          const dataTable =\n",
              "            await google.colab.kernel.invokeFunction('convertToInteractive',\n",
              "                                                     [key], {});\n",
              "          if (!dataTable) return;\n",
              "\n",
              "          const docLinkHtml = 'Like what you see? Visit the ' +\n",
              "            '<a target=\"_blank\" href=https://colab.research.google.com/notebooks/data_table.ipynb>data table notebook</a>'\n",
              "            + ' to learn more about interactive tables.';\n",
              "          element.innerHTML = '';\n",
              "          dataTable['output_type'] = 'display_data';\n",
              "          await google.colab.output.renderOutput(dataTable, element);\n",
              "          const docLink = document.createElement('div');\n",
              "          docLink.innerHTML = docLinkHtml;\n",
              "          element.appendChild(docLink);\n",
              "        }\n",
              "      </script>\n",
              "    </div>\n",
              "  </div>\n",
              "  "
            ]
          },
          "metadata": {},
          "execution_count": 94
        }
      ]
    },
    {
      "cell_type": "code",
      "source": [],
      "metadata": {
        "id": "FnNNke_6rUU6"
      },
      "execution_count": null,
      "outputs": []
    }
  ]
}